{
 "cells": [
  {
   "cell_type": "code",
   "execution_count": 1,
   "id": "bec5382b-1a6b-4060-9279-30abf815936c",
   "metadata": {},
   "outputs": [],
   "source": [
    "#importing all required libraries\n",
    "import pandas as pd\n",
    "import numpy as np\n",
    "import matplotlib as plt"
   ]
  },
  {
   "cell_type": "code",
   "execution_count": 2,
   "id": "2e265727-9c08-4bcd-8ca0-81c2dbcc8d78",
   "metadata": {},
   "outputs": [
    {
     "name": "stdout",
     "output_type": "stream",
     "text": [
      "C:\\Users\\Mirko\\Desktop\\Data_Science\\IH_Notebooks\\lab-eda-univariate-Mirko\n"
     ]
    }
   ],
   "source": [
    "import os\n",
    "print(os.getcwd())  # This will print your current working directory"
   ]
  },
  {
   "cell_type": "code",
   "execution_count": 3,
   "id": "5bd4a74a-df60-4b7b-b8bc-aac7c0ac7553",
   "metadata": {},
   "outputs": [],
   "source": [
    "data = pd.read_csv('/Users/Mirko/Desktop/Data_Science/IH_Notebooks/lab-eda-univariate-Mirko/amz_uk_price_prediction_dataset.csv')\n",
    "df = data.copy()"
   ]
  },
  {
   "cell_type": "code",
   "execution_count": 4,
   "id": "765f486b-c149-4f34-a281-553587385578",
   "metadata": {},
   "outputs": [
    {
     "data": {
      "text/html": [
       "<div>\n",
       "<style scoped>\n",
       "    .dataframe tbody tr th:only-of-type {\n",
       "        vertical-align: middle;\n",
       "    }\n",
       "\n",
       "    .dataframe tbody tr th {\n",
       "        vertical-align: top;\n",
       "    }\n",
       "\n",
       "    .dataframe thead th {\n",
       "        text-align: right;\n",
       "    }\n",
       "</style>\n",
       "<table border=\"1\" class=\"dataframe\">\n",
       "  <thead>\n",
       "    <tr style=\"text-align: right;\">\n",
       "      <th></th>\n",
       "      <th>uid</th>\n",
       "      <th>asin</th>\n",
       "      <th>title</th>\n",
       "      <th>stars</th>\n",
       "      <th>reviews</th>\n",
       "      <th>price</th>\n",
       "      <th>isBestSeller</th>\n",
       "      <th>boughtInLastMonth</th>\n",
       "      <th>category</th>\n",
       "    </tr>\n",
       "  </thead>\n",
       "  <tbody>\n",
       "    <tr>\n",
       "      <th>0</th>\n",
       "      <td>1</td>\n",
       "      <td>B09B96TG33</td>\n",
       "      <td>Echo Dot (5th generation, 2022 release) | Big ...</td>\n",
       "      <td>4.7</td>\n",
       "      <td>15308</td>\n",
       "      <td>21.99</td>\n",
       "      <td>False</td>\n",
       "      <td>0</td>\n",
       "      <td>Hi-Fi Speakers</td>\n",
       "    </tr>\n",
       "    <tr>\n",
       "      <th>1</th>\n",
       "      <td>2</td>\n",
       "      <td>B01HTH3C8S</td>\n",
       "      <td>Anker Soundcore mini, Super-Portable Bluetooth...</td>\n",
       "      <td>4.7</td>\n",
       "      <td>98099</td>\n",
       "      <td>23.99</td>\n",
       "      <td>True</td>\n",
       "      <td>0</td>\n",
       "      <td>Hi-Fi Speakers</td>\n",
       "    </tr>\n",
       "    <tr>\n",
       "      <th>2</th>\n",
       "      <td>3</td>\n",
       "      <td>B09B8YWXDF</td>\n",
       "      <td>Echo Dot (5th generation, 2022 release) | Big ...</td>\n",
       "      <td>4.7</td>\n",
       "      <td>15308</td>\n",
       "      <td>21.99</td>\n",
       "      <td>False</td>\n",
       "      <td>0</td>\n",
       "      <td>Hi-Fi Speakers</td>\n",
       "    </tr>\n",
       "    <tr>\n",
       "      <th>3</th>\n",
       "      <td>4</td>\n",
       "      <td>B09B8T5VGV</td>\n",
       "      <td>Echo Dot with clock (5th generation, 2022 rele...</td>\n",
       "      <td>4.7</td>\n",
       "      <td>7205</td>\n",
       "      <td>31.99</td>\n",
       "      <td>False</td>\n",
       "      <td>0</td>\n",
       "      <td>Hi-Fi Speakers</td>\n",
       "    </tr>\n",
       "    <tr>\n",
       "      <th>4</th>\n",
       "      <td>5</td>\n",
       "      <td>B09WX6QD65</td>\n",
       "      <td>Introducing Echo Pop | Full sound compact Wi-F...</td>\n",
       "      <td>4.6</td>\n",
       "      <td>1881</td>\n",
       "      <td>17.99</td>\n",
       "      <td>False</td>\n",
       "      <td>0</td>\n",
       "      <td>Hi-Fi Speakers</td>\n",
       "    </tr>\n",
       "  </tbody>\n",
       "</table>\n",
       "</div>"
      ],
      "text/plain": [
       "   uid        asin                                              title  stars  \\\n",
       "0    1  B09B96TG33  Echo Dot (5th generation, 2022 release) | Big ...    4.7   \n",
       "1    2  B01HTH3C8S  Anker Soundcore mini, Super-Portable Bluetooth...    4.7   \n",
       "2    3  B09B8YWXDF  Echo Dot (5th generation, 2022 release) | Big ...    4.7   \n",
       "3    4  B09B8T5VGV  Echo Dot with clock (5th generation, 2022 rele...    4.7   \n",
       "4    5  B09WX6QD65  Introducing Echo Pop | Full sound compact Wi-F...    4.6   \n",
       "\n",
       "   reviews  price  isBestSeller  boughtInLastMonth        category  \n",
       "0    15308  21.99         False                  0  Hi-Fi Speakers  \n",
       "1    98099  23.99          True                  0  Hi-Fi Speakers  \n",
       "2    15308  21.99         False                  0  Hi-Fi Speakers  \n",
       "3     7205  31.99         False                  0  Hi-Fi Speakers  \n",
       "4     1881  17.99         False                  0  Hi-Fi Speakers  "
      ]
     },
     "execution_count": 4,
     "metadata": {},
     "output_type": "execute_result"
    }
   ],
   "source": [
    "df.head()"
   ]
  },
  {
   "cell_type": "code",
   "execution_count": 5,
   "id": "d3114568-3292-42da-8092-cf615129cbee",
   "metadata": {},
   "outputs": [
    {
     "data": {
      "text/plain": [
       "(2443651, 9)"
      ]
     },
     "execution_count": 5,
     "metadata": {},
     "output_type": "execute_result"
    }
   ],
   "source": [
    "df.shape"
   ]
  },
  {
   "cell_type": "code",
   "execution_count": 6,
   "id": "0cc100fd-09e8-4e3b-8717-3a83b6209a2c",
   "metadata": {},
   "outputs": [
    {
     "name": "stdout",
     "output_type": "stream",
     "text": [
      "<class 'pandas.core.frame.DataFrame'>\n",
      "RangeIndex: 2443651 entries, 0 to 2443650\n",
      "Data columns (total 9 columns):\n",
      " #   Column             Dtype  \n",
      "---  ------             -----  \n",
      " 0   uid                int64  \n",
      " 1   asin               object \n",
      " 2   title              object \n",
      " 3   stars              float64\n",
      " 4   reviews            int64  \n",
      " 5   price              float64\n",
      " 6   isBestSeller       bool   \n",
      " 7   boughtInLastMonth  int64  \n",
      " 8   category           object \n",
      "dtypes: bool(1), float64(2), int64(3), object(3)\n",
      "memory usage: 151.5+ MB\n"
     ]
    }
   ],
   "source": [
    "df.info()"
   ]
  },
  {
   "cell_type": "code",
   "execution_count": 7,
   "id": "5e39578b-332d-4a89-894e-0bcaa035c646",
   "metadata": {},
   "outputs": [
    {
     "data": {
      "text/plain": [
       "0          15308\n",
       "1          98099\n",
       "2          15308\n",
       "3           7205\n",
       "4           1881\n",
       "           ...  \n",
       "2443646        0\n",
       "2443647        0\n",
       "2443648        0\n",
       "2443649      404\n",
       "2443650       34\n",
       "Name: reviews, Length: 2443651, dtype: int64"
      ]
     },
     "execution_count": 7,
     "metadata": {},
     "output_type": "execute_result"
    }
   ],
   "source": [
    "df[\"reviews\"].astype(int)"
   ]
  },
  {
   "cell_type": "markdown",
   "id": "2938d74a-7d4a-4ec4-9f29-d1d4081498d7",
   "metadata": {},
   "source": [
    "Looking into the df we can see we have much information.\n",
    "Data is divided into 9 columns.\n",
    "\n",
    "To allow myself to also run some measurements for the reviews column I decided to cast the column as an int rather than keeping it as str.\n",
    "\n",
    "I'm now going to proceed with creating the frequency table."
   ]
  },
  {
   "cell_type": "code",
   "execution_count": 8,
   "id": "f8ec7b61-11a4-445b-9e43-6a593f29d719",
   "metadata": {},
   "outputs": [],
   "source": [
    "num = df.select_dtypes(include=\"number\")\n",
    "cat = df.select_dtypes(exclude=\"number\")"
   ]
  },
  {
   "cell_type": "code",
   "execution_count": 9,
   "id": "6f3d6b0d-d698-4552-b545-d87782af97c7",
   "metadata": {},
   "outputs": [
    {
     "data": {
      "text/plain": [
       "Index(['uid', 'stars', 'reviews', 'price', 'boughtInLastMonth'], dtype='object')"
      ]
     },
     "execution_count": 9,
     "metadata": {},
     "output_type": "execute_result"
    }
   ],
   "source": [
    "num.columns"
   ]
  },
  {
   "cell_type": "code",
   "execution_count": 10,
   "id": "977a6170-dfe2-4c20-8171-97e785629776",
   "metadata": {},
   "outputs": [
    {
     "data": {
      "text/plain": [
       "Index(['asin', 'title', 'isBestSeller', 'category'], dtype='object')"
      ]
     },
     "execution_count": 10,
     "metadata": {},
     "output_type": "execute_result"
    }
   ],
   "source": [
    "cat.columns"
   ]
  },
  {
   "cell_type": "code",
   "execution_count": 11,
   "id": "567d2d6c-1c6a-4de8-afdf-15b251793fc6",
   "metadata": {},
   "outputs": [
    {
     "data": {
      "text/plain": [
       "category\n",
       "Sports & Outdoors                         836265\n",
       "Beauty                                     19312\n",
       "Handmade Clothing, Shoes & Accessories     19229\n",
       "Bath & Body                                19092\n",
       "Birthday Gifts                             18978\n",
       "                                           ...  \n",
       "Motorbike Chassis                            107\n",
       "Alexa Built-In Devices                       107\n",
       "Plugs                                        107\n",
       "Smart Home Security & Lighting               104\n",
       "Smart Speakers                                54\n",
       "Name: count, Length: 296, dtype: int64"
      ]
     },
     "execution_count": 11,
     "metadata": {},
     "output_type": "execute_result"
    }
   ],
   "source": [
    "frequency_table = cat[\"category\"].value_counts()\n",
    "frequency_table"
   ]
  },
  {
   "cell_type": "markdown",
   "id": "9c72d432-a2a8-4ec0-b066-5745faf12071",
   "metadata": {},
   "source": [
    "The frequency table has just too much information for me to work with.\n",
    "For this reason I'm going to extend this to only best sellers."
   ]
  },
  {
   "cell_type": "code",
   "execution_count": 12,
   "id": "401d079e-81e9-4356-80c0-f0ff5aedef26",
   "metadata": {},
   "outputs": [
    {
     "data": {
      "text/html": [
       "<div>\n",
       "<style scoped>\n",
       "    .dataframe tbody tr th:only-of-type {\n",
       "        vertical-align: middle;\n",
       "    }\n",
       "\n",
       "    .dataframe tbody tr th {\n",
       "        vertical-align: top;\n",
       "    }\n",
       "\n",
       "    .dataframe thead th {\n",
       "        text-align: right;\n",
       "    }\n",
       "</style>\n",
       "<table border=\"1\" class=\"dataframe\">\n",
       "  <thead>\n",
       "    <tr style=\"text-align: right;\">\n",
       "      <th></th>\n",
       "      <th>uid</th>\n",
       "      <th>asin</th>\n",
       "      <th>title</th>\n",
       "      <th>stars</th>\n",
       "      <th>reviews</th>\n",
       "      <th>price</th>\n",
       "      <th>isBestSeller</th>\n",
       "      <th>boughtInLastMonth</th>\n",
       "      <th>category</th>\n",
       "    </tr>\n",
       "  </thead>\n",
       "  <tbody>\n",
       "    <tr>\n",
       "      <th>1</th>\n",
       "      <td>2</td>\n",
       "      <td>B01HTH3C8S</td>\n",
       "      <td>Anker Soundcore mini, Super-Portable Bluetooth...</td>\n",
       "      <td>4.7</td>\n",
       "      <td>98099</td>\n",
       "      <td>23.99</td>\n",
       "      <td>True</td>\n",
       "      <td>0</td>\n",
       "      <td>Hi-Fi Speakers</td>\n",
       "    </tr>\n",
       "    <tr>\n",
       "      <th>15</th>\n",
       "      <td>16</td>\n",
       "      <td>B09B97BPSW</td>\n",
       "      <td>Echo Dot Kids (5th generation, 2022 release) |...</td>\n",
       "      <td>4.6</td>\n",
       "      <td>1017</td>\n",
       "      <td>26.99</td>\n",
       "      <td>True</td>\n",
       "      <td>0</td>\n",
       "      <td>Hi-Fi Speakers</td>\n",
       "    </tr>\n",
       "    <tr>\n",
       "      <th>17</th>\n",
       "      <td>18</td>\n",
       "      <td>B09B8XRZYB</td>\n",
       "      <td>Echo Dot Kids (5th generation, 2022 release) |...</td>\n",
       "      <td>4.6</td>\n",
       "      <td>1017</td>\n",
       "      <td>26.99</td>\n",
       "      <td>True</td>\n",
       "      <td>0</td>\n",
       "      <td>Hi-Fi Speakers</td>\n",
       "    </tr>\n",
       "    <tr>\n",
       "      <th>36</th>\n",
       "      <td>37</td>\n",
       "      <td>B08L84ST93</td>\n",
       "      <td>Bose Solo Soundbar Series II - TV Speaker with...</td>\n",
       "      <td>4.6</td>\n",
       "      <td>2799</td>\n",
       "      <td>169.00</td>\n",
       "      <td>True</td>\n",
       "      <td>0</td>\n",
       "      <td>Hi-Fi Speakers</td>\n",
       "    </tr>\n",
       "    <tr>\n",
       "      <th>55</th>\n",
       "      <td>56</td>\n",
       "      <td>B08CMJ2YZX</td>\n",
       "      <td>Sanyun SW208 3\" Active Bluetooth 5.0 Bookshelf...</td>\n",
       "      <td>4.4</td>\n",
       "      <td>974</td>\n",
       "      <td>59.49</td>\n",
       "      <td>True</td>\n",
       "      <td>0</td>\n",
       "      <td>Hi-Fi Speakers</td>\n",
       "    </tr>\n",
       "    <tr>\n",
       "      <th>...</th>\n",
       "      <td>...</td>\n",
       "      <td>...</td>\n",
       "      <td>...</td>\n",
       "      <td>...</td>\n",
       "      <td>...</td>\n",
       "      <td>...</td>\n",
       "      <td>...</td>\n",
       "      <td>...</td>\n",
       "      <td>...</td>\n",
       "    </tr>\n",
       "    <tr>\n",
       "      <th>2434712</th>\n",
       "      <td>2815504</td>\n",
       "      <td>B07G72RGNX</td>\n",
       "      <td>TACVASEN Men's Waterproof Fleece Mountain Jack...</td>\n",
       "      <td>4.5</td>\n",
       "      <td>4928</td>\n",
       "      <td>61.99</td>\n",
       "      <td>True</td>\n",
       "      <td>0</td>\n",
       "      <td>Snowboards</td>\n",
       "    </tr>\n",
       "    <tr>\n",
       "      <th>2434953</th>\n",
       "      <td>2815751</td>\n",
       "      <td>B08F7P4374</td>\n",
       "      <td>TACVASEN Men's Waterproof Fleece Mountain Jack...</td>\n",
       "      <td>4.5</td>\n",
       "      <td>4928</td>\n",
       "      <td>61.99</td>\n",
       "      <td>True</td>\n",
       "      <td>0</td>\n",
       "      <td>Snowboards</td>\n",
       "    </tr>\n",
       "    <tr>\n",
       "      <th>2435202</th>\n",
       "      <td>2816076</td>\n",
       "      <td>B07SF7Y2XM</td>\n",
       "      <td>POLYTE Plush Quick Dry Lint Free Microfibre Ba...</td>\n",
       "      <td>4.4</td>\n",
       "      <td>3779</td>\n",
       "      <td>24.99</td>\n",
       "      <td>True</td>\n",
       "      <td>0</td>\n",
       "      <td>Bathroom Linen</td>\n",
       "    </tr>\n",
       "    <tr>\n",
       "      <th>2440120</th>\n",
       "      <td>2822184</td>\n",
       "      <td>B0841XR4TK</td>\n",
       "      <td>PRO-SPIN Table Tennis Bat With Pro Carbon Fibr...</td>\n",
       "      <td>4.6</td>\n",
       "      <td>3781</td>\n",
       "      <td>42.99</td>\n",
       "      <td>True</td>\n",
       "      <td>100</td>\n",
       "      <td>Table Tennis</td>\n",
       "    </tr>\n",
       "    <tr>\n",
       "      <th>2443507</th>\n",
       "      <td>2828422</td>\n",
       "      <td>B07KSV2C3Z</td>\n",
       "      <td>RAXID Motorbike Storm Adventure Shoes Waterpro...</td>\n",
       "      <td>4.2</td>\n",
       "      <td>152</td>\n",
       "      <td>79.95</td>\n",
       "      <td>True</td>\n",
       "      <td>0</td>\n",
       "      <td>Motorbike Clothing</td>\n",
       "    </tr>\n",
       "  </tbody>\n",
       "</table>\n",
       "<p>7980 rows × 9 columns</p>\n",
       "</div>"
      ],
      "text/plain": [
       "             uid        asin  \\\n",
       "1              2  B01HTH3C8S   \n",
       "15            16  B09B97BPSW   \n",
       "17            18  B09B8XRZYB   \n",
       "36            37  B08L84ST93   \n",
       "55            56  B08CMJ2YZX   \n",
       "...          ...         ...   \n",
       "2434712  2815504  B07G72RGNX   \n",
       "2434953  2815751  B08F7P4374   \n",
       "2435202  2816076  B07SF7Y2XM   \n",
       "2440120  2822184  B0841XR4TK   \n",
       "2443507  2828422  B07KSV2C3Z   \n",
       "\n",
       "                                                     title  stars  reviews  \\\n",
       "1        Anker Soundcore mini, Super-Portable Bluetooth...    4.7    98099   \n",
       "15       Echo Dot Kids (5th generation, 2022 release) |...    4.6     1017   \n",
       "17       Echo Dot Kids (5th generation, 2022 release) |...    4.6     1017   \n",
       "36       Bose Solo Soundbar Series II - TV Speaker with...    4.6     2799   \n",
       "55       Sanyun SW208 3\" Active Bluetooth 5.0 Bookshelf...    4.4      974   \n",
       "...                                                    ...    ...      ...   \n",
       "2434712  TACVASEN Men's Waterproof Fleece Mountain Jack...    4.5     4928   \n",
       "2434953  TACVASEN Men's Waterproof Fleece Mountain Jack...    4.5     4928   \n",
       "2435202  POLYTE Plush Quick Dry Lint Free Microfibre Ba...    4.4     3779   \n",
       "2440120  PRO-SPIN Table Tennis Bat With Pro Carbon Fibr...    4.6     3781   \n",
       "2443507  RAXID Motorbike Storm Adventure Shoes Waterpro...    4.2      152   \n",
       "\n",
       "          price  isBestSeller  boughtInLastMonth            category  \n",
       "1         23.99          True                  0      Hi-Fi Speakers  \n",
       "15        26.99          True                  0      Hi-Fi Speakers  \n",
       "17        26.99          True                  0      Hi-Fi Speakers  \n",
       "36       169.00          True                  0      Hi-Fi Speakers  \n",
       "55        59.49          True                  0      Hi-Fi Speakers  \n",
       "...         ...           ...                ...                 ...  \n",
       "2434712   61.99          True                  0          Snowboards  \n",
       "2434953   61.99          True                  0          Snowboards  \n",
       "2435202   24.99          True                  0      Bathroom Linen  \n",
       "2440120   42.99          True                100        Table Tennis  \n",
       "2443507   79.95          True                  0  Motorbike Clothing  \n",
       "\n",
       "[7980 rows x 9 columns]"
      ]
     },
     "execution_count": 12,
     "metadata": {},
     "output_type": "execute_result"
    }
   ],
   "source": [
    "df_best_sellers = df.loc[(df[\"isBestSeller\"] == True)]\n",
    "df_best_sellers"
   ]
  },
  {
   "cell_type": "code",
   "execution_count": 13,
   "id": "184a531e-496e-477a-b6db-f93ec1251431",
   "metadata": {},
   "outputs": [
    {
     "data": {
      "text/plain": [
       "category\n",
       "Sports & Outdoors                         836265\n",
       "Beauty                                     19312\n",
       "Handmade Clothing, Shoes & Accessories     19229\n",
       "Bath & Body                                19092\n",
       "Birthday Gifts                             18978\n",
       "Name: count, dtype: int64"
      ]
     },
     "execution_count": 13,
     "metadata": {},
     "output_type": "execute_result"
    }
   ],
   "source": [
    "freq_best_sellers = df['category'].value_counts().head(5)\n",
    "freq_best_sellers"
   ]
  },
  {
   "cell_type": "code",
   "execution_count": 14,
   "id": "81d05318-2895-4f47-a89e-568d3db34879",
   "metadata": {},
   "outputs": [
    {
     "data": {
      "text/plain": [
       "category\n",
       "Sports & Outdoors                         0.34\n",
       "Beauty                                    0.01\n",
       "Handmade Clothing, Shoes & Accessories    0.01\n",
       "Bath & Body                               0.01\n",
       "Birthday Gifts                            0.01\n",
       "Name: proportion, dtype: float64"
      ]
     },
     "execution_count": 14,
     "metadata": {},
     "output_type": "execute_result"
    }
   ],
   "source": [
    "proportion_table = df['category'].value_counts(normalize= True).head(5).round(2)\n",
    "proportion_table"
   ]
  },
  {
   "cell_type": "code",
   "execution_count": 15,
   "id": "ed9e3351-05a5-4d6e-a6b0-f7b38673d43a",
   "metadata": {},
   "outputs": [],
   "source": [
    "total_absolute = freq_best_sellers.sum()\n",
    "total_relative = proportion_table.sum()"
   ]
  },
  {
   "cell_type": "code",
   "execution_count": 16,
   "id": "31aab3c3-441d-4916-9d31-e90192323102",
   "metadata": {},
   "outputs": [
    {
     "data": {
      "text/html": [
       "<div>\n",
       "<style scoped>\n",
       "    .dataframe tbody tr th:only-of-type {\n",
       "        vertical-align: middle;\n",
       "    }\n",
       "\n",
       "    .dataframe tbody tr th {\n",
       "        vertical-align: top;\n",
       "    }\n",
       "\n",
       "    .dataframe thead th {\n",
       "        text-align: right;\n",
       "    }\n",
       "</style>\n",
       "<table border=\"1\" class=\"dataframe\">\n",
       "  <thead>\n",
       "    <tr style=\"text-align: right;\">\n",
       "      <th></th>\n",
       "      <th>absolute_frequency</th>\n",
       "      <th>relative_frequency</th>\n",
       "    </tr>\n",
       "  </thead>\n",
       "  <tbody>\n",
       "    <tr>\n",
       "      <th>Total</th>\n",
       "      <td>912876</td>\n",
       "      <td>0.38</td>\n",
       "    </tr>\n",
       "  </tbody>\n",
       "</table>\n",
       "</div>"
      ],
      "text/plain": [
       "       absolute_frequency  relative_frequency\n",
       "Total              912876                0.38"
      ]
     },
     "execution_count": 16,
     "metadata": {},
     "output_type": "execute_result"
    }
   ],
   "source": [
    "total_row = pd.DataFrame({\n",
    "    'absolute_frequency': [total_absolute],\n",
    "    'relative_frequency': [total_relative]\n",
    "}, index= ['Total'])\n",
    "total_row"
   ]
  },
  {
   "cell_type": "code",
   "execution_count": 17,
   "id": "34020581-68f8-4d13-bac4-c0539e67d1bc",
   "metadata": {},
   "outputs": [
    {
     "data": {
      "image/png": "[encoded data removed]",
      "text/plain": [
       "<Figure size 1000x500 with 1 Axes>"
      ]
     },
     "metadata": {},
     "output_type": "display_data"
    }
   ],
   "source": [
    "import matplotlib.pyplot as plt\n",
    "\n",
    "freq_best_sellers = df['category'].value_counts().head(5)\n",
    "\n",
    "# Creating the bar chart\n",
    "plt.figure(figsize=(10, 5))\n",
    "freq_best_sellers.plot(kind='bar', color='blue')\n",
    "\n",
    "# Labels and title\n",
    "plt.xlabel(\"Categories\")\n",
    "plt.ylabel(\"Counts\")\n",
    "plt.title(\"Top 5 Most Listed Product Categories on Amazon UK\")\n",
    "\n",
    "# Rotate x-axis labels for better readability\n",
    "plt.xticks(rotation=45, ha='right')\n",
    "\n",
    "# Show the plot\n",
    "plt.show()\n"
   ]
  },
  {
   "cell_type": "markdown",
   "id": "1a18b852-054a-47d5-bdf2-a01f22265732",
   "metadata": {},
   "source": [
    "The above bar chart shows us that the category which has the highest listed count is **Sports & Outdoors**.\n",
    "This is also reflected by the fact that if we group the orders by category and we calculate the proportion table for the top 5 Sports & Outdoors is going to make up to the 34% of the overall listing of AMZ."
   ]
  },
  {
   "cell_type": "code",
   "execution_count": 18,
   "id": "597bfcd2-4b7f-47c9-b5af-3b7f6be69876",
   "metadata": {},
   "outputs": [
    {
     "data": {
      "image/png": "[encoded data removed]",
      "text/plain": [
       "<Figure size 800x800 with 1 Axes>"
      ]
     },
     "metadata": {},
     "output_type": "display_data"
    }
   ],
   "source": [
    "# Generate the frequency table dynamically\n",
    "freq_best_sellers = df['category'].value_counts().head(5)\n",
    "\n",
    "# Creating the pie chart\n",
    "plt.figure(figsize=(8, 8))\n",
    "freq_best_sellers.plot(kind='pie', autopct='%1.1f%%', colors=['blue', 'yellow', 'green', 'pink', 'orange'])\n",
    "\n",
    "# Title and display settings\n",
    "plt.title(\"Top 5 Most Listed Product Categories on Amazon UK\")\n",
    "plt.ylabel('')  # Hide y-axis label for better appearance\n",
    "\n",
    "# Show the plot\n",
    "plt.show()"
   ]
  },
  {
   "cell_type": "markdown",
   "id": "bfb2fd4e-56ae-4de9-8213-966abedebb35",
   "metadata": {},
   "source": [
    "The pie chart shows once again the distribution of listing among these top 5 categories.\n",
    "The pie chart doesn't show us more than the bar chart and therefore it's not a preferred method of data visualization."
   ]
  },
  {
   "cell_type": "markdown",
   "id": "1e231b13-bf18-4f62-b028-3c271337b975",
   "metadata": {},
   "source": [
    "I can now deep dive into Product Pricing analysis.\n",
    "\n",
    "The goals for this section are the following:\n",
    "\n",
    "- Measures of Centrality: Calculate mean, median, and mode for product prices.\n",
    "- Measures of Dispersion: Compute variance, standard deviation, range, and IQR.\n",
    "- Histogram: Display the distribution of product prices.\n",
    "- Box Plot: Identify potential outliers in pricing."
   ]
  },
  {
   "cell_type": "code",
   "execution_count": 19,
   "id": "cc0030a7-1d9c-41fc-a982-24932122b0d8",
   "metadata": {},
   "outputs": [
    {
     "data": {
      "text/plain": [
       "Index(['uid', 'asin', 'title', 'stars', 'reviews', 'price', 'isBestSeller',\n",
       "       'boughtInLastMonth', 'category'],\n",
       "      dtype='object')"
      ]
     },
     "execution_count": 19,
     "metadata": {},
     "output_type": "execute_result"
    }
   ],
   "source": [
    "df.columns"
   ]
  },
  {
   "cell_type": "code",
   "execution_count": 20,
   "id": "badd1973-e8cd-4345-9e26-b75453a1cda5",
   "metadata": {},
   "outputs": [
    {
     "data": {
      "text/plain": [
       "np.float64(89.24380943923663)"
      ]
     },
     "execution_count": 20,
     "metadata": {},
     "output_type": "execute_result"
    }
   ],
   "source": [
    "mean_price = df['price'].mean()\n",
    "mean_price"
   ]
  },
  {
   "cell_type": "code",
   "execution_count": 21,
   "id": "e4dff4a8-56fa-499c-b591-f9b0039f9483",
   "metadata": {},
   "outputs": [
    {
     "data": {
      "text/plain": [
       "np.float64(19.09)"
      ]
     },
     "execution_count": 21,
     "metadata": {},
     "output_type": "execute_result"
    }
   ],
   "source": [
    "median_price = df['price'].median()\n",
    "median_price"
   ]
  },
  {
   "cell_type": "code",
   "execution_count": 22,
   "id": "79c9d294-f9e5-4e61-9ebe-a990a1acb2c6",
   "metadata": {},
   "outputs": [
    {
     "data": {
      "text/plain": [
       "0    9.99\n",
       "Name: price, dtype: float64"
      ]
     },
     "execution_count": 22,
     "metadata": {},
     "output_type": "execute_result"
    }
   ],
   "source": [
    "mode_price = df['price'].mode()\n",
    "mode_price"
   ]
  },
  {
   "cell_type": "markdown",
   "id": "80333550-3374-46aa-9345-1dfa7b37f1ab",
   "metadata": {},
   "source": [
    "After reviewing the mean price and the mode we can see that the results are the following:\n",
    "\n",
    "- **mean_price** = 89\n",
    "- **mode_price** = 10"
   ]
  },
  {
   "cell_type": "code",
   "execution_count": 23,
   "id": "d81766cf-60ab-414a-8018-323342af9e4a",
   "metadata": {},
   "outputs": [
    {
     "data": {
      "text/plain": [
       "np.float64(345.60886175349884)"
      ]
     },
     "execution_count": 23,
     "metadata": {},
     "output_type": "execute_result"
    }
   ],
   "source": [
    "std_price = df['price'].std()\n",
    "std_price"
   ]
  },
  {
   "cell_type": "code",
   "execution_count": 24,
   "id": "4469e227-ddd3-4b32-b5ef-b993d8f5cd6c",
   "metadata": {},
   "outputs": [
    {
     "data": {
      "text/plain": [
       "np.float64(119445.48532254907)"
      ]
     },
     "execution_count": 24,
     "metadata": {},
     "output_type": "execute_result"
    }
   ],
   "source": [
    "var_price = df['price'].var()\n",
    "var_price"
   ]
  },
  {
   "cell_type": "code",
   "execution_count": 25,
   "id": "c66d30dc-ff42-4dcc-822d-bb18ca51b9cb",
   "metadata": {},
   "outputs": [
    {
     "data": {
      "text/html": [
       "<div>\n",
       "<style scoped>\n",
       "    .dataframe tbody tr th:only-of-type {\n",
       "        vertical-align: middle;\n",
       "    }\n",
       "\n",
       "    .dataframe tbody tr th {\n",
       "        vertical-align: top;\n",
       "    }\n",
       "\n",
       "    .dataframe thead th {\n",
       "        text-align: right;\n",
       "    }\n",
       "</style>\n",
       "<table border=\"1\" class=\"dataframe\">\n",
       "  <thead>\n",
       "    <tr style=\"text-align: right;\">\n",
       "      <th></th>\n",
       "      <th>count</th>\n",
       "      <th>mean</th>\n",
       "      <th>std</th>\n",
       "      <th>min</th>\n",
       "      <th>25%</th>\n",
       "      <th>50%</th>\n",
       "      <th>75%</th>\n",
       "      <th>max</th>\n",
       "    </tr>\n",
       "  </thead>\n",
       "  <tbody>\n",
       "    <tr>\n",
       "      <th>uid</th>\n",
       "      <td>2443651.0</td>\n",
       "      <td>1.370545e+06</td>\n",
       "      <td>816056.169852</td>\n",
       "      <td>1.0</td>\n",
       "      <td>658921.50</td>\n",
       "      <td>1349029.00</td>\n",
       "      <td>2060685.50</td>\n",
       "      <td>2828593.0</td>\n",
       "    </tr>\n",
       "    <tr>\n",
       "      <th>stars</th>\n",
       "      <td>2443651.0</td>\n",
       "      <td>2.152836e+00</td>\n",
       "      <td>2.194865</td>\n",
       "      <td>0.0</td>\n",
       "      <td>0.00</td>\n",
       "      <td>0.00</td>\n",
       "      <td>4.40</td>\n",
       "      <td>5.0</td>\n",
       "    </tr>\n",
       "    <tr>\n",
       "      <th>reviews</th>\n",
       "      <td>2443651.0</td>\n",
       "      <td>4.806278e+02</td>\n",
       "      <td>5944.124151</td>\n",
       "      <td>0.0</td>\n",
       "      <td>0.00</td>\n",
       "      <td>0.00</td>\n",
       "      <td>59.00</td>\n",
       "      <td>1356658.0</td>\n",
       "    </tr>\n",
       "    <tr>\n",
       "      <th>price</th>\n",
       "      <td>2443651.0</td>\n",
       "      <td>8.924381e+01</td>\n",
       "      <td>345.608862</td>\n",
       "      <td>0.0</td>\n",
       "      <td>9.99</td>\n",
       "      <td>19.09</td>\n",
       "      <td>45.99</td>\n",
       "      <td>100000.0</td>\n",
       "    </tr>\n",
       "    <tr>\n",
       "      <th>boughtInLastMonth</th>\n",
       "      <td>2443651.0</td>\n",
       "      <td>2.589699e+01</td>\n",
       "      <td>240.483727</td>\n",
       "      <td>0.0</td>\n",
       "      <td>0.00</td>\n",
       "      <td>0.00</td>\n",
       "      <td>0.00</td>\n",
       "      <td>50000.0</td>\n",
       "    </tr>\n",
       "  </tbody>\n",
       "</table>\n",
       "</div>"
      ],
      "text/plain": [
       "                       count          mean            std  min        25%  \\\n",
       "uid                2443651.0  1.370545e+06  816056.169852  1.0  658921.50   \n",
       "stars              2443651.0  2.152836e+00       2.194865  0.0       0.00   \n",
       "reviews            2443651.0  4.806278e+02    5944.124151  0.0       0.00   \n",
       "price              2443651.0  8.924381e+01     345.608862  0.0       9.99   \n",
       "boughtInLastMonth  2443651.0  2.589699e+01     240.483727  0.0       0.00   \n",
       "\n",
       "                          50%         75%        max  \n",
       "uid                1349029.00  2060685.50  2828593.0  \n",
       "stars                    0.00        4.40        5.0  \n",
       "reviews                  0.00       59.00  1356658.0  \n",
       "price                   19.09       45.99   100000.0  \n",
       "boughtInLastMonth        0.00        0.00    50000.0  "
      ]
     },
     "execution_count": 25,
     "metadata": {},
     "output_type": "execute_result"
    }
   ],
   "source": [
    "df.describe().T"
   ]
  },
  {
   "cell_type": "code",
   "execution_count": 26,
   "id": "876c68b9-ed00-4da8-bd36-613749c8828e",
   "metadata": {},
   "outputs": [
    {
     "data": {
      "text/plain": [
       "np.float64(100000.0)"
      ]
     },
     "execution_count": 26,
     "metadata": {},
     "output_type": "execute_result"
    }
   ],
   "source": [
    "range_price = df['price'].max() - df['price'].min()\n",
    "range_price"
   ]
  },
  {
   "cell_type": "code",
   "execution_count": 27,
   "id": "50d5e150-d879-479b-b24b-80482c80b9ec",
   "metadata": {},
   "outputs": [
    {
     "data": {
      "text/plain": [
       "np.float64(36.0)"
      ]
     },
     "execution_count": 27,
     "metadata": {},
     "output_type": "execute_result"
    }
   ],
   "source": [
    "Q1 = df['price'].quantile(0.25)\n",
    "Q3 = df['price'].quantile(0.75)\n",
    "IQR = Q3 - Q1\n",
    "IQR"
   ]
  },
  {
   "cell_type": "markdown",
   "id": "a7398564-6164-4e8f-bafd-bf6dbfea0692",
   "metadata": {},
   "source": [
    "After reviewing the standard deviation, min and max price we can confirm the following:\n",
    "\n",
    "- **max_price** = 100.000\n",
    "- **min_price** = 0.0\n",
    "- **std_price** = 345.6\n",
    "\n",
    "The **variance** is quite high and it indicates that the price can be very different depending on the products."
   ]
  },
  {
   "cell_type": "code",
   "execution_count": 28,
   "id": "3ea19f0b-614d-4ae4-9c90-7d5bfb467bf1",
   "metadata": {},
   "outputs": [
    {
     "name": "stdout",
     "output_type": "stream",
     "text": [
      "Requirement already satisfied: seaborn in c:\\users\\mirko\\appdata\\local\\programs\\python\\python313\\lib\\site-packages (0.13.2)\n",
      "Requirement already satisfied: numpy!=1.24.0,>=1.20 in c:\\users\\mirko\\appdata\\local\\programs\\python\\python313\\lib\\site-packages (from seaborn) (2.2.3)\n",
      "Requirement already satisfied: pandas>=1.2 in c:\\users\\mirko\\appdata\\local\\programs\\python\\python313\\lib\\site-packages (from seaborn) (2.2.3)\n",
      "Requirement already satisfied: matplotlib!=3.6.1,>=3.4 in c:\\users\\mirko\\appdata\\local\\programs\\python\\python313\\lib\\site-packages (from seaborn) (3.10.0)\n",
      "Requirement already satisfied: contourpy>=1.0.1 in c:\\users\\mirko\\appdata\\local\\programs\\python\\python313\\lib\\site-packages (from matplotlib!=3.6.1,>=3.4->seaborn) (1.3.1)\n",
      "Requirement already satisfied: cycler>=0.10 in c:\\users\\mirko\\appdata\\local\\programs\\python\\python313\\lib\\site-packages (from matplotlib!=3.6.1,>=3.4->seaborn) (0.12.1)\n",
      "Requirement already satisfied: fonttools>=4.22.0 in c:\\users\\mirko\\appdata\\local\\programs\\python\\python313\\lib\\site-packages (from matplotlib!=3.6.1,>=3.4->seaborn) (4.56.0)\n",
      "Requirement already satisfied: kiwisolver>=1.3.1 in c:\\users\\mirko\\appdata\\local\\programs\\python\\python313\\lib\\site-packages (from matplotlib!=3.6.1,>=3.4->seaborn) (1.4.8)\n",
      "Requirement already satisfied: packaging>=20.0 in c:\\users\\mirko\\appdata\\local\\programs\\python\\python313\\lib\\site-packages (from matplotlib!=3.6.1,>=3.4->seaborn) (24.2)\n",
      "Requirement already satisfied: pillow>=8 in c:\\users\\mirko\\appdata\\local\\programs\\python\\python313\\lib\\site-packages (from matplotlib!=3.6.1,>=3.4->seaborn) (11.1.0)\n",
      "Requirement already satisfied: pyparsing>=2.3.1 in c:\\users\\mirko\\appdata\\local\\programs\\python\\python313\\lib\\site-packages (from matplotlib!=3.6.1,>=3.4->seaborn) (3.2.1)\n",
      "Requirement already satisfied: python-dateutil>=2.7 in c:\\users\\mirko\\appdata\\local\\programs\\python\\python313\\lib\\site-packages (from matplotlib!=3.6.1,>=3.4->seaborn) (2.9.0.post0)\n",
      "Requirement already satisfied: pytz>=2020.1 in c:\\users\\mirko\\appdata\\local\\programs\\python\\python313\\lib\\site-packages (from pandas>=1.2->seaborn) (2025.1)\n",
      "Requirement already satisfied: tzdata>=2022.7 in c:\\users\\mirko\\appdata\\local\\programs\\python\\python313\\lib\\site-packages (from pandas>=1.2->seaborn) (2025.1)\n",
      "Requirement already satisfied: six>=1.5 in c:\\users\\mirko\\appdata\\local\\programs\\python\\python313\\lib\\site-packages (from python-dateutil>=2.7->matplotlib!=3.6.1,>=3.4->seaborn) (1.17.0)\n"
     ]
    }
   ],
   "source": [
    "!pip install seaborn"
   ]
  },
  {
   "cell_type": "code",
   "execution_count": 29,
   "id": "3761ae67-f09f-4dfc-8e53-bf89b19f9c2d",
   "metadata": {},
   "outputs": [
    {
     "data": {
      "image/png": "[encoded data removed]",
      "text/plain": [
       "<Figure size 640x480 with 1 Axes>"
      ]
     },
     "metadata": {},
     "output_type": "display_data"
    }
   ],
   "source": [
    "import seaborn as sns\n",
    "\n",
    "sns.histplot(df_best_sellers.price, bins=2)\n",
    "plt.title(\"Price Distribution of Best-Selling Products on Amazon UK\")\n",
    "plt.show()"
   ]
  },
  {
   "cell_type": "code",
   "execution_count": 30,
   "id": "ca3a7208-b399-4fb6-8345-7701497ef405",
   "metadata": {},
   "outputs": [
    {
     "data": {
      "image/png": "[encoded data removed]",
      "text/plain": [
       "<Figure size 640x480 with 1 Axes>"
      ]
     },
     "metadata": {},
     "output_type": "display_data"
    }
   ],
   "source": [
    "sns.boxplot(data=df_best_sellers.price)\n",
    "plt.title(\"Price Distribution of Best-Selling Products on Amazon UK\")\n",
    "plt.show()"
   ]
  },
  {
   "cell_type": "markdown",
   "id": "025f891a-cbe2-4f2a-a3ab-4553b2e11bdf",
   "metadata": {},
   "source": [
    "Looking into the boxplots it's clear that the vast majority of items offered on the Amazon website has a very similar price below to 400.\n",
    "The products which are above this price are treated as **outliers**."
   ]
  },
  {
   "cell_type": "code",
   "execution_count": 31,
   "id": "3bd7419b-651d-4e82-a47f-885dedbe6dba",
   "metadata": {},
   "outputs": [
    {
     "data": {
      "image/png": "[encoded data removed]",
      "text/plain": [
       "<Figure size 800x500 with 1 Axes>"
      ]
     },
     "metadata": {},
     "output_type": "display_data"
    }
   ],
   "source": [
    "\n",
    "\n",
    "# Create a box plot for price distribution\n",
    "plt.figure(figsize=(8, 5))\n",
    "sns.boxplot(data=df_best_sellers, x='price', color='blue')\n",
    "\n",
    "# Add labels and title\n",
    "plt.xlabel(\"Price\")\n",
    "plt.title(\"Price Distribution of Best-Selling Products on Amazon UK\")\n",
    "\n",
    "# Show the plot\n",
    "plt.show()"
   ]
  },
  {
   "cell_type": "code",
   "execution_count": 32,
   "id": "73d84d78-33c8-4e80-b228-ddf506ceaaaa",
   "metadata": {},
   "outputs": [
    {
     "data": {
      "image/png": "[encoded data removed]",
      "text/plain": [
       "<Figure size 800x500 with 1 Axes>"
      ]
     },
     "metadata": {},
     "output_type": "display_data"
    }
   ],
   "source": [
    "plt.figure(figsize=(8, 5))\n",
    "sns.violinplot(data=df_best_sellers, x='price', color='blue')\n",
    "\n",
    "plt.xlabel(\"Price\")\n",
    "plt.title(\"Price Distribution of Best-Selling Products\")\n",
    "\n",
    "plt.show()"
   ]
  },
  {
   "cell_type": "markdown",
   "id": "234fa798-68d9-4d2b-bf85-8fcd58f939bf",
   "metadata": {},
   "source": [
    "Considering how hard it is to read the box plots due to the presence of outliers we can implement a Violin plot to improve readability.\n",
    "Once again, this confirms how the vast majority of items have a very similar price.\n",
    "The dataset presents extreme outliers."
   ]
  },
  {
   "cell_type": "code",
   "execution_count": 33,
   "id": "b8fb44ea-313e-4ef4-96ad-49efd6b6a89c",
   "metadata": {},
   "outputs": [
    {
     "data": {
      "text/html": [
       "<div>\n",
       "<style scoped>\n",
       "    .dataframe tbody tr th:only-of-type {\n",
       "        vertical-align: middle;\n",
       "    }\n",
       "\n",
       "    .dataframe tbody tr th {\n",
       "        vertical-align: top;\n",
       "    }\n",
       "\n",
       "    .dataframe thead th {\n",
       "        text-align: right;\n",
       "    }\n",
       "</style>\n",
       "<table border=\"1\" class=\"dataframe\">\n",
       "  <thead>\n",
       "    <tr style=\"text-align: right;\">\n",
       "      <th></th>\n",
       "      <th>uid</th>\n",
       "      <th>asin</th>\n",
       "      <th>title</th>\n",
       "      <th>stars</th>\n",
       "      <th>reviews</th>\n",
       "      <th>price</th>\n",
       "      <th>isBestSeller</th>\n",
       "      <th>boughtInLastMonth</th>\n",
       "      <th>category</th>\n",
       "    </tr>\n",
       "  </thead>\n",
       "  <tbody>\n",
       "    <tr>\n",
       "      <th>1</th>\n",
       "      <td>2</td>\n",
       "      <td>B01HTH3C8S</td>\n",
       "      <td>Anker Soundcore mini, Super-Portable Bluetooth...</td>\n",
       "      <td>4.7</td>\n",
       "      <td>98099</td>\n",
       "      <td>23.99</td>\n",
       "      <td>True</td>\n",
       "      <td>0</td>\n",
       "      <td>Hi-Fi Speakers</td>\n",
       "    </tr>\n",
       "    <tr>\n",
       "      <th>15</th>\n",
       "      <td>16</td>\n",
       "      <td>B09B97BPSW</td>\n",
       "      <td>Echo Dot Kids (5th generation, 2022 release) |...</td>\n",
       "      <td>4.6</td>\n",
       "      <td>1017</td>\n",
       "      <td>26.99</td>\n",
       "      <td>True</td>\n",
       "      <td>0</td>\n",
       "      <td>Hi-Fi Speakers</td>\n",
       "    </tr>\n",
       "    <tr>\n",
       "      <th>17</th>\n",
       "      <td>18</td>\n",
       "      <td>B09B8XRZYB</td>\n",
       "      <td>Echo Dot Kids (5th generation, 2022 release) |...</td>\n",
       "      <td>4.6</td>\n",
       "      <td>1017</td>\n",
       "      <td>26.99</td>\n",
       "      <td>True</td>\n",
       "      <td>0</td>\n",
       "      <td>Hi-Fi Speakers</td>\n",
       "    </tr>\n",
       "    <tr>\n",
       "      <th>36</th>\n",
       "      <td>37</td>\n",
       "      <td>B08L84ST93</td>\n",
       "      <td>Bose Solo Soundbar Series II - TV Speaker with...</td>\n",
       "      <td>4.6</td>\n",
       "      <td>2799</td>\n",
       "      <td>169.00</td>\n",
       "      <td>True</td>\n",
       "      <td>0</td>\n",
       "      <td>Hi-Fi Speakers</td>\n",
       "    </tr>\n",
       "    <tr>\n",
       "      <th>55</th>\n",
       "      <td>56</td>\n",
       "      <td>B08CMJ2YZX</td>\n",
       "      <td>Sanyun SW208 3\" Active Bluetooth 5.0 Bookshelf...</td>\n",
       "      <td>4.4</td>\n",
       "      <td>974</td>\n",
       "      <td>59.49</td>\n",
       "      <td>True</td>\n",
       "      <td>0</td>\n",
       "      <td>Hi-Fi Speakers</td>\n",
       "    </tr>\n",
       "    <tr>\n",
       "      <th>...</th>\n",
       "      <td>...</td>\n",
       "      <td>...</td>\n",
       "      <td>...</td>\n",
       "      <td>...</td>\n",
       "      <td>...</td>\n",
       "      <td>...</td>\n",
       "      <td>...</td>\n",
       "      <td>...</td>\n",
       "      <td>...</td>\n",
       "    </tr>\n",
       "    <tr>\n",
       "      <th>2434712</th>\n",
       "      <td>2815504</td>\n",
       "      <td>B07G72RGNX</td>\n",
       "      <td>TACVASEN Men's Waterproof Fleece Mountain Jack...</td>\n",
       "      <td>4.5</td>\n",
       "      <td>4928</td>\n",
       "      <td>61.99</td>\n",
       "      <td>True</td>\n",
       "      <td>0</td>\n",
       "      <td>Snowboards</td>\n",
       "    </tr>\n",
       "    <tr>\n",
       "      <th>2434953</th>\n",
       "      <td>2815751</td>\n",
       "      <td>B08F7P4374</td>\n",
       "      <td>TACVASEN Men's Waterproof Fleece Mountain Jack...</td>\n",
       "      <td>4.5</td>\n",
       "      <td>4928</td>\n",
       "      <td>61.99</td>\n",
       "      <td>True</td>\n",
       "      <td>0</td>\n",
       "      <td>Snowboards</td>\n",
       "    </tr>\n",
       "    <tr>\n",
       "      <th>2435202</th>\n",
       "      <td>2816076</td>\n",
       "      <td>B07SF7Y2XM</td>\n",
       "      <td>POLYTE Plush Quick Dry Lint Free Microfibre Ba...</td>\n",
       "      <td>4.4</td>\n",
       "      <td>3779</td>\n",
       "      <td>24.99</td>\n",
       "      <td>True</td>\n",
       "      <td>0</td>\n",
       "      <td>Bathroom Linen</td>\n",
       "    </tr>\n",
       "    <tr>\n",
       "      <th>2440120</th>\n",
       "      <td>2822184</td>\n",
       "      <td>B0841XR4TK</td>\n",
       "      <td>PRO-SPIN Table Tennis Bat With Pro Carbon Fibr...</td>\n",
       "      <td>4.6</td>\n",
       "      <td>3781</td>\n",
       "      <td>42.99</td>\n",
       "      <td>True</td>\n",
       "      <td>100</td>\n",
       "      <td>Table Tennis</td>\n",
       "    </tr>\n",
       "    <tr>\n",
       "      <th>2443507</th>\n",
       "      <td>2828422</td>\n",
       "      <td>B07KSV2C3Z</td>\n",
       "      <td>RAXID Motorbike Storm Adventure Shoes Waterpro...</td>\n",
       "      <td>4.2</td>\n",
       "      <td>152</td>\n",
       "      <td>79.95</td>\n",
       "      <td>True</td>\n",
       "      <td>0</td>\n",
       "      <td>Motorbike Clothing</td>\n",
       "    </tr>\n",
       "  </tbody>\n",
       "</table>\n",
       "<p>1870 rows × 9 columns</p>\n",
       "</div>"
      ],
      "text/plain": [
       "             uid        asin  \\\n",
       "1              2  B01HTH3C8S   \n",
       "15            16  B09B97BPSW   \n",
       "17            18  B09B8XRZYB   \n",
       "36            37  B08L84ST93   \n",
       "55            56  B08CMJ2YZX   \n",
       "...          ...         ...   \n",
       "2434712  2815504  B07G72RGNX   \n",
       "2434953  2815751  B08F7P4374   \n",
       "2435202  2816076  B07SF7Y2XM   \n",
       "2440120  2822184  B0841XR4TK   \n",
       "2443507  2828422  B07KSV2C3Z   \n",
       "\n",
       "                                                     title  stars  reviews  \\\n",
       "1        Anker Soundcore mini, Super-Portable Bluetooth...    4.7    98099   \n",
       "15       Echo Dot Kids (5th generation, 2022 release) |...    4.6     1017   \n",
       "17       Echo Dot Kids (5th generation, 2022 release) |...    4.6     1017   \n",
       "36       Bose Solo Soundbar Series II - TV Speaker with...    4.6     2799   \n",
       "55       Sanyun SW208 3\" Active Bluetooth 5.0 Bookshelf...    4.4      974   \n",
       "...                                                    ...    ...      ...   \n",
       "2434712  TACVASEN Men's Waterproof Fleece Mountain Jack...    4.5     4928   \n",
       "2434953  TACVASEN Men's Waterproof Fleece Mountain Jack...    4.5     4928   \n",
       "2435202  POLYTE Plush Quick Dry Lint Free Microfibre Ba...    4.4     3779   \n",
       "2440120  PRO-SPIN Table Tennis Bat With Pro Carbon Fibr...    4.6     3781   \n",
       "2443507  RAXID Motorbike Storm Adventure Shoes Waterpro...    4.2      152   \n",
       "\n",
       "          price  isBestSeller  boughtInLastMonth            category  \n",
       "1         23.99          True                  0      Hi-Fi Speakers  \n",
       "15        26.99          True                  0      Hi-Fi Speakers  \n",
       "17        26.99          True                  0      Hi-Fi Speakers  \n",
       "36       169.00          True                  0      Hi-Fi Speakers  \n",
       "55        59.49          True                  0      Hi-Fi Speakers  \n",
       "...         ...           ...                ...                 ...  \n",
       "2434712   61.99          True                  0          Snowboards  \n",
       "2434953   61.99          True                  0          Snowboards  \n",
       "2435202   24.99          True                  0      Bathroom Linen  \n",
       "2440120   42.99          True                100        Table Tennis  \n",
       "2443507   79.95          True                  0  Motorbike Clothing  \n",
       "\n",
       "[1870 rows x 9 columns]"
      ]
     },
     "execution_count": 33,
     "metadata": {},
     "output_type": "execute_result"
    }
   ],
   "source": [
    "outliers_df = df_best_sellers[df_best_sellers['price'] > 23]\n",
    "outliers_df"
   ]
  },
  {
   "cell_type": "markdown",
   "id": "ad640e8b-5522-4693-969e-fbe681862b9c",
   "metadata": {},
   "source": [
    "With the code below we managed to create a df for the outliers.\n",
    "If we wanted we could remove them entirely from our analysis or we could run a parallel analysis specialised on outliers."
   ]
  },
  {
   "cell_type": "markdown",
   "id": "6b8a2560-8924-4b98-9b98-843637c481ed",
   "metadata": {},
   "source": [
    "In the next session we are going to focus on the rating of the products. Deliverables for this section are the following:\n",
    "\n",
    "- How do customers generally rate product? Are there trends?\n",
    "- var, std and IQR for the rating. Are the ratings consistent?\n",
    "- skewness and jurtosis of the rating column. Are ratings normally distributed?\n",
    "- Plotting the distribution of rating "
   ]
  },
  {
   "cell_type": "code",
   "execution_count": 34,
   "id": "db82f141-8ab5-4c65-a7e0-16dd5d2e095c",
   "metadata": {},
   "outputs": [],
   "source": [
    "ratings_df = df.copy()"
   ]
  },
  {
   "cell_type": "code",
   "execution_count": 35,
   "id": "85ed186c-f167-4fc3-ba42-2e008be99e51",
   "metadata": {},
   "outputs": [
    {
     "data": {
      "text/plain": [
       "np.float64(2.152836472966065)"
      ]
     },
     "execution_count": 35,
     "metadata": {},
     "output_type": "execute_result"
    }
   ],
   "source": [
    "ratings_df['stars'].mean()"
   ]
  },
  {
   "cell_type": "code",
   "execution_count": 36,
   "id": "e810951c-0564-4351-88d2-3b00b4bf336b",
   "metadata": {},
   "outputs": [
    {
     "data": {
      "text/plain": [
       "np.float64(0.0)"
      ]
     },
     "execution_count": 36,
     "metadata": {},
     "output_type": "execute_result"
    }
   ],
   "source": [
    "ratings_df['stars'].median()"
   ]
  },
  {
   "cell_type": "code",
   "execution_count": 37,
   "id": "2aaf74b8-777b-40f5-bcd3-3ec398e5f891",
   "metadata": {},
   "outputs": [
    {
     "data": {
      "text/plain": [
       "0    0.0\n",
       "Name: stars, dtype: float64"
      ]
     },
     "execution_count": 37,
     "metadata": {},
     "output_type": "execute_result"
    }
   ],
   "source": [
    "ratings_df['stars'].mode()"
   ]
  },
  {
   "cell_type": "code",
   "execution_count": 42,
   "id": "0857c5e2-bc08-4415-b2c2-8981bcdb7a9f",
   "metadata": {},
   "outputs": [
    {
     "data": {
      "image/png": "[encoded data removed]",
      "text/plain": [
       "<Figure size 640x480 with 1 Axes>"
      ]
     },
     "metadata": {},
     "output_type": "display_data"
    }
   ],
   "source": [
    "sns.histplot(ratings_df.stars, bins=30)\n",
    "plt.title(\"Ratings per best seller category\")\n",
    "plt.show()"
   ]
  },
  {
   "cell_type": "code",
   "execution_count": 41,
   "id": "ece8762e-3678-4423-b19c-7daa72ac6e47",
   "metadata": {},
   "outputs": [
    {
     "data": {
      "image/png": "[encoded data removed]",
      "text/plain": [
       "<Figure size 640x480 with 1 Axes>"
      ]
     },
     "metadata": {},
     "output_type": "display_data"
    }
   ],
   "source": [
    "sns.histplot(df_best_sellers.stars, bins=30)\n",
    "plt.title(\"Ratings per best seller category\")\n",
    "plt.show()"
   ]
  },
  {
   "cell_type": "markdown",
   "id": "afa83660-2909-40c7-bfa4-10ee6e9772b9",
   "metadata": {},
   "source": [
    "These 2 graphs offer interesting information.\n",
    "\n",
    "The first one focuses on all of the data provided while the second one on the top listing products.\n",
    "\n",
    "If we look at the data from an olystic point of view we see there's a good amount of outliers of rates that are 0.\n",
    "The top listing categories instead perform quite well with majority of rates between 4 and 5.\n",
    "\n",
    "The overall **mean** is 2 for the whole dataset."
   ]
  },
  {
   "cell_type": "code",
   "execution_count": 43,
   "id": "2a81fa76-ace6-4f9e-8d55-427755873411",
   "metadata": {},
   "outputs": [
    {
     "data": {
      "image/png": "[encoded data removed]",
      "text/plain": [
       "<Figure size 640x480 with 1 Axes>"
      ]
     },
     "metadata": {},
     "output_type": "display_data"
    }
   ],
   "source": [
    "sns.boxplot(data=ratings_df['stars'])\n",
    "plt.title(\"Rate Distribution of Products on Amazon UK\")\n",
    "plt.show()"
   ]
  },
  {
   "cell_type": "code",
   "execution_count": 45,
   "id": "f517b0f5-4ff4-41e0-9b72-8d458ad38d01",
   "metadata": {},
   "outputs": [
    {
     "data": {
      "image/png": "[encoded data removed]",
      "text/plain": [
       "<Figure size 800x500 with 1 Axes>"
      ]
     },
     "metadata": {},
     "output_type": "display_data"
    }
   ],
   "source": [
    "\n",
    "\n",
    "# Create a box plot for price distribution\n",
    "plt.figure(figsize=(8, 5))\n",
    "sns.boxplot(data=ratings_df, x='stars', color='blue')\n",
    "\n",
    "# Add labels and title\n",
    "plt.xlabel(\"Rates\")\n",
    "plt.title(\"Rate Distribution of Products on Amazon UK\")\n",
    "\n",
    "# Show the plot\n",
    "plt.show()"
   ]
  },
  {
   "cell_type": "markdown",
   "id": "78c8840b-f022-44cc-826a-ac719b5aaef8",
   "metadata": {},
   "source": [
    "Looking into this graph it seems clear that the vast variety of rates selected are between 0 and 4.\n",
    "\n",
    "5 rates are more rare."
   ]
  },
  {
   "cell_type": "code",
   "execution_count": 52,
   "id": "6f68a45d-00eb-4634-bc31-8b81b17c630a",
   "metadata": {},
   "outputs": [],
   "source": [
    "skewness = ratings_df[\"stars\"].skew().round(2)"
   ]
  },
  {
   "cell_type": "code",
   "execution_count": 53,
   "id": "0dfbb32f-a31d-4989-a6bb-150c29a452f1",
   "metadata": {},
   "outputs": [],
   "source": [
    "kurtosis = ratings_df[\"stars\"].kurtosis().round(2)"
   ]
  },
  {
   "cell_type": "markdown",
   "id": "8bb618fc-06ca-42ba-bf5b-a8e7b1ff61d5",
   "metadata": {},
   "source": [
    "Looking into the skeweness and the kurtosis the following is clear:\n",
    "\n",
    "- The distribution is positively skewed\n",
    "- The distribution is also platykurtic meaning that the peak is flatter, indicating fewer extreme values."
   ]
  },
  {
   "cell_type": "code",
   "execution_count": 54,
   "id": "c6bd2103-ad5e-493a-95a9-62681696da37",
   "metadata": {},
   "outputs": [
    {
     "data": {
      "image/png": "[encoded data removed]",
      "text/plain": [
       "<Figure size 800x500 with 1 Axes>"
      ]
     },
     "metadata": {},
     "output_type": "display_data"
    }
   ],
   "source": [
    "plt.figure(figsize=(8, 5))\n",
    "sns.histplot(ratings_df[\"stars\"], bins=20, kde=True, color='blue')\n",
    "\n",
    "plt.title(f\"Distribution of Ratings\\nSkewness: {skewness}, Kurtosis: {kurtosis}\")\n",
    "\n",
    "plt.xlabel(\"Stars (Ratings)\")\n",
    "plt.ylabel(\"Frequency\")\n",
    "\n",
    "plt.show()\n"
   ]
  },
  {
   "cell_type": "code",
   "execution_count": null,
   "id": "70ab93dd-e52c-4c20-84f8-f45099c750c0",
   "metadata": {},
   "outputs": [],
   "source": []
  }
 ],
 "metadata": {
  "kernelspec": {
   "display_name": "Python 3 (ipykernel)",
   "language": "python",
   "name": "python3"
  },
  "language_info": {
   "codemirror_mode": {
    "name": "ipython",
    "version": 3
   },
   "file_extension": ".py",
   "mimetype": "text/x-python",
   "name": "python",
   "nbconvert_exporter": "python",
   "pygments_lexer": "ipython3",
   "version": "3.13.2"
  }
 },
 "nbformat": 4,
 "nbformat_minor": 5
}
