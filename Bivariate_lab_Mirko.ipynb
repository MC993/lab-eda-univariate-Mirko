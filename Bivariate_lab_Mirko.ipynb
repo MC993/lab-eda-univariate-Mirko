{
 "cells": [
  {
   "cell_type": "code",
   "execution_count": 1,
   "id": "182e22fa-d685-4377-a31f-eca7369d3241",
   "metadata": {},
   "outputs": [],
   "source": [
    "#importing all required libraries\n",
    "import pandas as pd\n",
    "import numpy as np\n",
<<<<<<< HEAD
    "import matplotlib.pyplot as plt"
=======
    "import matplotlib as plt"
>>>>>>> 1e8a2ad59fef94ce298a6740c5ed23aeb06d983c
   ]
  },
  {
   "cell_type": "code",
   "execution_count": 2,
   "id": "96663a15-ace5-44ce-a2ff-fe847c56d25f",
   "metadata": {},
   "outputs": [],
   "source": [
<<<<<<< HEAD
    "data = pd.read_csv('C:/Data_Science/IH_Notebooks/lab-eda-univariate-Mirko/amz_uk_price_prediction_dataset.csv')\n",
=======
    "data = pd.read_csv('/Users/Mirko/Desktop/Data_Science/IH_Notebooks/lab-eda-univariate-Mirko/amz_uk_price_prediction_dataset.csv')\n",
>>>>>>> 1e8a2ad59fef94ce298a6740c5ed23aeb06d983c
    "df = data.copy()"
   ]
  },
  {
   "cell_type": "code",
   "execution_count": 3,
   "id": "cc931e3f-7354-40d4-8c53-95a64392d094",
   "metadata": {},
   "outputs": [
    {
     "data": {
      "text/html": [
       "<div>\n",
       "<style scoped>\n",
       "    .dataframe tbody tr th:only-of-type {\n",
       "        vertical-align: middle;\n",
       "    }\n",
       "\n",
       "    .dataframe tbody tr th {\n",
       "        vertical-align: top;\n",
       "    }\n",
       "\n",
       "    .dataframe thead th {\n",
       "        text-align: right;\n",
       "    }\n",
       "</style>\n",
       "<table border=\"1\" class=\"dataframe\">\n",
       "  <thead>\n",
       "    <tr style=\"text-align: right;\">\n",
       "      <th></th>\n",
       "      <th>uid</th>\n",
       "      <th>asin</th>\n",
       "      <th>title</th>\n",
       "      <th>stars</th>\n",
       "      <th>reviews</th>\n",
       "      <th>price</th>\n",
       "      <th>isBestSeller</th>\n",
       "      <th>boughtInLastMonth</th>\n",
       "      <th>category</th>\n",
       "    </tr>\n",
       "  </thead>\n",
       "  <tbody>\n",
       "    <tr>\n",
       "      <th>0</th>\n",
       "      <td>1</td>\n",
       "      <td>B09B96TG33</td>\n",
       "      <td>Echo Dot (5th generation, 2022 release) | Big ...</td>\n",
       "      <td>4.7</td>\n",
       "      <td>15308</td>\n",
       "      <td>21.99</td>\n",
       "      <td>False</td>\n",
       "      <td>0</td>\n",
       "      <td>Hi-Fi Speakers</td>\n",
       "    </tr>\n",
       "    <tr>\n",
       "      <th>1</th>\n",
       "      <td>2</td>\n",
       "      <td>B01HTH3C8S</td>\n",
       "      <td>Anker Soundcore mini, Super-Portable Bluetooth...</td>\n",
       "      <td>4.7</td>\n",
       "      <td>98099</td>\n",
       "      <td>23.99</td>\n",
       "      <td>True</td>\n",
       "      <td>0</td>\n",
       "      <td>Hi-Fi Speakers</td>\n",
       "    </tr>\n",
       "    <tr>\n",
       "      <th>2</th>\n",
       "      <td>3</td>\n",
       "      <td>B09B8YWXDF</td>\n",
       "      <td>Echo Dot (5th generation, 2022 release) | Big ...</td>\n",
       "      <td>4.7</td>\n",
       "      <td>15308</td>\n",
       "      <td>21.99</td>\n",
       "      <td>False</td>\n",
       "      <td>0</td>\n",
       "      <td>Hi-Fi Speakers</td>\n",
       "    </tr>\n",
       "  </tbody>\n",
       "</table>\n",
       "</div>"
      ],
      "text/plain": [
       "   uid        asin                                              title  stars  \\\n",
       "0    1  B09B96TG33  Echo Dot (5th generation, 2022 release) | Big ...    4.7   \n",
       "1    2  B01HTH3C8S  Anker Soundcore mini, Super-Portable Bluetooth...    4.7   \n",
       "2    3  B09B8YWXDF  Echo Dot (5th generation, 2022 release) | Big ...    4.7   \n",
       "\n",
       "   reviews  price  isBestSeller  boughtInLastMonth        category  \n",
       "0    15308  21.99         False                  0  Hi-Fi Speakers  \n",
       "1    98099  23.99          True                  0  Hi-Fi Speakers  \n",
       "2    15308  21.99         False                  0  Hi-Fi Speakers  "
      ]
     },
     "execution_count": 3,
     "metadata": {},
     "output_type": "execute_result"
    }
   ],
   "source": [
    "df.head(3)"
   ]
  },
  {
   "cell_type": "code",
   "execution_count": 4,
   "id": "52c04f78-a321-481a-870e-0de595bd9842",
   "metadata": {},
   "outputs": [],
   "source": [
    "#creating a categorical and numerical value to better work on cat and num columns only\n",
    "cat = df.select_dtypes(exclude=\"number\")\n",
    "num = df.select_dtypes(include=\"number\")"
   ]
  },
  {
   "cell_type": "code",
<<<<<<< HEAD
   "execution_count": 36,
=======
   "execution_count": 5,
>>>>>>> 1e8a2ad59fef94ce298a6740c5ed23aeb06d983c
   "id": "c4af6d7b-cac9-45d7-8683-cb4e1cfb0ef2",
   "metadata": {},
   "outputs": [
    {
     "data": {
      "text/html": [
       "<div>\n",
       "<style scoped>\n",
       "    .dataframe tbody tr th:only-of-type {\n",
       "        vertical-align: middle;\n",
       "    }\n",
       "\n",
       "    .dataframe tbody tr th {\n",
       "        vertical-align: top;\n",
       "    }\n",
       "\n",
       "    .dataframe thead th {\n",
       "        text-align: right;\n",
       "    }\n",
       "</style>\n",
       "<table border=\"1\" class=\"dataframe\">\n",
       "  <thead>\n",
       "    <tr style=\"text-align: right;\">\n",
<<<<<<< HEAD
       "      <th>isBestSeller</th>\n",
       "      <th>False</th>\n",
       "      <th>True</th>\n",
       "    </tr>\n",
       "    <tr>\n",
       "      <th>category</th>\n",
=======
       "      <th>category</th>\n",
       "      <th>3D Printers</th>\n",
       "      <th>3D Printing &amp; Scanning</th>\n",
       "      <th>Abrasive &amp; Finishing Products</th>\n",
       "      <th>Action Cameras</th>\n",
       "      <th>Adapters</th>\n",
       "      <th>Agricultural Equipment &amp; Supplies</th>\n",
       "      <th>Alexa Built-In Devices</th>\n",
       "      <th>Art &amp; Craft Supplies</th>\n",
       "      <th>Arts &amp; Crafts</th>\n",
       "      <th>Baby</th>\n",
       "      <th>...</th>\n",
       "      <th>Uninterruptible Power Supply Units &amp; Accessories</th>\n",
       "      <th>Vacuums &amp; Floorcare</th>\n",
       "      <th>Vases</th>\n",
       "      <th>Water Coolers, Filters &amp; Cartridges</th>\n",
       "      <th>Wearable Technology</th>\n",
       "      <th>Wind Instruments</th>\n",
       "      <th>Window Treatments</th>\n",
       "      <th>Women</th>\n",
       "      <th>Women's Sports &amp; Outdoor Shoes</th>\n",
       "      <th>eBook Readers &amp; Accessories</th>\n",
       "    </tr>\n",
       "    <tr>\n",
       "      <th>isBestSeller</th>\n",
       "      <th></th>\n",
       "      <th></th>\n",
       "      <th></th>\n",
       "      <th></th>\n",
       "      <th></th>\n",
       "      <th></th>\n",
       "      <th></th>\n",
       "      <th></th>\n",
       "      <th></th>\n",
       "      <th></th>\n",
       "      <th></th>\n",
       "      <th></th>\n",
       "      <th></th>\n",
       "      <th></th>\n",
       "      <th></th>\n",
       "      <th></th>\n",
       "      <th></th>\n",
       "      <th></th>\n",
       "      <th></th>\n",
>>>>>>> 1e8a2ad59fef94ce298a6740c5ed23aeb06d983c
       "      <th></th>\n",
       "      <th></th>\n",
       "    </tr>\n",
       "  </thead>\n",
       "  <tbody>\n",
       "    <tr>\n",
<<<<<<< HEAD
       "      <th>3D Printers</th>\n",
       "      <td>247</td>\n",
       "      <td>1</td>\n",
       "    </tr>\n",
       "    <tr>\n",
       "      <th>3D Printing &amp; Scanning</th>\n",
       "      <td>4065</td>\n",
       "      <td>2</td>\n",
       "    </tr>\n",
       "    <tr>\n",
       "      <th>Abrasive &amp; Finishing Products</th>\n",
       "      <td>245</td>\n",
       "      <td>5</td>\n",
       "    </tr>\n",
       "    <tr>\n",
       "      <th>Action Cameras</th>\n",
       "      <td>1696</td>\n",
       "      <td>1</td>\n",
       "    </tr>\n",
       "    <tr>\n",
       "      <th>Adapters</th>\n",
       "      <td>251</td>\n",
       "      <td>3</td>\n",
       "    </tr>\n",
       "    <tr>\n",
       "      <th>...</th>\n",
       "      <td>...</td>\n",
       "      <td>...</td>\n",
       "    </tr>\n",
       "    <tr>\n",
       "      <th>Wind Instruments</th>\n",
       "      <td>243</td>\n",
       "      <td>7</td>\n",
       "    </tr>\n",
       "    <tr>\n",
       "      <th>Window Treatments</th>\n",
       "      <td>234</td>\n",
       "      <td>5</td>\n",
       "    </tr>\n",
       "    <tr>\n",
       "      <th>Women</th>\n",
       "      <td>17559</td>\n",
       "      <td>213</td>\n",
       "    </tr>\n",
       "    <tr>\n",
       "      <th>Women's Sports &amp; Outdoor Shoes</th>\n",
       "      <td>1939</td>\n",
       "      <td>20</td>\n",
       "    </tr>\n",
       "    <tr>\n",
       "      <th>eBook Readers &amp; Accessories</th>\n",
       "      <td>246</td>\n",
=======
       "      <th>False</th>\n",
       "      <td>247</td>\n",
       "      <td>4065</td>\n",
       "      <td>245</td>\n",
       "      <td>1696</td>\n",
       "      <td>251</td>\n",
       "      <td>8421</td>\n",
       "      <td>106</td>\n",
       "      <td>253</td>\n",
       "      <td>9319</td>\n",
       "      <td>14709</td>\n",
       "      <td>...</td>\n",
       "      <td>3652</td>\n",
       "      <td>6919</td>\n",
       "      <td>250</td>\n",
       "      <td>186</td>\n",
       "      <td>8876</td>\n",
       "      <td>243</td>\n",
       "      <td>234</td>\n",
       "      <td>17559</td>\n",
       "      <td>1939</td>\n",
       "      <td>246</td>\n",
       "    </tr>\n",
       "    <tr>\n",
       "      <th>True</th>\n",
       "      <td>1</td>\n",
       "      <td>2</td>\n",
       "      <td>5</td>\n",
       "      <td>1</td>\n",
       "      <td>3</td>\n",
       "      <td>109</td>\n",
       "      <td>1</td>\n",
       "      <td>5</td>\n",
       "      <td>230</td>\n",
       "      <td>341</td>\n",
       "      <td>...</td>\n",
       "      <td>1</td>\n",
       "      <td>26</td>\n",
       "      <td>0</td>\n",
       "      <td>1</td>\n",
       "      <td>30</td>\n",
       "      <td>7</td>\n",
       "      <td>5</td>\n",
       "      <td>213</td>\n",
       "      <td>20</td>\n",
>>>>>>> 1e8a2ad59fef94ce298a6740c5ed23aeb06d983c
       "      <td>0</td>\n",
       "    </tr>\n",
       "  </tbody>\n",
       "</table>\n",
<<<<<<< HEAD
       "<p>296 rows × 2 columns</p>\n",
       "</div>"
      ],
      "text/plain": [
       "isBestSeller                    False  True \n",
       "category                                    \n",
       "3D Printers                       247      1\n",
       "3D Printing & Scanning           4065      2\n",
       "Abrasive & Finishing Products     245      5\n",
       "Action Cameras                   1696      1\n",
       "Adapters                          251      3\n",
       "...                               ...    ...\n",
       "Wind Instruments                  243      7\n",
       "Window Treatments                 234      5\n",
       "Women                           17559    213\n",
       "Women's Sports & Outdoor Shoes   1939     20\n",
       "eBook Readers & Accessories       246      0\n",
       "\n",
       "[296 rows x 2 columns]"
      ]
     },
     "execution_count": 36,
=======
       "<p>2 rows × 296 columns</p>\n",
       "</div>"
      ],
      "text/plain": [
       "category      3D Printers  3D Printing & Scanning  \\\n",
       "isBestSeller                                        \n",
       "False                 247                    4065   \n",
       "True                    1                       2   \n",
       "\n",
       "category      Abrasive & Finishing Products  Action Cameras  Adapters  \\\n",
       "isBestSeller                                                            \n",
       "False                                   245            1696       251   \n",
       "True                                      5               1         3   \n",
       "\n",
       "category      Agricultural Equipment & Supplies  Alexa Built-In Devices  \\\n",
       "isBestSeller                                                              \n",
       "False                                      8421                     106   \n",
       "True                                        109                       1   \n",
       "\n",
       "category      Art & Craft Supplies  Arts & Crafts   Baby  ...  \\\n",
       "isBestSeller                                              ...   \n",
       "False                          253           9319  14709  ...   \n",
       "True                             5            230    341  ...   \n",
       "\n",
       "category      Uninterruptible Power Supply Units & Accessories  \\\n",
       "isBestSeller                                                     \n",
       "False                                                     3652   \n",
       "True                                                         1   \n",
       "\n",
       "category      Vacuums & Floorcare  Vases  Water Coolers, Filters & Cartridges  \\\n",
       "isBestSeller                                                                    \n",
       "False                        6919    250                                  186   \n",
       "True                           26      0                                    1   \n",
       "\n",
       "category      Wearable Technology  Wind Instruments  Window Treatments  Women  \\\n",
       "isBestSeller                                                                    \n",
       "False                        8876               243                234  17559   \n",
       "True                           30                 7                  5    213   \n",
       "\n",
       "category      Women's Sports & Outdoor Shoes  eBook Readers & Accessories  \n",
       "isBestSeller                                                               \n",
       "False                                   1939                          246  \n",
       "True                                      20                            0  \n",
       "\n",
       "[2 rows x 296 columns]"
      ]
     },
     "execution_count": 5,
>>>>>>> 1e8a2ad59fef94ce298a6740c5ed23aeb06d983c
     "metadata": {},
     "output_type": "execute_result"
    }
   ],
   "source": [
    "#creating a crosstab between isBestSeller and category\n",
    "\n",
<<<<<<< HEAD
    "crosstab_result = pd.crosstab(df['category'], df['isBestSeller'])\n",
=======
    "crosstab_result = pd.crosstab(df['isBestSeller'], df['category'])\n",
>>>>>>> 1e8a2ad59fef94ce298a6740c5ed23aeb06d983c
    "crosstab_result"
   ]
  },
  {
   "cell_type": "code",
<<<<<<< HEAD
   "execution_count": 37,
=======
   "execution_count": 6,
>>>>>>> 1e8a2ad59fef94ce298a6740c5ed23aeb06d983c
   "id": "b63a7098-5954-4fb5-8399-fd5bd3661499",
   "metadata": {},
   "outputs": [
    {
     "data": {
      "text/html": [
       "<div>\n",
       "<style scoped>\n",
       "    .dataframe tbody tr th:only-of-type {\n",
       "        vertical-align: middle;\n",
       "    }\n",
       "\n",
       "    .dataframe tbody tr th {\n",
       "        vertical-align: top;\n",
       "    }\n",
       "\n",
       "    .dataframe thead th {\n",
       "        text-align: right;\n",
       "    }\n",
       "</style>\n",
       "<table border=\"1\" class=\"dataframe\">\n",
       "  <thead>\n",
       "    <tr style=\"text-align: right;\">\n",
<<<<<<< HEAD
       "      <th>isBestSeller</th>\n",
       "      <th>False</th>\n",
       "      <th>True</th>\n",
       "    </tr>\n",
       "    <tr>\n",
       "      <th>category</th>\n",
=======
       "      <th>category</th>\n",
       "      <th>3D Printers</th>\n",
       "      <th>3D Printing &amp; Scanning</th>\n",
       "      <th>Abrasive &amp; Finishing Products</th>\n",
       "      <th>Action Cameras</th>\n",
       "      <th>Adapters</th>\n",
       "      <th>Agricultural Equipment &amp; Supplies</th>\n",
       "      <th>Alexa Built-In Devices</th>\n",
       "      <th>Art &amp; Craft Supplies</th>\n",
       "      <th>Arts &amp; Crafts</th>\n",
       "      <th>Baby</th>\n",
       "      <th>...</th>\n",
       "      <th>Uninterruptible Power Supply Units &amp; Accessories</th>\n",
       "      <th>Vacuums &amp; Floorcare</th>\n",
       "      <th>Vases</th>\n",
       "      <th>Water Coolers, Filters &amp; Cartridges</th>\n",
       "      <th>Wearable Technology</th>\n",
       "      <th>Wind Instruments</th>\n",
       "      <th>Window Treatments</th>\n",
       "      <th>Women</th>\n",
       "      <th>Women's Sports &amp; Outdoor Shoes</th>\n",
       "      <th>eBook Readers &amp; Accessories</th>\n",
       "    </tr>\n",
       "    <tr>\n",
       "      <th>isBestSeller</th>\n",
       "      <th></th>\n",
       "      <th></th>\n",
       "      <th></th>\n",
       "      <th></th>\n",
       "      <th></th>\n",
       "      <th></th>\n",
       "      <th></th>\n",
       "      <th></th>\n",
       "      <th></th>\n",
       "      <th></th>\n",
       "      <th></th>\n",
       "      <th></th>\n",
       "      <th></th>\n",
       "      <th></th>\n",
       "      <th></th>\n",
       "      <th></th>\n",
       "      <th></th>\n",
       "      <th></th>\n",
       "      <th></th>\n",
>>>>>>> 1e8a2ad59fef94ce298a6740c5ed23aeb06d983c
       "      <th></th>\n",
       "      <th></th>\n",
       "    </tr>\n",
       "  </thead>\n",
       "  <tbody>\n",
       "    <tr>\n",
<<<<<<< HEAD
       "      <th>3D Printers</th>\n",
       "      <td>0.995968</td>\n",
       "      <td>0.004032</td>\n",
       "    </tr>\n",
       "    <tr>\n",
       "      <th>3D Printing &amp; Scanning</th>\n",
       "      <td>0.999508</td>\n",
       "      <td>0.000492</td>\n",
       "    </tr>\n",
       "    <tr>\n",
       "      <th>Abrasive &amp; Finishing Products</th>\n",
       "      <td>0.980000</td>\n",
       "      <td>0.020000</td>\n",
       "    </tr>\n",
       "    <tr>\n",
       "      <th>Action Cameras</th>\n",
       "      <td>0.999411</td>\n",
       "      <td>0.000589</td>\n",
       "    </tr>\n",
       "    <tr>\n",
       "      <th>Adapters</th>\n",
       "      <td>0.988189</td>\n",
       "      <td>0.011811</td>\n",
       "    </tr>\n",
       "    <tr>\n",
       "      <th>...</th>\n",
       "      <td>...</td>\n",
       "      <td>...</td>\n",
       "    </tr>\n",
       "    <tr>\n",
       "      <th>Wind Instruments</th>\n",
       "      <td>0.972000</td>\n",
       "      <td>0.028000</td>\n",
       "    </tr>\n",
       "    <tr>\n",
       "      <th>Window Treatments</th>\n",
       "      <td>0.979079</td>\n",
       "      <td>0.020921</td>\n",
       "    </tr>\n",
       "    <tr>\n",
       "      <th>Women</th>\n",
       "      <td>0.988015</td>\n",
       "      <td>0.011985</td>\n",
       "    </tr>\n",
       "    <tr>\n",
       "      <th>Women's Sports &amp; Outdoor Shoes</th>\n",
       "      <td>0.989791</td>\n",
       "      <td>0.010209</td>\n",
       "    </tr>\n",
       "    <tr>\n",
       "      <th>eBook Readers &amp; Accessories</th>\n",
       "      <td>1.000000</td>\n",
=======
       "      <th>False</th>\n",
       "      <td>0.000101</td>\n",
       "      <td>0.001669</td>\n",
       "      <td>0.000101</td>\n",
       "      <td>0.000696</td>\n",
       "      <td>0.000103</td>\n",
       "      <td>0.003457</td>\n",
       "      <td>0.000044</td>\n",
       "      <td>0.000104</td>\n",
       "      <td>0.003826</td>\n",
       "      <td>0.006039</td>\n",
       "      <td>...</td>\n",
       "      <td>0.001499</td>\n",
       "      <td>0.002841</td>\n",
       "      <td>0.000103</td>\n",
       "      <td>0.000076</td>\n",
       "      <td>0.003644</td>\n",
       "      <td>0.000100</td>\n",
       "      <td>0.000096</td>\n",
       "      <td>0.007209</td>\n",
       "      <td>0.000796</td>\n",
       "      <td>0.000101</td>\n",
       "    </tr>\n",
       "    <tr>\n",
       "      <th>True</th>\n",
       "      <td>0.000125</td>\n",
       "      <td>0.000251</td>\n",
       "      <td>0.000627</td>\n",
       "      <td>0.000125</td>\n",
       "      <td>0.000376</td>\n",
       "      <td>0.013659</td>\n",
       "      <td>0.000125</td>\n",
       "      <td>0.000627</td>\n",
       "      <td>0.028822</td>\n",
       "      <td>0.042732</td>\n",
       "      <td>...</td>\n",
       "      <td>0.000125</td>\n",
       "      <td>0.003258</td>\n",
       "      <td>0.000000</td>\n",
       "      <td>0.000125</td>\n",
       "      <td>0.003759</td>\n",
       "      <td>0.000877</td>\n",
       "      <td>0.000627</td>\n",
       "      <td>0.026692</td>\n",
       "      <td>0.002506</td>\n",
>>>>>>> 1e8a2ad59fef94ce298a6740c5ed23aeb06d983c
       "      <td>0.000000</td>\n",
       "    </tr>\n",
       "  </tbody>\n",
       "</table>\n",
<<<<<<< HEAD
       "<p>296 rows × 2 columns</p>\n",
       "</div>"
      ],
      "text/plain": [
       "isBestSeller                       False     True \n",
       "category                                          \n",
       "3D Printers                     0.995968  0.004032\n",
       "3D Printing & Scanning          0.999508  0.000492\n",
       "Abrasive & Finishing Products   0.980000  0.020000\n",
       "Action Cameras                  0.999411  0.000589\n",
       "Adapters                        0.988189  0.011811\n",
       "...                                  ...       ...\n",
       "Wind Instruments                0.972000  0.028000\n",
       "Window Treatments               0.979079  0.020921\n",
       "Women                           0.988015  0.011985\n",
       "Women's Sports & Outdoor Shoes  0.989791  0.010209\n",
       "eBook Readers & Accessories     1.000000  0.000000\n",
       "\n",
       "[296 rows x 2 columns]"
      ]
     },
     "execution_count": 37,
=======
       "<p>2 rows × 296 columns</p>\n",
       "</div>"
      ],
      "text/plain": [
       "category      3D Printers  3D Printing & Scanning  \\\n",
       "isBestSeller                                        \n",
       "False            0.000101                0.001669   \n",
       "True             0.000125                0.000251   \n",
       "\n",
       "category      Abrasive & Finishing Products  Action Cameras  Adapters  \\\n",
       "isBestSeller                                                            \n",
       "False                              0.000101        0.000696  0.000103   \n",
       "True                               0.000627        0.000125  0.000376   \n",
       "\n",
       "category      Agricultural Equipment & Supplies  Alexa Built-In Devices  \\\n",
       "isBestSeller                                                              \n",
       "False                                  0.003457                0.000044   \n",
       "True                                   0.013659                0.000125   \n",
       "\n",
       "category      Art & Craft Supplies  Arts & Crafts      Baby  ...  \\\n",
       "isBestSeller                                                 ...   \n",
       "False                     0.000104       0.003826  0.006039  ...   \n",
       "True                      0.000627       0.028822  0.042732  ...   \n",
       "\n",
       "category      Uninterruptible Power Supply Units & Accessories  \\\n",
       "isBestSeller                                                     \n",
       "False                                                 0.001499   \n",
       "True                                                  0.000125   \n",
       "\n",
       "category      Vacuums & Floorcare     Vases  \\\n",
       "isBestSeller                                  \n",
       "False                    0.002841  0.000103   \n",
       "True                     0.003258  0.000000   \n",
       "\n",
       "category      Water Coolers, Filters & Cartridges  Wearable Technology  \\\n",
       "isBestSeller                                                             \n",
       "False                                    0.000076             0.003644   \n",
       "True                                     0.000125             0.003759   \n",
       "\n",
       "category      Wind Instruments  Window Treatments     Women  \\\n",
       "isBestSeller                                                  \n",
       "False                 0.000100           0.000096  0.007209   \n",
       "True                  0.000877           0.000627  0.026692   \n",
       "\n",
       "category      Women's Sports & Outdoor Shoes  eBook Readers & Accessories  \n",
       "isBestSeller                                                               \n",
       "False                               0.000796                     0.000101  \n",
       "True                                0.002506                     0.000000  \n",
       "\n",
       "[2 rows x 296 columns]"
      ]
     },
     "execution_count": 6,
>>>>>>> 1e8a2ad59fef94ce298a6740c5ed23aeb06d983c
     "metadata": {},
     "output_type": "execute_result"
    }
   ],
   "source": [
    "#creating a result cross tab variable to start building a bar chart\n",
    "\n",
<<<<<<< HEAD
    "result = pd.crosstab(df['category'], df['isBestSeller'], normalize='index')\n",
=======
    "result = pd.crosstab(df['isBestSeller'], df['category'], normalize='index')\n",
>>>>>>> 1e8a2ad59fef94ce298a6740c5ed23aeb06d983c
    "result"
   ]
  },
  {
   "cell_type": "code",
<<<<<<< HEAD
   "execution_count": 42,
   "id": "141fd82e-5d6e-4e26-bfe5-4e76d8ac0435",
   "metadata": {},
   "outputs": [
    {
     "ename": "KeyError",
     "evalue": "'isBestSeller'",
     "output_type": "error",
     "traceback": [
      "\u001b[1;31m---------------------------------------------------------------------------\u001b[0m",
      "\u001b[1;31mKeyError\u001b[0m                                  Traceback (most recent call last)",
      "File \u001b[1;32m~\\AppData\\Local\\Programs\\Python\\Python313\\Lib\\site-packages\\pandas\\core\\indexes\\base.py:3805\u001b[0m, in \u001b[0;36mIndex.get_loc\u001b[1;34m(self, key)\u001b[0m\n\u001b[0;32m   3804\u001b[0m \u001b[38;5;28;01mtry\u001b[39;00m:\n\u001b[1;32m-> 3805\u001b[0m     \u001b[38;5;28;01mreturn\u001b[39;00m \u001b[38;5;28;43mself\u001b[39;49m\u001b[38;5;241;43m.\u001b[39;49m\u001b[43m_engine\u001b[49m\u001b[38;5;241;43m.\u001b[39;49m\u001b[43mget_loc\u001b[49m\u001b[43m(\u001b[49m\u001b[43mcasted_key\u001b[49m\u001b[43m)\u001b[49m\n\u001b[0;32m   3806\u001b[0m \u001b[38;5;28;01mexcept\u001b[39;00m \u001b[38;5;167;01mKeyError\u001b[39;00m \u001b[38;5;28;01mas\u001b[39;00m err:\n",
      "File \u001b[1;32mindex.pyx:167\u001b[0m, in \u001b[0;36mpandas._libs.index.IndexEngine.get_loc\u001b[1;34m()\u001b[0m\n",
      "File \u001b[1;32mindex.pyx:175\u001b[0m, in \u001b[0;36mpandas._libs.index.IndexEngine.get_loc\u001b[1;34m()\u001b[0m\n",
      "File \u001b[1;32mindex.pyx:802\u001b[0m, in \u001b[0;36mpandas._libs.index.BoolEngine._check_type\u001b[1;34m()\u001b[0m\n",
      "\u001b[1;31mKeyError\u001b[0m: 'isBestSeller'",
      "\nThe above exception was the direct cause of the following exception:\n",
      "\u001b[1;31mKeyError\u001b[0m                                  Traceback (most recent call last)",
      "Cell \u001b[1;32mIn[42], line 1\u001b[0m\n\u001b[1;32m----> 1\u001b[0m best_seller_result \u001b[38;5;241m=\u001b[39m result[\u001b[43mresult\u001b[49m\u001b[43m[\u001b[49m\u001b[38;5;124;43m'\u001b[39;49m\u001b[38;5;124;43misBestSeller\u001b[39;49m\u001b[38;5;124;43m'\u001b[39;49m\u001b[43m]\u001b[49m \u001b[38;5;241m==\u001b[39m \u001b[38;5;28;01mTrue\u001b[39;00m]\n\u001b[0;32m      2\u001b[0m best_seller_result \u001b[38;5;241m=\u001b[39m best_seller_result[best_seller_result \u001b[38;5;241m>\u001b[39m \u001b[38;5;241m0.02\u001b[39m]  \u001b[38;5;66;03m# Keep only values > 0.02\u001b[39;00m\n",
      "File \u001b[1;32m~\\AppData\\Local\\Programs\\Python\\Python313\\Lib\\site-packages\\pandas\\core\\frame.py:4102\u001b[0m, in \u001b[0;36mDataFrame.__getitem__\u001b[1;34m(self, key)\u001b[0m\n\u001b[0;32m   4100\u001b[0m \u001b[38;5;28;01mif\u001b[39;00m \u001b[38;5;28mself\u001b[39m\u001b[38;5;241m.\u001b[39mcolumns\u001b[38;5;241m.\u001b[39mnlevels \u001b[38;5;241m>\u001b[39m \u001b[38;5;241m1\u001b[39m:\n\u001b[0;32m   4101\u001b[0m     \u001b[38;5;28;01mreturn\u001b[39;00m \u001b[38;5;28mself\u001b[39m\u001b[38;5;241m.\u001b[39m_getitem_multilevel(key)\n\u001b[1;32m-> 4102\u001b[0m indexer \u001b[38;5;241m=\u001b[39m \u001b[38;5;28;43mself\u001b[39;49m\u001b[38;5;241;43m.\u001b[39;49m\u001b[43mcolumns\u001b[49m\u001b[38;5;241;43m.\u001b[39;49m\u001b[43mget_loc\u001b[49m\u001b[43m(\u001b[49m\u001b[43mkey\u001b[49m\u001b[43m)\u001b[49m\n\u001b[0;32m   4103\u001b[0m \u001b[38;5;28;01mif\u001b[39;00m is_integer(indexer):\n\u001b[0;32m   4104\u001b[0m     indexer \u001b[38;5;241m=\u001b[39m [indexer]\n",
      "File \u001b[1;32m~\\AppData\\Local\\Programs\\Python\\Python313\\Lib\\site-packages\\pandas\\core\\indexes\\base.py:3812\u001b[0m, in \u001b[0;36mIndex.get_loc\u001b[1;34m(self, key)\u001b[0m\n\u001b[0;32m   3807\u001b[0m     \u001b[38;5;28;01mif\u001b[39;00m \u001b[38;5;28misinstance\u001b[39m(casted_key, \u001b[38;5;28mslice\u001b[39m) \u001b[38;5;129;01mor\u001b[39;00m (\n\u001b[0;32m   3808\u001b[0m         \u001b[38;5;28misinstance\u001b[39m(casted_key, abc\u001b[38;5;241m.\u001b[39mIterable)\n\u001b[0;32m   3809\u001b[0m         \u001b[38;5;129;01mand\u001b[39;00m \u001b[38;5;28many\u001b[39m(\u001b[38;5;28misinstance\u001b[39m(x, \u001b[38;5;28mslice\u001b[39m) \u001b[38;5;28;01mfor\u001b[39;00m x \u001b[38;5;129;01min\u001b[39;00m casted_key)\n\u001b[0;32m   3810\u001b[0m     ):\n\u001b[0;32m   3811\u001b[0m         \u001b[38;5;28;01mraise\u001b[39;00m InvalidIndexError(key)\n\u001b[1;32m-> 3812\u001b[0m     \u001b[38;5;28;01mraise\u001b[39;00m \u001b[38;5;167;01mKeyError\u001b[39;00m(key) \u001b[38;5;28;01mfrom\u001b[39;00m\u001b[38;5;250m \u001b[39m\u001b[38;5;21;01merr\u001b[39;00m\n\u001b[0;32m   3813\u001b[0m \u001b[38;5;28;01mexcept\u001b[39;00m \u001b[38;5;167;01mTypeError\u001b[39;00m:\n\u001b[0;32m   3814\u001b[0m     \u001b[38;5;66;03m# If we have a listlike key, _check_indexing_error will raise\u001b[39;00m\n\u001b[0;32m   3815\u001b[0m     \u001b[38;5;66;03m#  InvalidIndexError. Otherwise we fall through and re-raise\u001b[39;00m\n\u001b[0;32m   3816\u001b[0m     \u001b[38;5;66;03m#  the TypeError.\u001b[39;00m\n\u001b[0;32m   3817\u001b[0m     \u001b[38;5;28mself\u001b[39m\u001b[38;5;241m.\u001b[39m_check_indexing_error(key)\n",
      "\u001b[1;31mKeyError\u001b[0m: 'isBestSeller'"
     ]
    }
   ],
   "source": [
    "best_seller_result = result[result['isBestSeller'] == True]\n",
=======
   "execution_count": 7,
   "id": "141fd82e-5d6e-4e26-bfe5-4e76d8ac0435",
   "metadata": {},
   "outputs": [],
   "source": [
    "best_seller_result = result.loc[True]  # Select only the best-seller row\n",
>>>>>>> 1e8a2ad59fef94ce298a6740c5ed23aeb06d983c
    "best_seller_result = best_seller_result[best_seller_result > 0.02]  # Keep only values > 0.02"
   ]
  },
  {
   "cell_type": "code",
<<<<<<< HEAD
   "execution_count": 35,
=======
   "execution_count": 8,
>>>>>>> 1e8a2ad59fef94ce298a6740c5ed23aeb06d983c
   "id": "d9b4d008-16e6-43f8-9a1b-1f6f727ee407",
   "metadata": {},
   "outputs": [
    {
<<<<<<< HEAD
=======
     "ename": "AttributeError",
     "evalue": "module 'matplotlib' has no attribute 'show'",
     "output_type": "error",
     "traceback": [
      "\u001b[1;31m---------------------------------------------------------------------------\u001b[0m",
      "\u001b[1;31mAttributeError\u001b[0m                            Traceback (most recent call last)",
      "Cell \u001b[1;32mIn[8], line 3\u001b[0m\n\u001b[0;32m      1\u001b[0m \u001b[38;5;66;03m# no stacked\u001b[39;00m\n\u001b[0;32m      2\u001b[0m best_seller_result\u001b[38;5;241m.\u001b[39mplot(kind\u001b[38;5;241m=\u001b[39m\u001b[38;5;124m'\u001b[39m\u001b[38;5;124mbar\u001b[39m\u001b[38;5;124m'\u001b[39m)\n\u001b[1;32m----> 3\u001b[0m \u001b[43mplt\u001b[49m\u001b[38;5;241;43m.\u001b[39;49m\u001b[43mshow\u001b[49m()\n",
      "File \u001b[1;32m~\\AppData\\Local\\Programs\\Python\\Python313\\Lib\\site-packages\\matplotlib\\_api\\__init__.py:218\u001b[0m, in \u001b[0;36mcaching_module_getattr.<locals>.__getattr__\u001b[1;34m(name)\u001b[0m\n\u001b[0;32m    216\u001b[0m \u001b[38;5;28;01mif\u001b[39;00m name \u001b[38;5;129;01min\u001b[39;00m props:\n\u001b[0;32m    217\u001b[0m     \u001b[38;5;28;01mreturn\u001b[39;00m props[name]\u001b[38;5;241m.\u001b[39m\u001b[38;5;21m__get__\u001b[39m(instance)\n\u001b[1;32m--> 218\u001b[0m \u001b[38;5;28;01mraise\u001b[39;00m \u001b[38;5;167;01mAttributeError\u001b[39;00m(\n\u001b[0;32m    219\u001b[0m     \u001b[38;5;124mf\u001b[39m\u001b[38;5;124m\"\u001b[39m\u001b[38;5;124mmodule \u001b[39m\u001b[38;5;132;01m{\u001b[39;00m\u001b[38;5;28mcls\u001b[39m\u001b[38;5;241m.\u001b[39m\u001b[38;5;18m__module__\u001b[39m\u001b[38;5;132;01m!r}\u001b[39;00m\u001b[38;5;124m has no attribute \u001b[39m\u001b[38;5;132;01m{\u001b[39;00mname\u001b[38;5;132;01m!r}\u001b[39;00m\u001b[38;5;124m\"\u001b[39m)\n",
      "\u001b[1;31mAttributeError\u001b[0m: module 'matplotlib' has no attribute 'show'"
     ]
    },
    {
>>>>>>> 1e8a2ad59fef94ce298a6740c5ed23aeb06d983c
     "data": {
      "image/png": "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",
      "text/plain": [
       "<Figure size 640x480 with 1 Axes>"
      ]
     },
     "metadata": {},
     "output_type": "display_data"
    }
   ],
   "source": [
    "# no stacked\n",
    "best_seller_result.plot(kind='bar')\n",
    "plt.show()"
   ]
  },
  {
   "cell_type": "markdown",
   "id": "14b711ea-2bd0-4b90-b120-1b5e13dec7fe",
   "metadata": {},
   "source": [
    "During this crosstab analysis I had to refine our parameters multiple times as I wanted to tune pitch the chart results to only show valuable information.\n",
    "\n",
    "The chart now only contains the proportion of the categories greater than 0.02% which are also best sellers.\n",
    "\n",
    "Looking at the graph we can confirm that the categories with higher proportions of being best sellers is **Grocery** followed by **Health & Personal care**.\n",
    "These 2 reach together roughly 0.13% proportion of the best sellers."
   ]
  },
  {
   "cell_type": "code",
<<<<<<< HEAD
   "execution_count": 43,
   "id": "6b02ee38-ddb1-4105-bc46-a3109d431df1",
   "metadata": {},
   "outputs": [
    {
     "data": {
      "text/plain": [
       "category\n",
       "Arts & Crafts             0.028822\n",
       "Baby                      0.042732\n",
       "Beauty                    0.037845\n",
       "Grocery                   0.069674\n",
       "Health & Personal Care    0.069173\n",
       "Men                       0.021178\n",
       "Pet Supplies              0.035714\n",
       "Power & Hand Tools        0.038346\n",
       "Sports & Outdoors         0.041353\n",
       "Women                     0.026692\n",
       "Name: True, dtype: float64"
      ]
     },
     "execution_count": 43,
     "metadata": {},
     "output_type": "execute_result"
    }
   ],
   "source": [
    "best_seller_result"
   ]
  },
  {
   "cell_type": "code",
   "execution_count": 44,
   "id": "012ac362-77d0-49d7-b83a-243bb8a991bd",
   "metadata": {},
   "outputs": [],
   "source": [
    "#running a chi-square test to determine whether a best seller is dependent on the category\n",
    "\n",
=======
   "execution_count": 9,
   "id": "012ac362-77d0-49d7-b83a-243bb8a991bd",
   "metadata": {},
   "outputs": [
    {
     "name": "stdout",
     "output_type": "stream",
     "text": [
      "Requirement already satisfied: scipy in c:\\users\\mirko\\appdata\\local\\programs\\python\\python313\\lib\\site-packages (1.15.2)\n",
      "Requirement already satisfied: numpy<2.5,>=1.23.5 in c:\\users\\mirko\\appdata\\local\\programs\\python\\python313\\lib\\site-packages (from scipy) (2.2.3)\n"
     ]
    }
   ],
   "source": [
    "#running a chi-square test to determine whether a best seller is dependent on the category\n",
    "\n",
    "!pip install scipy\n",
>>>>>>> 1e8a2ad59fef94ce298a6740c5ed23aeb06d983c
    "import scipy.stats as st\n",
    "from scipy.stats import chi2_contingency"
   ]
  },
  {
   "cell_type": "code",
<<<<<<< HEAD
   "execution_count": 45,
=======
   "execution_count": 10,
>>>>>>> 1e8a2ad59fef94ce298a6740c5ed23aeb06d983c
   "id": "19c85d30-c50f-4a97-9ea2-7f1517e5335e",
   "metadata": {},
   "outputs": [],
   "source": [
<<<<<<< HEAD
    "chi_crosstab = pd.crosstab(df['category'], df['isBestSeller'])"
=======
    "chi_crosstab = pd.crosstab(df['isBestSeller'], df['category'])"
>>>>>>> 1e8a2ad59fef94ce298a6740c5ed23aeb06d983c
   ]
  },
  {
   "cell_type": "code",
<<<<<<< HEAD
   "execution_count": 46,
=======
   "execution_count": 11,
>>>>>>> 1e8a2ad59fef94ce298a6740c5ed23aeb06d983c
   "id": "b11cd984-d60b-4a92-9083-0c7a43b9f774",
   "metadata": {},
   "outputs": [],
   "source": [
    "# Chi-square test for isBestSeller and category\n",
    "_, chi2_pvalue, _, _ = chi2_contingency(chi_crosstab)"
   ]
  },
  {
   "cell_type": "code",
<<<<<<< HEAD
   "execution_count": 47,
=======
   "execution_count": 12,
>>>>>>> 1e8a2ad59fef94ce298a6740c5ed23aeb06d983c
   "id": "58e145e9-8477-47ac-a0f0-663b8d794e5f",
   "metadata": {},
   "outputs": [
    {
     "data": {
      "text/plain": [
       "np.float64(0.0)"
      ]
     },
<<<<<<< HEAD
     "execution_count": 47,
=======
     "execution_count": 12,
>>>>>>> 1e8a2ad59fef94ce298a6740c5ed23aeb06d983c
     "metadata": {},
     "output_type": "execute_result"
    }
   ],
   "source": [
    "chi2_pvalue"
   ]
  },
  {
   "cell_type": "markdown",
   "id": "8bacb014-4057-4a4e-8fd2-0f1452cd01af",
   "metadata": {},
   "source": [
    "The chi-square test reveals that **there's a strong dependency** between best sellers and categories."
   ]
  },
  {
   "cell_type": "code",
<<<<<<< HEAD
   "execution_count": 48,
=======
   "execution_count": 13,
>>>>>>> 1e8a2ad59fef94ce298a6740c5ed23aeb06d983c
   "id": "a435a469-fa7a-4ec7-93be-e083e56267aa",
   "metadata": {},
   "outputs": [
    {
     "data": {
      "text/plain": [
       "0.1222829439760564"
      ]
     },
<<<<<<< HEAD
     "execution_count": 48,
=======
     "execution_count": 13,
>>>>>>> 1e8a2ad59fef94ce298a6740c5ed23aeb06d983c
     "metadata": {},
     "output_type": "execute_result"
    }
   ],
   "source": [
    "#using Cramer's V test to see how strong the dependency is.\n",
    "\n",
    "from scipy.stats.contingency import association\n",
    "\n",
    "association(chi_crosstab, method='cramer')"
   ]
  },
  {
   "cell_type": "markdown",
   "id": "1438f7c4-5ee4-474c-aa73-0a0771858d1b",
   "metadata": {},
   "source": [
    "Although the chi-square test resulted into a 0 (strong dependency) the Cramer's test resulted into 0.12 which shows a weak relationship.\n",
    "Considering Cramer's test we can assume there must be a stronger relationship in the dataset."
   ]
  },
  {
   "cell_type": "code",
<<<<<<< HEAD
   "execution_count": 15,
=======
   "execution_count": 14,
>>>>>>> 1e8a2ad59fef94ce298a6740c5ed23aeb06d983c
   "id": "e63aebfc-654e-41e5-844a-12a5f5249c7a",
   "metadata": {},
   "outputs": [
    {
     "data": {
      "text/html": [
       "<div>\n",
       "<style scoped>\n",
       "    .dataframe tbody tr th:only-of-type {\n",
       "        vertical-align: middle;\n",
       "    }\n",
       "\n",
       "    .dataframe tbody tr th {\n",
       "        vertical-align: top;\n",
       "    }\n",
       "\n",
       "    .dataframe thead th {\n",
       "        text-align: right;\n",
       "    }\n",
       "</style>\n",
       "<table border=\"1\" class=\"dataframe\">\n",
       "  <thead>\n",
       "    <tr style=\"text-align: right;\">\n",
       "      <th>category</th>\n",
       "      <th>Beauty</th>\n",
       "      <th>Hair Care</th>\n",
       "      <th>Luggage and travel gear</th>\n",
       "      <th>Manicure &amp; Pedicure Products</th>\n",
       "      <th>Men</th>\n",
       "      <th>Skin Care</th>\n",
       "      <th>Sports &amp; Outdoors</th>\n",
       "      <th>Women</th>\n",
       "    </tr>\n",
       "    <tr>\n",
       "      <th>isBestSeller</th>\n",
       "      <th></th>\n",
       "      <th></th>\n",
       "      <th></th>\n",
       "      <th></th>\n",
       "      <th></th>\n",
       "      <th></th>\n",
       "      <th></th>\n",
       "      <th></th>\n",
       "    </tr>\n",
       "  </thead>\n",
       "  <tbody>\n",
       "    <tr>\n",
       "      <th>False</th>\n",
       "      <td>0.007805</td>\n",
       "      <td>0.007663</td>\n",
       "      <td>0.007409</td>\n",
       "      <td>0.007752</td>\n",
       "      <td>0.007081</td>\n",
       "      <td>0.007682</td>\n",
       "      <td>0.343205</td>\n",
       "      <td>0.007209</td>\n",
       "    </tr>\n",
       "    <tr>\n",
       "      <th>True</th>\n",
       "      <td>0.037845</td>\n",
       "      <td>0.008772</td>\n",
       "      <td>0.011905</td>\n",
       "      <td>0.007268</td>\n",
       "      <td>0.021178</td>\n",
       "      <td>0.007268</td>\n",
       "      <td>0.041353</td>\n",
       "      <td>0.026692</td>\n",
       "    </tr>\n",
       "  </tbody>\n",
       "</table>\n",
       "</div>"
      ],
      "text/plain": [
       "category        Beauty  Hair Care  Luggage and travel gear  \\\n",
       "isBestSeller                                                 \n",
       "False         0.007805   0.007663                 0.007409   \n",
       "True          0.037845   0.008772                 0.011905   \n",
       "\n",
       "category      Manicure & Pedicure Products       Men  Skin Care  \\\n",
       "isBestSeller                                                      \n",
       "False                             0.007752  0.007081   0.007682   \n",
       "True                              0.007268  0.021178   0.007268   \n",
       "\n",
       "category      Sports & Outdoors     Women  \n",
       "isBestSeller                               \n",
       "False                  0.343205  0.007209  \n",
       "True                   0.041353  0.026692  "
      ]
     },
<<<<<<< HEAD
     "execution_count": 15,
=======
     "execution_count": 14,
>>>>>>> 1e8a2ad59fef94ce298a6740c5ed23aeb06d983c
     "metadata": {},
     "output_type": "execute_result"
    }
   ],
   "source": [
    "filtered_result = result.loc[:, (result > 0.007).all(axis=0)]\n",
    "filtered_result"
   ]
  },
  {
   "cell_type": "code",
<<<<<<< HEAD
   "execution_count": 16,
=======
   "execution_count": 15,
>>>>>>> 1e8a2ad59fef94ce298a6740c5ed23aeb06d983c
   "id": "06b311bf-256b-410c-849d-40a35e51af2c",
   "metadata": {},
   "outputs": [
    {
     "data": {
      "image/png": "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",
      "text/plain": [
       "<Figure size 640x480 with 1 Axes>"
      ]
     },
     "metadata": {},
     "output_type": "display_data"
    }
   ],
   "source": [
    "import matplotlib.pyplot as plt\n",
    "filtered_result.plot(kind='bar', stacked= True)\n",
    "plt.show()"
   ]
  },
  {
   "cell_type": "markdown",
   "id": "5d6d912f-0bfe-463f-a28b-ae1e2c4b3c4b",
   "metadata": {},
   "source": [
    "The above graph shows the market proportion by taking into consideration both best sellers and not."
   ]
  },
  {
   "cell_type": "code",
<<<<<<< HEAD
   "execution_count": 17,
=======
   "execution_count": 16,
>>>>>>> 1e8a2ad59fef94ce298a6740c5ed23aeb06d983c
   "id": "1db77dff-9e52-458d-82bb-1ac6bd99de17",
   "metadata": {},
   "outputs": [
    {
     "data": {
      "text/html": [
       "<div>\n",
       "<style scoped>\n",
       "    .dataframe tbody tr th:only-of-type {\n",
       "        vertical-align: middle;\n",
       "    }\n",
       "\n",
       "    .dataframe tbody tr th {\n",
       "        vertical-align: top;\n",
       "    }\n",
       "\n",
       "    .dataframe thead th {\n",
       "        text-align: right;\n",
       "    }\n",
       "</style>\n",
       "<table border=\"1\" class=\"dataframe\">\n",
       "  <thead>\n",
       "    <tr style=\"text-align: right;\">\n",
       "      <th></th>\n",
       "      <th>uid</th>\n",
       "      <th>asin</th>\n",
       "      <th>title</th>\n",
       "      <th>stars</th>\n",
       "      <th>reviews</th>\n",
       "      <th>price</th>\n",
       "      <th>isBestSeller</th>\n",
       "      <th>boughtInLastMonth</th>\n",
       "      <th>category</th>\n",
       "    </tr>\n",
       "  </thead>\n",
       "  <tbody>\n",
       "    <tr>\n",
       "      <th>2008013</th>\n",
       "      <td>2259336</td>\n",
       "      <td>B091F5Y3CT</td>\n",
       "      <td>HB FBA Test Treadmill</td>\n",
       "      <td>0.0</td>\n",
       "      <td>0</td>\n",
       "      <td>100000.00</td>\n",
       "      <td>False</td>\n",
       "      <td>0</td>\n",
       "      <td>Sports &amp; Outdoors</td>\n",
       "    </tr>\n",
       "    <tr>\n",
       "      <th>1987238</th>\n",
       "      <td>2235317</td>\n",
       "      <td>B0CDVKNBRV</td>\n",
       "      <td>Générique L.A 350° - I5 11400F - RTX 3050 8G -...</td>\n",
       "      <td>0.0</td>\n",
       "      <td>0</td>\n",
       "      <td>77752.00</td>\n",
       "      <td>False</td>\n",
       "      <td>0</td>\n",
       "      <td>Desktop PCs</td>\n",
       "    </tr>\n",
       "    <tr>\n",
       "      <th>1905315</th>\n",
       "      <td>2136904</td>\n",
       "      <td>B0CJSNFYVM</td>\n",
       "      <td>Abaodam decor christmas ornaments Desk Ornamen...</td>\n",
       "      <td>0.0</td>\n",
       "      <td>0</td>\n",
       "      <td>24674.59</td>\n",
       "      <td>False</td>\n",
       "      <td>0</td>\n",
       "      <td>Garden Storage &amp; Housing</td>\n",
       "    </tr>\n",
       "    <tr>\n",
       "      <th>1408966</th>\n",
       "      <td>1551117</td>\n",
       "      <td>B0CHT331TN</td>\n",
       "      <td>BM4445-FI1-01200R10-03-E03 Driver</td>\n",
       "      <td>0.0</td>\n",
       "      <td>0</td>\n",
       "      <td>23482.73</td>\n",
       "      <td>False</td>\n",
       "      <td>0</td>\n",
       "      <td>Scanners &amp; Accessories</td>\n",
       "    </tr>\n",
       "    <tr>\n",
       "      <th>319555</th>\n",
       "      <td>340285</td>\n",
       "      <td>B0CHYG6MNW</td>\n",
       "      <td>HEDUSA Halloween 3D Holographic Fan 3D Hologra...</td>\n",
       "      <td>0.0</td>\n",
       "      <td>0</td>\n",
       "      <td>22933.42</td>\n",
       "      <td>False</td>\n",
       "      <td>0</td>\n",
       "      <td>Projectors</td>\n",
       "    </tr>\n",
       "    <tr>\n",
       "      <th>...</th>\n",
       "      <td>...</td>\n",
       "      <td>...</td>\n",
       "      <td>...</td>\n",
       "      <td>...</td>\n",
       "      <td>...</td>\n",
       "      <td>...</td>\n",
       "      <td>...</td>\n",
       "      <td>...</td>\n",
       "      <td>...</td>\n",
       "    </tr>\n",
       "    <tr>\n",
       "      <th>1025782</th>\n",
       "      <td>1134431</td>\n",
       "      <td>B0BL8LQCHZ</td>\n",
       "      <td>4 in 1 Bundle Off the Grid Survival Book, Prep...</td>\n",
       "      <td>4.3</td>\n",
       "      <td>5</td>\n",
       "      <td>0.00</td>\n",
       "      <td>False</td>\n",
       "      <td>0</td>\n",
       "      <td>Sports &amp; Outdoors</td>\n",
       "    </tr>\n",
       "    <tr>\n",
       "      <th>547321</th>\n",
       "      <td>590132</td>\n",
       "      <td>B005KKRRVK</td>\n",
       "      <td>Kensuke’s Kingdom</td>\n",
       "      <td>4.7</td>\n",
       "      <td>4565</td>\n",
       "      <td>0.00</td>\n",
       "      <td>False</td>\n",
       "      <td>0</td>\n",
       "      <td>PC &amp; Video Games</td>\n",
       "    </tr>\n",
       "    <tr>\n",
       "      <th>547507</th>\n",
       "      <td>590332</td>\n",
       "      <td>B09WRXGQZL</td>\n",
       "      <td>Faith, Hope and Carnage</td>\n",
       "      <td>4.7</td>\n",
       "      <td>546</td>\n",
       "      <td>0.00</td>\n",
       "      <td>False</td>\n",
       "      <td>0</td>\n",
       "      <td>PC &amp; Video Games</td>\n",
       "    </tr>\n",
       "    <tr>\n",
       "      <th>1531995</th>\n",
       "      <td>1726672</td>\n",
       "      <td>B07YGP8442</td>\n",
       "      <td>100 Years of Leeds United</td>\n",
       "      <td>4.8</td>\n",
       "      <td>1349</td>\n",
       "      <td>0.00</td>\n",
       "      <td>False</td>\n",
       "      <td>0</td>\n",
       "      <td>Sports &amp; Outdoors</td>\n",
       "    </tr>\n",
       "    <tr>\n",
       "      <th>1696245</th>\n",
       "      <td>1910119</td>\n",
       "      <td>B07VHSVDTY</td>\n",
       "      <td>How Not to Diet: The Groundbreaking Science of...</td>\n",
       "      <td>4.7</td>\n",
       "      <td>6187</td>\n",
       "      <td>0.00</td>\n",
       "      <td>False</td>\n",
       "      <td>0</td>\n",
       "      <td>Sports Supplements</td>\n",
       "    </tr>\n",
       "  </tbody>\n",
       "</table>\n",
       "<p>2443651 rows × 9 columns</p>\n",
       "</div>"
      ],
      "text/plain": [
       "             uid        asin  \\\n",
       "2008013  2259336  B091F5Y3CT   \n",
       "1987238  2235317  B0CDVKNBRV   \n",
       "1905315  2136904  B0CJSNFYVM   \n",
       "1408966  1551117  B0CHT331TN   \n",
       "319555    340285  B0CHYG6MNW   \n",
       "...          ...         ...   \n",
       "1025782  1134431  B0BL8LQCHZ   \n",
       "547321    590132  B005KKRRVK   \n",
       "547507    590332  B09WRXGQZL   \n",
       "1531995  1726672  B07YGP8442   \n",
       "1696245  1910119  B07VHSVDTY   \n",
       "\n",
       "                                                     title  stars  reviews  \\\n",
       "2008013                              HB FBA Test Treadmill    0.0        0   \n",
       "1987238  Générique L.A 350° - I5 11400F - RTX 3050 8G -...    0.0        0   \n",
       "1905315  Abaodam decor christmas ornaments Desk Ornamen...    0.0        0   \n",
       "1408966                  BM4445-FI1-01200R10-03-E03 Driver    0.0        0   \n",
       "319555   HEDUSA Halloween 3D Holographic Fan 3D Hologra...    0.0        0   \n",
       "...                                                    ...    ...      ...   \n",
       "1025782  4 in 1 Bundle Off the Grid Survival Book, Prep...    4.3        5   \n",
       "547321                                   Kensuke’s Kingdom    4.7     4565   \n",
       "547507                             Faith, Hope and Carnage    4.7      546   \n",
       "1531995                          100 Years of Leeds United    4.8     1349   \n",
       "1696245  How Not to Diet: The Groundbreaking Science of...    4.7     6187   \n",
       "\n",
       "             price  isBestSeller  boughtInLastMonth                  category  \n",
       "2008013  100000.00         False                  0         Sports & Outdoors  \n",
       "1987238   77752.00         False                  0               Desktop PCs  \n",
       "1905315   24674.59         False                  0  Garden Storage & Housing  \n",
       "1408966   23482.73         False                  0    Scanners & Accessories  \n",
       "319555    22933.42         False                  0                Projectors  \n",
       "...            ...           ...                ...                       ...  \n",
       "1025782       0.00         False                  0         Sports & Outdoors  \n",
       "547321        0.00         False                  0          PC & Video Games  \n",
       "547507        0.00         False                  0          PC & Video Games  \n",
       "1531995       0.00         False                  0         Sports & Outdoors  \n",
       "1696245       0.00         False                  0        Sports Supplements  \n",
       "\n",
       "[2443651 rows x 9 columns]"
      ]
     },
<<<<<<< HEAD
     "execution_count": 17,
=======
     "execution_count": 16,
>>>>>>> 1e8a2ad59fef94ce298a6740c5ed23aeb06d983c
     "metadata": {},
     "output_type": "execute_result"
    }
   ],
   "source": [
    "highest_prices_bestsell = df.sort_values(by='price', ascending= False)\n",
    "highest_prices_bestsell"
   ]
  },
  {
   "cell_type": "code",
<<<<<<< HEAD
   "execution_count": 18,
   "id": "5fb0c9a9-b968-45ff-8f0e-6345c1c29a47",
   "metadata": {},
   "outputs": [
    {
     "data": {
      "text/html": [
       "<div>\n",
       "<style scoped>\n",
       "    .dataframe tbody tr th:only-of-type {\n",
       "        vertical-align: middle;\n",
       "    }\n",
       "\n",
       "    .dataframe tbody tr th {\n",
       "        vertical-align: top;\n",
       "    }\n",
       "\n",
       "    .dataframe thead th {\n",
       "        text-align: right;\n",
       "    }\n",
       "</style>\n",
       "<table border=\"1\" class=\"dataframe\">\n",
       "  <thead>\n",
       "    <tr style=\"text-align: right;\">\n",
       "      <th></th>\n",
       "      <th>uid</th>\n",
       "      <th>asin</th>\n",
       "      <th>title</th>\n",
       "      <th>stars</th>\n",
       "      <th>reviews</th>\n",
       "      <th>price</th>\n",
       "      <th>isBestSeller</th>\n",
       "      <th>boughtInLastMonth</th>\n",
       "      <th>category</th>\n",
       "    </tr>\n",
       "  </thead>\n",
       "  <tbody>\n",
       "    <tr>\n",
       "      <th>0</th>\n",
       "      <td>1</td>\n",
       "      <td>B09B96TG33</td>\n",
       "      <td>Echo Dot (5th generation, 2022 release) | Big ...</td>\n",
       "      <td>4.7</td>\n",
       "      <td>15308</td>\n",
       "      <td>21.99</td>\n",
       "      <td>False</td>\n",
       "      <td>0</td>\n",
       "      <td>Hi-Fi Speakers</td>\n",
       "    </tr>\n",
       "    <tr>\n",
       "      <th>1</th>\n",
       "      <td>2</td>\n",
       "      <td>B01HTH3C8S</td>\n",
       "      <td>Anker Soundcore mini, Super-Portable Bluetooth...</td>\n",
       "      <td>4.7</td>\n",
       "      <td>98099</td>\n",
       "      <td>23.99</td>\n",
       "      <td>True</td>\n",
       "      <td>0</td>\n",
       "      <td>Hi-Fi Speakers</td>\n",
       "    </tr>\n",
       "    <tr>\n",
       "      <th>2</th>\n",
       "      <td>3</td>\n",
       "      <td>B09B8YWXDF</td>\n",
       "      <td>Echo Dot (5th generation, 2022 release) | Big ...</td>\n",
       "      <td>4.7</td>\n",
       "      <td>15308</td>\n",
       "      <td>21.99</td>\n",
       "      <td>False</td>\n",
       "      <td>0</td>\n",
       "      <td>Hi-Fi Speakers</td>\n",
       "    </tr>\n",
       "    <tr>\n",
       "      <th>3</th>\n",
       "      <td>4</td>\n",
       "      <td>B09B8T5VGV</td>\n",
       "      <td>Echo Dot with clock (5th generation, 2022 rele...</td>\n",
       "      <td>4.7</td>\n",
       "      <td>7205</td>\n",
       "      <td>31.99</td>\n",
       "      <td>False</td>\n",
       "      <td>0</td>\n",
       "      <td>Hi-Fi Speakers</td>\n",
       "    </tr>\n",
       "    <tr>\n",
       "      <th>4</th>\n",
       "      <td>5</td>\n",
       "      <td>B09WX6QD65</td>\n",
       "      <td>Introducing Echo Pop | Full sound compact Wi-F...</td>\n",
       "      <td>4.6</td>\n",
       "      <td>1881</td>\n",
       "      <td>17.99</td>\n",
       "      <td>False</td>\n",
       "      <td>0</td>\n",
       "      <td>Hi-Fi Speakers</td>\n",
       "    </tr>\n",
       "    <tr>\n",
       "      <th>...</th>\n",
       "      <td>...</td>\n",
       "      <td>...</td>\n",
       "      <td>...</td>\n",
       "      <td>...</td>\n",
       "      <td>...</td>\n",
       "      <td>...</td>\n",
       "      <td>...</td>\n",
       "      <td>...</td>\n",
       "      <td>...</td>\n",
       "    </tr>\n",
       "    <tr>\n",
       "      <th>2443646</th>\n",
       "      <td>2828589</td>\n",
       "      <td>B0CHSD7P2Q</td>\n",
       "      <td>Motorbike Armour, Motorbike Clothing, Cycling ...</td>\n",
       "      <td>0.0</td>\n",
       "      <td>0</td>\n",
       "      <td>22.34</td>\n",
       "      <td>False</td>\n",
       "      <td>0</td>\n",
       "      <td>Motorbike Clothing</td>\n",
       "    </tr>\n",
       "    <tr>\n",
       "      <th>2443647</th>\n",
       "      <td>2828590</td>\n",
       "      <td>B0B7B8FNBQ</td>\n",
       "      <td>PROFIRST Waterproof Motorcycle 2 Piece Ladies ...</td>\n",
       "      <td>0.0</td>\n",
       "      <td>0</td>\n",
       "      <td>97.99</td>\n",
       "      <td>False</td>\n",
       "      <td>0</td>\n",
       "      <td>Motorbike Clothing</td>\n",
       "    </tr>\n",
       "    <tr>\n",
       "      <th>2443648</th>\n",
       "      <td>2828591</td>\n",
       "      <td>B0BD5FL5FB</td>\n",
       "      <td>Men’s Motorcycle Motorbike Biker Trousers Kevl...</td>\n",
       "      <td>0.0</td>\n",
       "      <td>0</td>\n",
       "      <td>52.99</td>\n",
       "      <td>False</td>\n",
       "      <td>0</td>\n",
       "      <td>Motorbike Clothing</td>\n",
       "    </tr>\n",
       "    <tr>\n",
       "      <th>2443649</th>\n",
       "      <td>2828592</td>\n",
       "      <td>B008OYLL4I</td>\n",
       "      <td>Texpeed Mens Motorcycle Motorbike Biker Trouse...</td>\n",
       "      <td>4.3</td>\n",
       "      <td>404</td>\n",
       "      <td>79.99</td>\n",
       "      <td>False</td>\n",
       "      <td>0</td>\n",
       "      <td>Motorbike Clothing</td>\n",
       "    </tr>\n",
       "    <tr>\n",
       "      <th>2443650</th>\n",
       "      <td>2828593</td>\n",
       "      <td>B08P3W9B3T</td>\n",
       "      <td>RIDEX CJ223 Motorcycle Motorbike Jacket Armour...</td>\n",
       "      <td>4.5</td>\n",
       "      <td>34</td>\n",
       "      <td>53.99</td>\n",
       "      <td>False</td>\n",
       "      <td>0</td>\n",
       "      <td>Motorbike Clothing</td>\n",
       "    </tr>\n",
       "  </tbody>\n",
       "</table>\n",
       "<p>2443651 rows × 9 columns</p>\n",
       "</div>"
      ],
      "text/plain": [
       "             uid        asin  \\\n",
       "0              1  B09B96TG33   \n",
       "1              2  B01HTH3C8S   \n",
       "2              3  B09B8YWXDF   \n",
       "3              4  B09B8T5VGV   \n",
       "4              5  B09WX6QD65   \n",
       "...          ...         ...   \n",
       "2443646  2828589  B0CHSD7P2Q   \n",
       "2443647  2828590  B0B7B8FNBQ   \n",
       "2443648  2828591  B0BD5FL5FB   \n",
       "2443649  2828592  B008OYLL4I   \n",
       "2443650  2828593  B08P3W9B3T   \n",
       "\n",
       "                                                     title  stars  reviews  \\\n",
       "0        Echo Dot (5th generation, 2022 release) | Big ...    4.7    15308   \n",
       "1        Anker Soundcore mini, Super-Portable Bluetooth...    4.7    98099   \n",
       "2        Echo Dot (5th generation, 2022 release) | Big ...    4.7    15308   \n",
       "3        Echo Dot with clock (5th generation, 2022 rele...    4.7     7205   \n",
       "4        Introducing Echo Pop | Full sound compact Wi-F...    4.6     1881   \n",
       "...                                                    ...    ...      ...   \n",
       "2443646  Motorbike Armour, Motorbike Clothing, Cycling ...    0.0        0   \n",
       "2443647  PROFIRST Waterproof Motorcycle 2 Piece Ladies ...    0.0        0   \n",
       "2443648  Men’s Motorcycle Motorbike Biker Trousers Kevl...    0.0        0   \n",
       "2443649  Texpeed Mens Motorcycle Motorbike Biker Trouse...    4.3      404   \n",
       "2443650  RIDEX CJ223 Motorcycle Motorbike Jacket Armour...    4.5       34   \n",
       "\n",
       "         price  isBestSeller  boughtInLastMonth            category  \n",
       "0        21.99         False                  0      Hi-Fi Speakers  \n",
       "1        23.99          True                  0      Hi-Fi Speakers  \n",
       "2        21.99         False                  0      Hi-Fi Speakers  \n",
       "3        31.99         False                  0      Hi-Fi Speakers  \n",
       "4        17.99         False                  0      Hi-Fi Speakers  \n",
       "...        ...           ...                ...                 ...  \n",
       "2443646  22.34         False                  0  Motorbike Clothing  \n",
       "2443647  97.99         False                  0  Motorbike Clothing  \n",
       "2443648  52.99         False                  0  Motorbike Clothing  \n",
       "2443649  79.99         False                  0  Motorbike Clothing  \n",
       "2443650  53.99         False                  0  Motorbike Clothing  \n",
       "\n",
       "[2443651 rows x 9 columns]"
      ]
     },
     "execution_count": 18,
     "metadata": {},
     "output_type": "execute_result"
    }
   ],
   "source": [
    "df"
=======
   "execution_count": 17,
   "id": "68ad72f5-c1fc-4fcc-8731-0ef472b37cf3",
   "metadata": {},
   "outputs": [],
   "source": [
    "highest_prices_nobest = highest_prices_bestsell.copy()"
   ]
  },
  {
   "cell_type": "code",
   "execution_count": 18,
   "id": "02912a9e-dac8-4cf4-90dc-c23bba8bfcbd",
   "metadata": {},
   "outputs": [],
   "source": [
    "highest_prices_bestsell = highest_prices_bestsell.loc[(highest_prices_bestsell['isBestSeller']) == True]\n",
    "highest_prices_nobest = highest_prices_nobest.loc[(highest_prices_nobest['isBestSeller']) == False]"
>>>>>>> 1e8a2ad59fef94ce298a6740c5ed23aeb06d983c
   ]
  },
  {
   "cell_type": "code",
   "execution_count": 19,
<<<<<<< HEAD
   "id": "e8f3e56c-386c-43d2-9e55-c45e58dbb468",
   "metadata": {},
   "outputs": [],
   "source": [
    "num = df.select_dtypes(include = 'number')\n",
    "cat = df.select_dtypes(exclude = 'number')"
=======
   "id": "3c3a6a52-2fc1-4243-a947-3c8f2933dc70",
   "metadata": {},
   "outputs": [
    {
     "data": {
      "text/plain": [
       "np.float64(22.665729323308273)"
      ]
     },
     "execution_count": 19,
     "metadata": {},
     "output_type": "execute_result"
    }
   ],
   "source": [
    "avg_price_bestsell = highest_prices_bestsell['price'].mean()\n",
    "avg_price_bestsell"
>>>>>>> 1e8a2ad59fef94ce298a6740c5ed23aeb06d983c
   ]
  },
  {
   "cell_type": "code",
   "execution_count": 20,
<<<<<<< HEAD
   "id": "ed1fced4-75b7-470f-933d-0c8b0d08f3c4",
   "metadata": {},
   "outputs": [],
   "source": [
    "#Removing the outliers for the best sellers\n",
    "Q1 = num.quantile(0.25)  # 25th percentile (Q1)\n",
    "Q3= num.quantile(0.75) # 75th percentile (Q3)\n",
    "IQR = Q3 - Q1\n",
    "lower_bound = Q1 - 1.5 * IQR\n",
    "upper_bound = Q3 + 1.5 * IQR\n",
    "\n",
    "num_no_outliers = num[(num >= lower_bound) & (num <= upper_bound)]\n"
=======
   "id": "223ab0cb-70f0-4e0a-967d-f2bb4f04539e",
   "metadata": {},
   "outputs": [
    {
     "data": {
      "text/plain": [
       "np.float64(89.46193950660854)"
      ]
     },
     "execution_count": 20,
     "metadata": {},
     "output_type": "execute_result"
    }
   ],
   "source": [
    "avg_price_nobest = highest_prices_nobest['price'].mean()\n",
    "avg_price_nobest"
   ]
  },
  {
   "cell_type": "markdown",
   "id": "92bc1989-f6cc-484c-a3c6-dff3cdef24fa",
   "metadata": {},
   "source": [
    "Looking into the average prices of the best sellers and not we can already see there's a wide difference.\n",
    "This suggests that products with higher prices aren't as purchased as the ones with lower price.\n",
    "\n",
    "We are going to take out the outliers and see how the prices behave once these are taken out."
>>>>>>> 1e8a2ad59fef94ce298a6740c5ed23aeb06d983c
   ]
  },
  {
   "cell_type": "code",
   "execution_count": 21,
<<<<<<< HEAD
   "id": "eb0a340e-fc1b-4195-b716-3db0a6faea6b",
=======
   "id": "41ac23e9-4c97-40f5-9515-85102d6ab71e",
>>>>>>> 1e8a2ad59fef94ce298a6740c5ed23aeb06d983c
   "metadata": {},
   "outputs": [
    {
     "data": {
<<<<<<< HEAD
      "text/html": [
       "<div>\n",
       "<style scoped>\n",
       "    .dataframe tbody tr th:only-of-type {\n",
       "        vertical-align: middle;\n",
       "    }\n",
       "\n",
       "    .dataframe tbody tr th {\n",
       "        vertical-align: top;\n",
       "    }\n",
       "\n",
       "    .dataframe thead th {\n",
       "        text-align: right;\n",
       "    }\n",
       "</style>\n",
       "<table border=\"1\" class=\"dataframe\">\n",
       "  <thead>\n",
       "    <tr style=\"text-align: right;\">\n",
       "      <th></th>\n",
       "      <th>uid</th>\n",
       "      <th>stars</th>\n",
       "      <th>reviews</th>\n",
       "      <th>price</th>\n",
       "      <th>boughtInLastMonth</th>\n",
       "    </tr>\n",
       "  </thead>\n",
       "  <tbody>\n",
       "    <tr>\n",
       "      <th>0</th>\n",
       "      <td>1</td>\n",
       "      <td>4.7</td>\n",
       "      <td>NaN</td>\n",
       "      <td>21.99</td>\n",
       "      <td>0.0</td>\n",
       "    </tr>\n",
       "    <tr>\n",
       "      <th>1</th>\n",
       "      <td>2</td>\n",
       "      <td>4.7</td>\n",
       "      <td>NaN</td>\n",
       "      <td>23.99</td>\n",
       "      <td>0.0</td>\n",
       "    </tr>\n",
       "    <tr>\n",
       "      <th>2</th>\n",
       "      <td>3</td>\n",
       "      <td>4.7</td>\n",
       "      <td>NaN</td>\n",
       "      <td>21.99</td>\n",
       "      <td>0.0</td>\n",
       "    </tr>\n",
       "    <tr>\n",
       "      <th>3</th>\n",
       "      <td>4</td>\n",
       "      <td>4.7</td>\n",
       "      <td>NaN</td>\n",
       "      <td>31.99</td>\n",
       "      <td>0.0</td>\n",
       "    </tr>\n",
       "    <tr>\n",
       "      <th>4</th>\n",
       "      <td>5</td>\n",
       "      <td>4.6</td>\n",
       "      <td>NaN</td>\n",
       "      <td>17.99</td>\n",
       "      <td>0.0</td>\n",
       "    </tr>\n",
       "    <tr>\n",
       "      <th>...</th>\n",
       "      <td>...</td>\n",
       "      <td>...</td>\n",
       "      <td>...</td>\n",
       "      <td>...</td>\n",
       "      <td>...</td>\n",
       "    </tr>\n",
       "    <tr>\n",
       "      <th>2443646</th>\n",
       "      <td>2828589</td>\n",
       "      <td>0.0</td>\n",
       "      <td>0.0</td>\n",
       "      <td>22.34</td>\n",
       "      <td>0.0</td>\n",
       "    </tr>\n",
       "    <tr>\n",
       "      <th>2443647</th>\n",
       "      <td>2828590</td>\n",
       "      <td>0.0</td>\n",
       "      <td>0.0</td>\n",
       "      <td>97.99</td>\n",
       "      <td>0.0</td>\n",
       "    </tr>\n",
       "    <tr>\n",
       "      <th>2443648</th>\n",
       "      <td>2828591</td>\n",
       "      <td>0.0</td>\n",
       "      <td>0.0</td>\n",
       "      <td>52.99</td>\n",
       "      <td>0.0</td>\n",
       "    </tr>\n",
       "    <tr>\n",
       "      <th>2443649</th>\n",
       "      <td>2828592</td>\n",
       "      <td>4.3</td>\n",
       "      <td>NaN</td>\n",
       "      <td>79.99</td>\n",
       "      <td>0.0</td>\n",
       "    </tr>\n",
       "    <tr>\n",
       "      <th>2443650</th>\n",
       "      <td>2828593</td>\n",
       "      <td>4.5</td>\n",
       "      <td>34.0</td>\n",
       "      <td>53.99</td>\n",
       "      <td>0.0</td>\n",
       "    </tr>\n",
       "  </tbody>\n",
       "</table>\n",
       "<p>2443651 rows × 5 columns</p>\n",
       "</div>"
      ],
      "text/plain": [
       "             uid  stars  reviews  price  boughtInLastMonth\n",
       "0              1    4.7      NaN  21.99                0.0\n",
       "1              2    4.7      NaN  23.99                0.0\n",
       "2              3    4.7      NaN  21.99                0.0\n",
       "3              4    4.7      NaN  31.99                0.0\n",
       "4              5    4.6      NaN  17.99                0.0\n",
       "...          ...    ...      ...    ...                ...\n",
       "2443646  2828589    0.0      0.0  22.34                0.0\n",
       "2443647  2828590    0.0      0.0  97.99                0.0\n",
       "2443648  2828591    0.0      0.0  52.99                0.0\n",
       "2443649  2828592    4.3      NaN  79.99                0.0\n",
       "2443650  2828593    4.5     34.0  53.99                0.0\n",
       "\n",
       "[2443651 rows x 5 columns]"
=======
      "text/plain": [
       "np.float64(12.5)"
>>>>>>> 1e8a2ad59fef94ce298a6740c5ed23aeb06d983c
      ]
     },
     "execution_count": 21,
     "metadata": {},
     "output_type": "execute_result"
    }
   ],
   "source": [
<<<<<<< HEAD
    "num_no_outliers"
=======
    "median_bestsell = highest_prices_bestsell['price'].median()\n",
    "median_bestsell"
>>>>>>> 1e8a2ad59fef94ce298a6740c5ed23aeb06d983c
   ]
  },
  {
   "cell_type": "code",
   "execution_count": 22,
<<<<<<< HEAD
   "id": "e7a65094-4bdb-4ce3-a243-7a206e22e995",
=======
   "id": "f97299ab-2663-433a-be9b-7d539ac6047e",
>>>>>>> 1e8a2ad59fef94ce298a6740c5ed23aeb06d983c
   "metadata": {},
   "outputs": [
    {
     "data": {
<<<<<<< HEAD
      "text/html": [
       "<div>\n",
       "<style scoped>\n",
       "    .dataframe tbody tr th:only-of-type {\n",
       "        vertical-align: middle;\n",
       "    }\n",
       "\n",
       "    .dataframe tbody tr th {\n",
       "        vertical-align: top;\n",
       "    }\n",
       "\n",
       "    .dataframe thead th {\n",
       "        text-align: right;\n",
       "    }\n",
       "</style>\n",
       "<table border=\"1\" class=\"dataframe\">\n",
       "  <thead>\n",
       "    <tr style=\"text-align: right;\">\n",
       "      <th></th>\n",
       "      <th>uid</th>\n",
       "      <th>stars</th>\n",
       "      <th>reviews</th>\n",
       "      <th>price</th>\n",
       "      <th>boughtInLastMonth</th>\n",
       "      <th>asin</th>\n",
       "      <th>title</th>\n",
       "      <th>isBestSeller</th>\n",
       "      <th>category</th>\n",
       "    </tr>\n",
       "  </thead>\n",
       "  <tbody>\n",
       "    <tr>\n",
       "      <th>0</th>\n",
       "      <td>1</td>\n",
       "      <td>4.7</td>\n",
       "      <td>NaN</td>\n",
       "      <td>21.99</td>\n",
       "      <td>0.0</td>\n",
       "      <td>B09B96TG33</td>\n",
       "      <td>Echo Dot (5th generation, 2022 release) | Big ...</td>\n",
       "      <td>False</td>\n",
       "      <td>Hi-Fi Speakers</td>\n",
       "    </tr>\n",
       "    <tr>\n",
       "      <th>1</th>\n",
       "      <td>2</td>\n",
       "      <td>4.7</td>\n",
       "      <td>NaN</td>\n",
       "      <td>23.99</td>\n",
       "      <td>0.0</td>\n",
       "      <td>B01HTH3C8S</td>\n",
       "      <td>Anker Soundcore mini, Super-Portable Bluetooth...</td>\n",
       "      <td>True</td>\n",
       "      <td>Hi-Fi Speakers</td>\n",
       "    </tr>\n",
       "    <tr>\n",
       "      <th>2</th>\n",
       "      <td>3</td>\n",
       "      <td>4.7</td>\n",
       "      <td>NaN</td>\n",
       "      <td>21.99</td>\n",
       "      <td>0.0</td>\n",
       "      <td>B09B8YWXDF</td>\n",
       "      <td>Echo Dot (5th generation, 2022 release) | Big ...</td>\n",
       "      <td>False</td>\n",
       "      <td>Hi-Fi Speakers</td>\n",
       "    </tr>\n",
       "    <tr>\n",
       "      <th>3</th>\n",
       "      <td>4</td>\n",
       "      <td>4.7</td>\n",
       "      <td>NaN</td>\n",
       "      <td>31.99</td>\n",
       "      <td>0.0</td>\n",
       "      <td>B09B8T5VGV</td>\n",
       "      <td>Echo Dot with clock (5th generation, 2022 rele...</td>\n",
       "      <td>False</td>\n",
       "      <td>Hi-Fi Speakers</td>\n",
       "    </tr>\n",
       "    <tr>\n",
       "      <th>4</th>\n",
       "      <td>5</td>\n",
       "      <td>4.6</td>\n",
       "      <td>NaN</td>\n",
       "      <td>17.99</td>\n",
       "      <td>0.0</td>\n",
       "      <td>B09WX6QD65</td>\n",
       "      <td>Introducing Echo Pop | Full sound compact Wi-F...</td>\n",
       "      <td>False</td>\n",
       "      <td>Hi-Fi Speakers</td>\n",
       "    </tr>\n",
       "    <tr>\n",
       "      <th>...</th>\n",
       "      <td>...</td>\n",
       "      <td>...</td>\n",
       "      <td>...</td>\n",
       "      <td>...</td>\n",
       "      <td>...</td>\n",
       "      <td>...</td>\n",
       "      <td>...</td>\n",
       "      <td>...</td>\n",
       "      <td>...</td>\n",
       "    </tr>\n",
       "    <tr>\n",
       "      <th>2443646</th>\n",
       "      <td>2828589</td>\n",
       "      <td>0.0</td>\n",
       "      <td>0.0</td>\n",
       "      <td>22.34</td>\n",
       "      <td>0.0</td>\n",
       "      <td>B0CHSD7P2Q</td>\n",
       "      <td>Motorbike Armour, Motorbike Clothing, Cycling ...</td>\n",
       "      <td>False</td>\n",
       "      <td>Motorbike Clothing</td>\n",
       "    </tr>\n",
       "    <tr>\n",
       "      <th>2443647</th>\n",
       "      <td>2828590</td>\n",
       "      <td>0.0</td>\n",
       "      <td>0.0</td>\n",
       "      <td>97.99</td>\n",
       "      <td>0.0</td>\n",
       "      <td>B0B7B8FNBQ</td>\n",
       "      <td>PROFIRST Waterproof Motorcycle 2 Piece Ladies ...</td>\n",
       "      <td>False</td>\n",
       "      <td>Motorbike Clothing</td>\n",
       "    </tr>\n",
       "    <tr>\n",
       "      <th>2443648</th>\n",
       "      <td>2828591</td>\n",
       "      <td>0.0</td>\n",
       "      <td>0.0</td>\n",
       "      <td>52.99</td>\n",
       "      <td>0.0</td>\n",
       "      <td>B0BD5FL5FB</td>\n",
       "      <td>Men’s Motorcycle Motorbike Biker Trousers Kevl...</td>\n",
       "      <td>False</td>\n",
       "      <td>Motorbike Clothing</td>\n",
       "    </tr>\n",
       "    <tr>\n",
       "      <th>2443649</th>\n",
       "      <td>2828592</td>\n",
       "      <td>4.3</td>\n",
       "      <td>NaN</td>\n",
       "      <td>79.99</td>\n",
       "      <td>0.0</td>\n",
       "      <td>B008OYLL4I</td>\n",
       "      <td>Texpeed Mens Motorcycle Motorbike Biker Trouse...</td>\n",
       "      <td>False</td>\n",
       "      <td>Motorbike Clothing</td>\n",
       "    </tr>\n",
       "    <tr>\n",
       "      <th>2443650</th>\n",
       "      <td>2828593</td>\n",
       "      <td>4.5</td>\n",
       "      <td>34.0</td>\n",
       "      <td>53.99</td>\n",
       "      <td>0.0</td>\n",
       "      <td>B08P3W9B3T</td>\n",
       "      <td>RIDEX CJ223 Motorcycle Motorbike Jacket Armour...</td>\n",
       "      <td>False</td>\n",
       "      <td>Motorbike Clothing</td>\n",
       "    </tr>\n",
       "  </tbody>\n",
       "</table>\n",
       "<p>2443651 rows × 9 columns</p>\n",
       "</div>"
      ],
      "text/plain": [
       "             uid  stars  reviews  price  boughtInLastMonth        asin  \\\n",
       "0              1    4.7      NaN  21.99                0.0  B09B96TG33   \n",
       "1              2    4.7      NaN  23.99                0.0  B01HTH3C8S   \n",
       "2              3    4.7      NaN  21.99                0.0  B09B8YWXDF   \n",
       "3              4    4.7      NaN  31.99                0.0  B09B8T5VGV   \n",
       "4              5    4.6      NaN  17.99                0.0  B09WX6QD65   \n",
       "...          ...    ...      ...    ...                ...         ...   \n",
       "2443646  2828589    0.0      0.0  22.34                0.0  B0CHSD7P2Q   \n",
       "2443647  2828590    0.0      0.0  97.99                0.0  B0B7B8FNBQ   \n",
       "2443648  2828591    0.0      0.0  52.99                0.0  B0BD5FL5FB   \n",
       "2443649  2828592    4.3      NaN  79.99                0.0  B008OYLL4I   \n",
       "2443650  2828593    4.5     34.0  53.99                0.0  B08P3W9B3T   \n",
       "\n",
       "                                                     title  isBestSeller  \\\n",
       "0        Echo Dot (5th generation, 2022 release) | Big ...         False   \n",
       "1        Anker Soundcore mini, Super-Portable Bluetooth...          True   \n",
       "2        Echo Dot (5th generation, 2022 release) | Big ...         False   \n",
       "3        Echo Dot with clock (5th generation, 2022 rele...         False   \n",
       "4        Introducing Echo Pop | Full sound compact Wi-F...         False   \n",
       "...                                                    ...           ...   \n",
       "2443646  Motorbike Armour, Motorbike Clothing, Cycling ...         False   \n",
       "2443647  PROFIRST Waterproof Motorcycle 2 Piece Ladies ...         False   \n",
       "2443648  Men’s Motorcycle Motorbike Biker Trousers Kevl...         False   \n",
       "2443649  Texpeed Mens Motorcycle Motorbike Biker Trouse...         False   \n",
       "2443650  RIDEX CJ223 Motorcycle Motorbike Jacket Armour...         False   \n",
       "\n",
       "                   category  \n",
       "0            Hi-Fi Speakers  \n",
       "1            Hi-Fi Speakers  \n",
       "2            Hi-Fi Speakers  \n",
       "3            Hi-Fi Speakers  \n",
       "4            Hi-Fi Speakers  \n",
       "...                     ...  \n",
       "2443646  Motorbike Clothing  \n",
       "2443647  Motorbike Clothing  \n",
       "2443648  Motorbike Clothing  \n",
       "2443649  Motorbike Clothing  \n",
       "2443650  Motorbike Clothing  \n",
       "\n",
       "[2443651 rows x 9 columns]"
=======
      "text/plain": [
       "np.float64(19.15)"
>>>>>>> 1e8a2ad59fef94ce298a6740c5ed23aeb06d983c
      ]
     },
     "execution_count": 22,
     "metadata": {},
     "output_type": "execute_result"
    }
   ],
   "source": [
<<<<<<< HEAD
    "df_no_outliers = pd.concat([num_no_outliers, cat], axis= 1)\n",
    "df_no_outliers"
   ]
  },
  {
   "cell_type": "code",
   "execution_count": 23,
   "id": "e1c97425-1512-46a7-b36b-e01d7313fcc1",
   "metadata": {},
   "outputs": [],
   "source": [
    "df_no_outliers['price'] = df_no_outliers['price'].fillna(0)"
   ]
  },
  {
   "cell_type": "code",
   "execution_count": 24,
   "id": "3ca506f1-4731-4a3d-b983-42cd740fc9f0",
   "metadata": {},
   "outputs": [],
   "source": [
    "df_no_outliers['boughtInLastMonth'] = df_no_outliers['boughtInLastMonth'].fillna(0)"
   ]
  },
  {
   "cell_type": "code",
   "execution_count": 25,
   "id": "76051c97-656a-4b5d-860d-2a6272769eb9",
   "metadata": {},
   "outputs": [],
   "source": [
    "df_no_outliers = df_no_outliers.drop(columns=['reviews'])"
   ]
  },
  {
   "cell_type": "code",
   "execution_count": 26,
   "id": "2f98beb7-1fc8-48c8-b78d-891f8da6c684",
   "metadata": {},
   "outputs": [
    {
     "data": {
      "text/plain": [
       "category\n",
       "Sports & Outdoors                         836265\n",
       "Beauty                                     19312\n",
       "Handmade Clothing, Shoes & Accessories     19229\n",
       "Bath & Body                                19092\n",
       "Birthday Gifts                             18978\n",
       "                                           ...  \n",
       "Motorbike Chassis                            107\n",
       "Alexa Built-In Devices                       107\n",
       "Plugs                                        107\n",
       "Smart Home Security & Lighting               104\n",
       "Smart Speakers                                54\n",
       "Name: count, Length: 296, dtype: int64"
      ]
     },
     "execution_count": 26,
     "metadata": {},
     "output_type": "execute_result"
    }
   ],
   "source": [
    "category_counts = df_no_outliers['category'].value_counts()\n",
    "\n",
    "category_counts"
=======
    "median_nobest = highest_prices_nobest['price'].median()\n",
    "median_nobest"
>>>>>>> 1e8a2ad59fef94ce298a6740c5ed23aeb06d983c
   ]
  },
  {
   "cell_type": "code",
   "execution_count": 27,
<<<<<<< HEAD
   "id": "089ee401-8522-4023-8c0c-ba437ed96d1f",
   "metadata": {},
   "outputs": [
    {
     "data": {
      "text/plain": [
       "category\n",
       "Sports & Outdoors                         836265\n",
       "Beauty                                     19312\n",
       "Handmade Clothing, Shoes & Accessories     19229\n",
       "Bath & Body                                19092\n",
       "Birthday Gifts                             18978\n",
       "Manicure & Pedicure Products               18940\n",
       "Skin Care                                  18769\n",
       "Make-up                                    18756\n",
       "Hair Care                                  18735\n",
       "Fragrances                                 18564\n",
       "Handmade Gifts                             18295\n",
       "Handmade Home Décor                        18146\n",
       "Luggage and travel gear                    18142\n",
       "Handmade Jewellery                         18044\n",
       "Handmade Artwork                           17878\n",
       "Women                                      17772\n",
       "Handmade Home & Kitchen Products           17435\n",
       "Handmade Kitchen & Dining                  17432\n",
       "Men                                        17417\n",
       "Baby                                       15050\n",
       "Name: count, dtype: int64"
      ]
     },
     "execution_count": 27,
     "metadata": {},
     "output_type": "execute_result"
    }
   ],
   "source": [
    "sorted_category_counts = category_counts.sort_values(ascending=False)\n",
    "\n",
    "top_20_categories = sorted_category_counts.head(20)\n",
    "\n",
    "top_20_categories"
=======
   "id": "635d3766-677f-4b8e-8a3e-31aece644da4",
   "metadata": {},
   "outputs": [],
   "source": [
    "highest_prices_bestsell = highest_prices_bestsell.loc[(highest_prices_bestsell['price']) < 23.0]"
>>>>>>> 1e8a2ad59fef94ce298a6740c5ed23aeb06d983c
   ]
  },
  {
   "cell_type": "code",
   "execution_count": 28,
<<<<<<< HEAD
   "id": "09671853-f1a3-4851-85d0-b6ecd9fa018d",
   "metadata": {},
   "outputs": [],
   "source": [
    "top_20_categories = top_20_categories.index.tolist()"
   ]
  },
  {
   "cell_type": "code",
   "execution_count": 29,
   "id": "ce317e10-723d-4c2d-901a-308e9bd445f9",
   "metadata": {},
   "outputs": [
    {
     "data": {
      "text/html": [
       "<div>\n",
       "<style scoped>\n",
       "    .dataframe tbody tr th:only-of-type {\n",
       "        vertical-align: middle;\n",
       "    }\n",
       "\n",
       "    .dataframe tbody tr th {\n",
       "        vertical-align: top;\n",
       "    }\n",
       "\n",
       "    .dataframe thead th {\n",
       "        text-align: right;\n",
       "    }\n",
       "</style>\n",
       "<table border=\"1\" class=\"dataframe\">\n",
       "  <thead>\n",
       "    <tr style=\"text-align: right;\">\n",
       "      <th></th>\n",
       "      <th>uid</th>\n",
       "      <th>stars</th>\n",
       "      <th>price</th>\n",
       "      <th>boughtInLastMonth</th>\n",
       "      <th>asin</th>\n",
       "      <th>title</th>\n",
       "      <th>isBestSeller</th>\n",
       "      <th>category</th>\n",
       "    </tr>\n",
       "  </thead>\n",
       "  <tbody>\n",
       "    <tr>\n",
       "      <th>19513</th>\n",
       "      <td>21072</td>\n",
       "      <td>4.5</td>\n",
       "      <td>7.99</td>\n",
       "      <td>0.0</td>\n",
       "      <td>B09477KHQ3</td>\n",
       "      <td>Personalised Birthday Print Gift \"THE YEAR YOU...</td>\n",
       "      <td>False</td>\n",
       "      <td>Handmade Home &amp; Kitchen Products</td>\n",
       "    </tr>\n",
       "    <tr>\n",
       "      <th>19514</th>\n",
       "      <td>21073</td>\n",
       "      <td>3.9</td>\n",
       "      <td>6.49</td>\n",
       "      <td>0.0</td>\n",
       "      <td>B0BSRFQYG8</td>\n",
       "      <td>Wax Melts 4 Bars | Build Your Own Box (Choose ...</td>\n",
       "      <td>True</td>\n",
       "      <td>Handmade Home &amp; Kitchen Products</td>\n",
       "    </tr>\n",
       "    <tr>\n",
       "      <th>19515</th>\n",
       "      <td>21074</td>\n",
       "      <td>4.6</td>\n",
       "      <td>8.99</td>\n",
       "      <td>0.0</td>\n",
       "      <td>B09N9GVHV9</td>\n",
       "      <td>Personalised Birthday Print Gift \"ON THE DAY/Y...</td>\n",
       "      <td>True</td>\n",
       "      <td>Handmade Home &amp; Kitchen Products</td>\n",
       "    </tr>\n",
       "    <tr>\n",
       "      <th>19516</th>\n",
       "      <td>21075</td>\n",
       "      <td>4.5</td>\n",
       "      <td>4.99</td>\n",
       "      <td>0.0</td>\n",
       "      <td>B0BRYGV7PQ</td>\n",
       "      <td>Fresh Wax Melts - Laundry Type Wax Melts - Str...</td>\n",
       "      <td>True</td>\n",
       "      <td>Handmade Home &amp; Kitchen Products</td>\n",
       "    </tr>\n",
       "    <tr>\n",
       "      <th>19517</th>\n",
       "      <td>21076</td>\n",
       "      <td>4.7</td>\n",
       "      <td>9.95</td>\n",
       "      <td>0.0</td>\n",
       "      <td>B0B1JHB28R</td>\n",
       "      <td>Manta Makes Work Leaving Gifts | I Used to Wor...</td>\n",
       "      <td>True</td>\n",
       "      <td>Handmade Home &amp; Kitchen Products</td>\n",
       "    </tr>\n",
       "    <tr>\n",
       "      <th>...</th>\n",
       "      <td>...</td>\n",
       "      <td>...</td>\n",
       "      <td>...</td>\n",
       "      <td>...</td>\n",
       "      <td>...</td>\n",
       "      <td>...</td>\n",
       "      <td>...</td>\n",
       "      <td>...</td>\n",
       "    </tr>\n",
       "    <tr>\n",
       "      <th>2429088</th>\n",
       "      <td>2806950</td>\n",
       "      <td>0.0</td>\n",
       "      <td>99.67</td>\n",
       "      <td>0.0</td>\n",
       "      <td>B0045I6SHW</td>\n",
       "      <td>Cannondale Men's Bibshort Dart Team Bike Shorts</td>\n",
       "      <td>False</td>\n",
       "      <td>Sports &amp; Outdoors</td>\n",
       "    </tr>\n",
       "    <tr>\n",
       "      <th>2429089</th>\n",
       "      <td>2806951</td>\n",
       "      <td>0.0</td>\n",
       "      <td>20.62</td>\n",
       "      <td>0.0</td>\n",
       "      <td>B0045I6NZY</td>\n",
       "      <td>Cannondale Men's Baggy Fitness Bike Shorts</td>\n",
       "      <td>False</td>\n",
       "      <td>Sports &amp; Outdoors</td>\n",
       "    </tr>\n",
       "    <tr>\n",
       "      <th>2429090</th>\n",
       "      <td>2806952</td>\n",
       "      <td>4.3</td>\n",
       "      <td>59.86</td>\n",
       "      <td>0.0</td>\n",
       "      <td>B003BLON3A</td>\n",
       "      <td>Pearl iZUMi Men's Phase Splice Knicker</td>\n",
       "      <td>False</td>\n",
       "      <td>Sports &amp; Outdoors</td>\n",
       "    </tr>\n",
       "    <tr>\n",
       "      <th>2437153</th>\n",
       "      <td>2818782</td>\n",
       "      <td>4.2</td>\n",
       "      <td>14.99</td>\n",
       "      <td>0.0</td>\n",
       "      <td>B091HG57TP</td>\n",
       "      <td>Goodstoworld Boys Girls Tracksuit Bottoms 3D S...</td>\n",
       "      <td>False</td>\n",
       "      <td>Sports &amp; Outdoors</td>\n",
       "    </tr>\n",
       "    <tr>\n",
       "      <th>2437154</th>\n",
       "      <td>2818786</td>\n",
       "      <td>5.0</td>\n",
       "      <td>24.99</td>\n",
       "      <td>0.0</td>\n",
       "      <td>B09F8TFQDM</td>\n",
       "      <td>AIEOE Unisex Baby Snow Trousers Boys Girls Dow...</td>\n",
       "      <td>False</td>\n",
       "      <td>Sports &amp; Outdoors</td>\n",
       "    </tr>\n",
       "  </tbody>\n",
       "</table>\n",
       "<p>1182251 rows × 8 columns</p>\n",
       "</div>"
      ],
      "text/plain": [
       "             uid  stars  price  boughtInLastMonth        asin  \\\n",
       "19513      21072    4.5   7.99                0.0  B09477KHQ3   \n",
       "19514      21073    3.9   6.49                0.0  B0BSRFQYG8   \n",
       "19515      21074    4.6   8.99                0.0  B09N9GVHV9   \n",
       "19516      21075    4.5   4.99                0.0  B0BRYGV7PQ   \n",
       "19517      21076    4.7   9.95                0.0  B0B1JHB28R   \n",
       "...          ...    ...    ...                ...         ...   \n",
       "2429088  2806950    0.0  99.67                0.0  B0045I6SHW   \n",
       "2429089  2806951    0.0  20.62                0.0  B0045I6NZY   \n",
       "2429090  2806952    4.3  59.86                0.0  B003BLON3A   \n",
       "2437153  2818782    4.2  14.99                0.0  B091HG57TP   \n",
       "2437154  2818786    5.0  24.99                0.0  B09F8TFQDM   \n",
       "\n",
       "                                                     title  isBestSeller  \\\n",
       "19513    Personalised Birthday Print Gift \"THE YEAR YOU...         False   \n",
       "19514    Wax Melts 4 Bars | Build Your Own Box (Choose ...          True   \n",
       "19515    Personalised Birthday Print Gift \"ON THE DAY/Y...          True   \n",
       "19516    Fresh Wax Melts - Laundry Type Wax Melts - Str...          True   \n",
       "19517    Manta Makes Work Leaving Gifts | I Used to Wor...          True   \n",
       "...                                                    ...           ...   \n",
       "2429088    Cannondale Men's Bibshort Dart Team Bike Shorts         False   \n",
       "2429089         Cannondale Men's Baggy Fitness Bike Shorts         False   \n",
       "2429090             Pearl iZUMi Men's Phase Splice Knicker         False   \n",
       "2437153  Goodstoworld Boys Girls Tracksuit Bottoms 3D S...         False   \n",
       "2437154  AIEOE Unisex Baby Snow Trousers Boys Girls Dow...         False   \n",
       "\n",
       "                                 category  \n",
       "19513    Handmade Home & Kitchen Products  \n",
       "19514    Handmade Home & Kitchen Products  \n",
       "19515    Handmade Home & Kitchen Products  \n",
       "19516    Handmade Home & Kitchen Products  \n",
       "19517    Handmade Home & Kitchen Products  \n",
       "...                                   ...  \n",
       "2429088                 Sports & Outdoors  \n",
       "2429089                 Sports & Outdoors  \n",
       "2429090                 Sports & Outdoors  \n",
       "2437153                 Sports & Outdoors  \n",
       "2437154                 Sports & Outdoors  \n",
       "\n",
       "[1182251 rows x 8 columns]"
      ]
     },
     "execution_count": 29,
     "metadata": {},
     "output_type": "execute_result"
    }
   ],
   "source": [
    "df_top_20 = df_no_outliers[df_no_outliers['category'].isin(top_20_categories)]\n",
    "df_top_20"
=======
   "id": "bc5b0485-440a-49b4-8576-104331ded2bf",
   "metadata": {},
   "outputs": [],
   "source": [
    "highest_prices_nobest = highest_prices_nobest.loc[(highest_prices_nobest['price']) < 90.0]"
>>>>>>> 1e8a2ad59fef94ce298a6740c5ed23aeb06d983c
   ]
  },
  {
   "cell_type": "code",
   "execution_count": 30,
<<<<<<< HEAD
   "id": "eb469827-80e0-4a54-9bbf-ac50fc2d88b9",
   "metadata": {},
   "outputs": [
    {
     "data": {
      "text/html": [
       "<div>\n",
       "<style scoped>\n",
       "    .dataframe tbody tr th:only-of-type {\n",
       "        vertical-align: middle;\n",
       "    }\n",
       "\n",
       "    .dataframe tbody tr th {\n",
       "        vertical-align: top;\n",
       "    }\n",
       "\n",
       "    .dataframe thead th {\n",
       "        text-align: right;\n",
       "    }\n",
       "</style>\n",
       "<table border=\"1\" class=\"dataframe\">\n",
       "  <thead>\n",
       "    <tr style=\"text-align: right;\">\n",
       "      <th></th>\n",
       "      <th>category</th>\n",
       "      <th>avg_price</th>\n",
       "      <th>count_products</th>\n",
       "    </tr>\n",
       "  </thead>\n",
       "  <tbody>\n",
       "    <tr>\n",
       "      <th>18</th>\n",
       "      <td>Sports &amp; Outdoors</td>\n",
       "      <td>20.892575</td>\n",
       "      <td>836265</td>\n",
       "    </tr>\n",
       "    <tr>\n",
       "      <th>2</th>\n",
       "      <td>Beauty</td>\n",
       "      <td>12.472250</td>\n",
       "      <td>19312</td>\n",
       "    </tr>\n",
       "    <tr>\n",
       "      <th>7</th>\n",
       "      <td>Handmade Clothing, Shoes &amp; Accessories</td>\n",
       "      <td>12.676944</td>\n",
       "      <td>19229</td>\n",
       "    </tr>\n",
       "    <tr>\n",
       "      <th>1</th>\n",
       "      <td>Bath &amp; Body</td>\n",
       "      <td>14.646392</td>\n",
       "      <td>19092</td>\n",
       "    </tr>\n",
       "    <tr>\n",
       "      <th>3</th>\n",
       "      <td>Birthday Gifts</td>\n",
       "      <td>18.031741</td>\n",
       "      <td>18978</td>\n",
       "    </tr>\n",
       "    <tr>\n",
       "      <th>15</th>\n",
       "      <td>Manicure &amp; Pedicure Products</td>\n",
       "      <td>10.212377</td>\n",
       "      <td>18940</td>\n",
       "    </tr>\n",
       "    <tr>\n",
       "      <th>17</th>\n",
       "      <td>Skin Care</td>\n",
       "      <td>15.585494</td>\n",
       "      <td>18769</td>\n",
       "    </tr>\n",
       "    <tr>\n",
       "      <th>14</th>\n",
       "      <td>Make-up</td>\n",
       "      <td>10.591416</td>\n",
       "      <td>18756</td>\n",
       "    </tr>\n",
       "    <tr>\n",
       "      <th>5</th>\n",
       "      <td>Hair Care</td>\n",
       "      <td>13.382371</td>\n",
       "      <td>18735</td>\n",
       "    </tr>\n",
       "    <tr>\n",
       "      <th>4</th>\n",
       "      <td>Fragrances</td>\n",
       "      <td>26.802756</td>\n",
       "      <td>18564</td>\n",
       "    </tr>\n",
       "    <tr>\n",
       "      <th>8</th>\n",
       "      <td>Handmade Gifts</td>\n",
       "      <td>17.065180</td>\n",
       "      <td>18295</td>\n",
       "    </tr>\n",
       "    <tr>\n",
       "      <th>10</th>\n",
       "      <td>Handmade Home Décor</td>\n",
       "      <td>15.013611</td>\n",
       "      <td>18146</td>\n",
       "    </tr>\n",
       "    <tr>\n",
       "      <th>13</th>\n",
       "      <td>Luggage and travel gear</td>\n",
       "      <td>19.082402</td>\n",
       "      <td>18142</td>\n",
       "    </tr>\n",
       "    <tr>\n",
       "      <th>11</th>\n",
       "      <td>Handmade Jewellery</td>\n",
       "      <td>21.652364</td>\n",
       "      <td>18044</td>\n",
       "    </tr>\n",
       "    <tr>\n",
       "      <th>6</th>\n",
       "      <td>Handmade Artwork</td>\n",
       "      <td>16.866937</td>\n",
       "      <td>17878</td>\n",
       "    </tr>\n",
       "    <tr>\n",
       "      <th>19</th>\n",
       "      <td>Women</td>\n",
       "      <td>20.068819</td>\n",
       "      <td>17772</td>\n",
       "    </tr>\n",
       "    <tr>\n",
       "      <th>9</th>\n",
       "      <td>Handmade Home &amp; Kitchen Products</td>\n",
       "      <td>13.869979</td>\n",
       "      <td>17435</td>\n",
       "    </tr>\n",
       "    <tr>\n",
       "      <th>12</th>\n",
       "      <td>Handmade Kitchen &amp; Dining</td>\n",
       "      <td>13.055002</td>\n",
       "      <td>17432</td>\n",
       "    </tr>\n",
       "    <tr>\n",
       "      <th>16</th>\n",
       "      <td>Men</td>\n",
       "      <td>26.166714</td>\n",
       "      <td>17417</td>\n",
       "    </tr>\n",
       "    <tr>\n",
       "      <th>0</th>\n",
       "      <td>Baby</td>\n",
       "      <td>16.207932</td>\n",
       "      <td>15050</td>\n",
       "    </tr>\n",
       "  </tbody>\n",
       "</table>\n",
       "</div>"
      ],
      "text/plain": [
       "                                  category  avg_price  count_products\n",
       "18                       Sports & Outdoors  20.892575          836265\n",
       "2                                   Beauty  12.472250           19312\n",
       "7   Handmade Clothing, Shoes & Accessories  12.676944           19229\n",
       "1                              Bath & Body  14.646392           19092\n",
       "3                           Birthday Gifts  18.031741           18978\n",
       "15            Manicure & Pedicure Products  10.212377           18940\n",
       "17                               Skin Care  15.585494           18769\n",
       "14                                 Make-up  10.591416           18756\n",
       "5                                Hair Care  13.382371           18735\n",
       "4                               Fragrances  26.802756           18564\n",
       "8                           Handmade Gifts  17.065180           18295\n",
       "10                     Handmade Home Décor  15.013611           18146\n",
       "13                 Luggage and travel gear  19.082402           18142\n",
       "11                      Handmade Jewellery  21.652364           18044\n",
       "6                         Handmade Artwork  16.866937           17878\n",
       "19                                   Women  20.068819           17772\n",
       "9         Handmade Home & Kitchen Products  13.869979           17435\n",
       "12               Handmade Kitchen & Dining  13.055002           17432\n",
       "16                                     Men  26.166714           17417\n",
       "0                                     Baby  16.207932           15050"
      ]
     },
     "execution_count": 30,
     "metadata": {},
     "output_type": "execute_result"
    }
   ],
   "source": [
    "df_top_20_aggregated = df_top_20.groupby('category').agg(avg_price=('price', 'mean'),count_products=('category', 'size')).reset_index()\n",
    "\n",
    "df_top_20_aggregated = df_top_20_aggregated.sort_values(by='count_products', ascending=False)\n",
    "\n",
    "df_top_20_aggregated"
=======
   "id": "e2dd9dbb-12d3-457f-be8b-bebcb26cff16",
   "metadata": {},
   "outputs": [],
   "source": [
    "highest_prices_bestsell = highest_prices_bestsell.sort_values(by='price', ascending= False) "
>>>>>>> 1e8a2ad59fef94ce298a6740c5ed23aeb06d983c
   ]
  },
  {
   "cell_type": "code",
<<<<<<< HEAD
   "execution_count": 31,
=======
   "execution_count": 34,
   "id": "4f3da6b0-e972-460c-9819-d7cc0c1a0305",
   "metadata": {},
   "outputs": [],
   "source": [
    "highest_prices_bestsell = highest_prices_bestsell.head(5)"
   ]
  },
  {
   "cell_type": "code",
   "execution_count": 35,
>>>>>>> 1e8a2ad59fef94ce298a6740c5ed23aeb06d983c
   "id": "cc45f102-a613-44d8-bf80-7e4760b9c74b",
   "metadata": {},
   "outputs": [
    {
<<<<<<< HEAD
     "data": {
      "image/png": "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",
      "text/plain": [
       "<Figure size 1200x600 with 1 Axes>"
      ]
     },
     "metadata": {},
     "output_type": "display_data"
    }
   ],
   "source": [
    "plt.figure(figsize=(12, 6))\n",
    "plt.barh(df_top_20_aggregated[\"category\"], df_top_20_aggregated[\"avg_price\"], color=\"skyblue\")\n",
    "plt.xlabel(\"Average Price ($)\")\n",
    "plt.ylabel(\"Category\")\n",
    "plt.title(\"Average Price by Category\")\n",
    "plt.show()"
   ]
  },
  {
   "cell_type": "code",
   "execution_count": 52,
   "id": "89eb382b-a294-4c9a-bf1c-7c60882b6313",
   "metadata": {},
   "outputs": [
    {
     "data": {
      "text/html": [
       "<div>\n",
       "<style scoped>\n",
       "    .dataframe tbody tr th:only-of-type {\n",
       "        vertical-align: middle;\n",
       "    }\n",
       "\n",
       "    .dataframe tbody tr th {\n",
       "        vertical-align: top;\n",
       "    }\n",
       "\n",
       "    .dataframe thead th {\n",
       "        text-align: right;\n",
       "    }\n",
       "</style>\n",
       "<table border=\"1\" class=\"dataframe\">\n",
       "  <thead>\n",
       "    <tr style=\"text-align: right;\">\n",
       "      <th></th>\n",
       "      <th>category</th>\n",
       "      <th>avg_price</th>\n",
       "      <th>count_products</th>\n",
       "    </tr>\n",
       "  </thead>\n",
       "  <tbody>\n",
       "    <tr>\n",
       "      <th>18</th>\n",
       "      <td>Sports &amp; Outdoors</td>\n",
       "      <td>20.892575</td>\n",
       "      <td>836265</td>\n",
       "    </tr>\n",
       "    <tr>\n",
       "      <th>2</th>\n",
       "      <td>Beauty</td>\n",
       "      <td>12.472250</td>\n",
       "      <td>19312</td>\n",
       "    </tr>\n",
       "    <tr>\n",
       "      <th>7</th>\n",
       "      <td>Handmade Clothing, Shoes &amp; Accessories</td>\n",
       "      <td>12.676944</td>\n",
       "      <td>19229</td>\n",
       "    </tr>\n",
       "    <tr>\n",
       "      <th>1</th>\n",
       "      <td>Bath &amp; Body</td>\n",
       "      <td>14.646392</td>\n",
       "      <td>19092</td>\n",
       "    </tr>\n",
       "    <tr>\n",
       "      <th>3</th>\n",
       "      <td>Birthday Gifts</td>\n",
       "      <td>18.031741</td>\n",
       "      <td>18978</td>\n",
       "    </tr>\n",
       "    <tr>\n",
       "      <th>15</th>\n",
       "      <td>Manicure &amp; Pedicure Products</td>\n",
       "      <td>10.212377</td>\n",
       "      <td>18940</td>\n",
       "    </tr>\n",
       "    <tr>\n",
       "      <th>17</th>\n",
       "      <td>Skin Care</td>\n",
       "      <td>15.585494</td>\n",
       "      <td>18769</td>\n",
       "    </tr>\n",
       "    <tr>\n",
       "      <th>14</th>\n",
       "      <td>Make-up</td>\n",
       "      <td>10.591416</td>\n",
       "      <td>18756</td>\n",
       "    </tr>\n",
       "    <tr>\n",
       "      <th>5</th>\n",
       "      <td>Hair Care</td>\n",
       "      <td>13.382371</td>\n",
       "      <td>18735</td>\n",
       "    </tr>\n",
       "    <tr>\n",
       "      <th>4</th>\n",
       "      <td>Fragrances</td>\n",
       "      <td>26.802756</td>\n",
       "      <td>18564</td>\n",
       "    </tr>\n",
       "  </tbody>\n",
       "</table>\n",
       "</div>"
      ],
      "text/plain": [
       "                                  category  avg_price  count_products\n",
       "18                       Sports & Outdoors  20.892575          836265\n",
       "2                                   Beauty  12.472250           19312\n",
       "7   Handmade Clothing, Shoes & Accessories  12.676944           19229\n",
       "1                              Bath & Body  14.646392           19092\n",
       "3                           Birthday Gifts  18.031741           18978\n",
       "15            Manicure & Pedicure Products  10.212377           18940\n",
       "17                               Skin Care  15.585494           18769\n",
       "14                                 Make-up  10.591416           18756\n",
       "5                                Hair Care  13.382371           18735\n",
       "4                               Fragrances  26.802756           18564"
      ]
     },
     "execution_count": 52,
     "metadata": {},
     "output_type": "execute_result"
    }
   ],
   "source": [
    "top_10_df = df_top_20_aggregated.copy()\n",
    "\n",
    "top_10_df = top_10_df.head(10)\n",
    "\n",
    "top_10_df"
   ]
  },
  {
   "cell_type": "code",
   "execution_count": 63,
   "id": "61608e6c-9de8-487e-9188-a57b16193b25",
   "metadata": {},
   "outputs": [
    {
     "name": "stderr",
     "output_type": "stream",
     "text": [
      "C:\\Users\\Mirko\\AppData\\Local\\Temp\\ipykernel_17508\\1637003058.py:2: FutureWarning: \n",
      "\n",
      "Setting a gradient palette using color= is deprecated and will be removed in v0.14.0. Set `palette='dark:skyblue'` for the same effect.\n",
      "\n",
      "  sns.barplot(data= top_10_df.sort_values(by='avg_price', ascending= False), y='category', x='avg_price', hue='avg_price', color='skyblue')\n"
=======
     "name": "stderr",
     "output_type": "stream",
     "text": [
      "C:\\Users\\Mirko\\AppData\\Local\\Temp\\ipykernel_16324\\992775221.py:3: FutureWarning: \n",
      "\n",
      "Passing `palette` without assigning `hue` is deprecated and will be removed in v0.14.0. Assign the `y` variable to `hue` and set `legend=False` for the same effect.\n",
      "\n",
      "  sns.boxplot(data=highest_prices_bestsell, x=\"price\", y=\"category\", palette=\"coolwarm\")\n"
>>>>>>> 1e8a2ad59fef94ce298a6740c5ed23aeb06d983c
     ]
    },
    {
     "data": {
<<<<<<< HEAD
      "image/png": "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",
=======
      "image/png": "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",
>>>>>>> 1e8a2ad59fef94ce298a6740c5ed23aeb06d983c
      "text/plain": [
       "<Figure size 640x480 with 1 Axes>"
      ]
     },
     "metadata": {},
     "output_type": "display_data"
    }
   ],
   "source": [
<<<<<<< HEAD
    "import seaborn as sns\n",
    "sns.barplot(data= top_10_df.sort_values(by='avg_price', ascending= False), y='category', x='avg_price', hue='avg_price', color='skyblue')\n",
=======
    "# Plotting a box plot to visualize the spread and outliers of 'price' and 'category', using the \"coolwarm\" color palette\n",
    "import seaborn as sns\n",
    "sns.boxplot(data=highest_prices_bestsell, x=\"price\", y=\"category\", palette=\"coolwarm\")\n",
>>>>>>> 1e8a2ad59fef94ce298a6740c5ed23aeb06d983c
    "plt.show()"
   ]
  },
  {
   "cell_type": "code",
<<<<<<< HEAD
   "execution_count": 67,
   "id": "4291ef09-fc33-4f56-b310-d5957ce5bc71",
   "metadata": {},
   "outputs": [],
   "source": [
    "df_top_10 = df_no_outliers[df_no_outliers['category'].isin(top_20_categories)]\n",
    "df_top_10 = (\n",
    "    df_top_10.groupby('category', as_index=False)['stars']\n",
    "    .mean()\n",
    "    .sort_values(by='stars', ascending=False)\n",
    "    .head(10)\n",
    ")"
=======
   "execution_count": 37,
   "id": "bb6fc0d6-1e53-4f17-9942-0b8c2842f057",
   "metadata": {},
   "outputs": [],
   "source": [
    "highest_prices_nobest = highest_prices_nobest.sort_values(by='price', ascending= False)"
>>>>>>> 1e8a2ad59fef94ce298a6740c5ed23aeb06d983c
   ]
  },
  {
   "cell_type": "code",
<<<<<<< HEAD
   "execution_count": 68,
   "id": "d72b7196-716a-470c-88c6-583d2a87db30",
   "metadata": {},
   "outputs": [
    {
     "data": {
      "image/png": "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",
      "text/plain": [
       "<Figure size 640x480 with 1 Axes>"
      ]
     },
     "metadata": {},
     "output_type": "display_data"
    }
   ],
   "source": [
    "sns.boxplot(data= df_top_10, x='stars', y='category', color=\"skyblue\")\n",
    "plt.show()"
   ]
  },
  {
   "cell_type": "code",
   "execution_count": 69,
   "id": "16d2c8e5-b76b-49c8-ad7a-50dc01a8083c",
   "metadata": {},
   "outputs": [
    {
     "data": {
      "image/png": "iVBORw0KGgoAAAANSUhEUgAAAvAAAAGwCAYAAADPFlGLAAAAOnRFWHRTb2Z0d2FyZQBNYXRwbG90bGliIHZlcnNpb24zLjEwLjAsIGh0dHBzOi8vbWF0cGxvdGxpYi5vcmcvlHJYcgAAAAlwSFlzAAAPYQAAD2EBqD+naQAAUrxJREFUeJzt3Qd4FOX2x/ETSiCQRu+9I4YiRbr0JlJFKVJFUVAEgYCA9KoICooIl6YgqBQVpMmlg9KLiFxAmhQhAiEBQoDs/znv/e/e3fSEkGSS7+d51mRnZmdnJ8H85ux533Wz2Ww2AQAAAGAJaZL6AAAAAADEHgEeAAAAsBACPAAAAGAhBHgAAADAQgjwAAAAgIUQ4AEAAAALIcADAAAAFpIuqQ8AQMIKCwuTy5cvi5eXl7i5uSX14QAAgFjQj2YKCgqSvHnzSpo00dfYCfBACqPhvUCBAkl9GAAAIB4uXrwo+fPnj3YbAjyQwmjl3f4/AG9v76Q+HAAAEAu3b982BTj73/HoEOCBFMbeNqPhnQAPAIC1xKb9lUGsAAAAgIUQ4AEAAAALIcADAAAAFkKABwAAACyEAA8AAABYCAEeAAAAsBACPAAAAGAhBHgAAADAQgjwAAAAgIUQ4AEAAAALIcAj1enevbv5mGL7LVu2bNK0aVM5evRooh7H1q1bzfPfunUrUZ8XAADET+DdUDlzLVgOXbgpZ64Hm/tJIV2SPCuQxDSwL1iwwHx/9epVGTFihDz//PNy4cKFpD40AACQDF2+dU/8VxyVHacCHMvqlMguk9v5SV5fj0Q9FirwSJUyZMgguXPnNrcKFSrI0KFD5eLFi3L9+nWzXr/v0KGD+Pr6StasWaVVq1Zy7tw5x+P37dsnjRo1kuzZs4uPj4/UrVtXDh486Fiv22p1/fDhw45lWmnXZVp51/X16tUzy7NkyWKW6zsDixcvNu8I3L9/3+V4W7duLa+88koinBkAABCeVtrDh3e1/VSADF1xNNEr8QR4pHrBwcHy1VdfSfHixU14fvDggTRp0kS8vLxkx44dsmvXLvH09DRV+9DQ//4DDQoKkm7dusnOnTvll19+kRIlSkjz5s3N8tgoUKCArFixwnx/8uRJuXLlinz88cfy4osvyqNHj+SHH35wbHvt2jVZu3at9OzZM9J9adi/ffu2yw0AACScgODQCOHdOcTr+sRECw1SpTVr1phQru7cuSN58uQxy9KkSSNLly6VsLAwmTdvnqmMK2230Wq8Vs8bN24s9evXd9nfF198YdZv27bNtOLEJG3atKayr3LmzGkea9epUyfzfBrmlV5cFCxYUJ577rlI9zVp0iQZM2bMY5wNAAAQndshD6JdHxTD+oRGBR6pkravaHuL3vbu3Wsq7s2aNZPz58/LkSNH5PTp06YCryFfbxq2Q0JC5MyZM+bxf//9t/Tu3dtU3rWFxtvb21TyE6KHXve7ceNGuXTpkrm/cOFCx8DbyAwbNkwCAwMdN23/AQAACcc7Y/po13vFsD6hUYFHqpQ5c2bTMmOn1XYN4nPnzjVB/JlnnpElS5ZEeFyOHDnMV22f+eeff0zbS6FChUxPffXq1R0tNlrJVzabzfFYbc2JjYoVK0r58uVNP7xW+48fP25aaKKiz603AADwZGT3dDcDVrVdJjxdrusTEwEeEDHVbQ3d9+7dk0qVKsny5ctNa4tW1iOjffGfffaZ6XtXWvUOCAiIEPS1t10DuXIe0Krc3f/7j1173sN79dVXZcaMGaYK37BhQ9MzDwAAkoZPJncz24wOWHUO8Rrep7TzM+sTEwEeqZIO/NTpI9XNmzdl1qxZpvLesmVLqVq1qnzwwQdm5pmxY8dK/vz5TWvNypUrZciQIea+ts58+eWXUrlyZTNodPDgweLh8b8ppPT7Z599ViZPnixFihQxA1F1qkpnWrnXCwftvdcLAX2MvS9f++AHDRpk3hHQSjwAAEhaeX09ZGbHimbAqva8a9uMVt4TO7wreuCRKq1fv94MXNVbtWrVzLSQ3377rRkomilTJtm+fbsZONq2bVspU6aM9OrVy/TA2yvy//rXv0zw12q9Tu/49ttvm4q9s/nz58vDhw9NO84777wj48ePd1mfL18+M/hUp7DMlSuX9OvXz7FO23natWtnAr1OIQkAAJKeTyZ3KZbTUyoUzGK+JkV4V2425yZdAMlGgwYN5KmnnpJPPvkkTo/TdwT0AkAHtEbVAgQAAJKXuPz9poUGSGa0sq/TVepN++wBAACcEeCBZEYHvWqInzJlipQqVSqpDwcAACQzBHggmTl37lxSHwIAAEjGGMQKAAAAWAgBHgAAALAQAjwAAABgIQR4AAAAwEII8AAAAICFEOABAAAACyHAAwAAABZCgAcAAAAshAAPAAAAWAgBHgAAALAQAjwAAABgIQR4AAAAwEII8AAAAICFEOABAAAACyHAAwAAABZCgAcAAAAshAAPAAAAWAgBHgAAALAQAjwAAABgIQR4AAAAwEII8AAAAICFEOABAAAACyHAAwAAABaSLqkPAAAAAEkr8G6oBASHyu2QB+LtkV6yZ3YXn0zuSX1YiAIVeOAxde/eXdzc3KRPnz4R1vXt29es020AAEiOLt+6J/2+PiQNPtombT7bLQ2mbZO3vj5kliN5IsADCaBAgQKybNkyuXfvf/+zCwkJkaVLl0rBggWT9NgAAIiu8u6/4qjsOBXgsnz7qQAZuuKoWY/khwAPJIBKlSqZEL9y5UrHMv1ew3vFihUdy8LCwmTSpElSpEgR8fDwkPLly8t3333nWL9161ZTsd+8ebNUrlxZMmXKJDVq1JCTJ09G+dz379+X27dvu9wAAIgNbZsJH96dQ7yuR/JDgAcSSM+ePWXBggWO+/Pnz5cePXq4bKPhffHixfL555/L8ePHZcCAAdKlSxfZtm2by3bDhw+XadOmyf79+yVdunRm31HRffr4+DhueiEBAEBsaM97dIJiWI+kQYAHEogG8Z07d8r58+fNbdeuXWaZc6V84sSJJtg3adJEihYtanrjdZs5c+a47GvChAlSt25dKVu2rAwdOlR2795tWnIiM2zYMAkMDHTcLl68+MRfKwAgZfDOmD7a9V4xrEfSYBYaIIHkyJFDWrRoIQsXLhSbzWa+z549u2P96dOn5e7du9KoUSOXx4WGhrq02Sg/Pz/H93ny5DFfr127Fmk/fYYMGcwNAIC4yu7pLnVKZDftMuHpcl2P5IcADyQgbXXp16+f+f7TTz91WRccHGy+rl27VvLly+eyLnwAT5/+fxUP7Ym3988DAJCQdKrIye38zIBV5xCv4X1KOz+mkkymCPBAAmratKmpqGvo1jYZZ9oOo0H9woULpj0GAIDkIK+vh8zsWNEMWNWed22b0co74T35IsADCSht2rRy4sQJx/fOvLy8ZNCgQWbgqlbTa9WqZXrWtVfe29tbunXrlkRHDQBI7TSsE9itgwAPJDAN41EZN26c6ZXXmWP+/PNP8fX1NVNQvvfee4l6jAAAwLrcbDraDkCKofPA63SSWt2P7mICAABY8+8300gCAAAAFkKABwAAACyEAA8AAABYCAEeAAAAsBACPAAAAGAhBHgAAADAQgjwAAAAgIUQ4AEAAAALIcADAAAAFkKABwAAACyEAA8AAABYCAEeAAAAsBACPAAAAGAhBHgAAADAQgjwAAAAgIUQ4AEAAAALIcADAAAAFkKABwAAACyEAA8AAABYCAEeAAAAsBACPAAAAGAhBHgAAADAQgjwAAAAgIUQ4AEAAAALIcADAAAAFkKAxxPn5uYmq1evFqs4d+6cOebDhw8n9aEAAABEQID/f927d5fWrVsn9WGkSs8995y88847SX0YAAAka4F3Q+XMtWA5dOGmnLkebO4jdUqX1AcAxIbNZpNHjx5JunSp+1c2NDRU3N3dk/owAACJ7PKte+K/4qjsOBXgWFanRHaZ3M5P8vp6JOmxIfFRgY+FhQsXiq+vr8sybQnRNgtn48ePl5w5c4qXl5e8+uqrMnToUKlQoYJj/cOHD+Xtt982+8qWLZv4+/tLt27dXCr/69evl1q1ajm2ef755+XMmTMuz7N7926z34wZM0rlypUdx+Lc8vHbb79Js2bNxNPTU3LlyiWvvPKKBAT87x99eP/884907NhR8uXLJ5kyZZKnn35avv766wiVcj3+IUOGSNasWSV37twyevRol21OnTolderUMcdWtmxZ2bRpU4zvfGzbtk0+/vhj8xr0pi0sW7duNd+vW7dOnnnmGcmQIYPs3LnTnItWrVqZ16SvrUqVKvLzzz879vfee+9JtWrVIjxP+fLlZezYsY778+bNkzJlypjjLF26tHz22WcSF1euXJEWLVqIh4eHFClSRJYuXSqFCxeWGTNmOLa5deuW+T3IkSOHeHt7S/369eXIkSOO9TG9FqX7HDdunHTt2tXs47XXXovTcQIArE8r7eHDu9p+KkCGrjhKJT4VIsAnkCVLlsiECRNkypQpcuDAASlYsKDMnj3bZRtdp9stWLBAdu3aJbdv347QG37nzh0ZOHCg7N+/XzZv3ixp0qSRNm3aSFhYmFmvj2nZsqUJ2AcPHjThTi8EnGlw1LBYsWJFsx+9KPj777+lQ4cOUR5/SEiICcpr16414V+Doob+vXv3umy3aNEiyZw5s/z6668ydepUE4rtIV2PsW3btqZCrOs///zzCMcWngb36tWrS+/evU0o1luBAgUc6/UiaPLkyXLixAnx8/OT4OBgad68uTk3hw4dkqZNm5rzceHCBbN9586dzTE7X/QcP35cjh49Kp06dXL8rN5//33z89L9Tpw4UUaOHGleW2xpoL58+bK50FixYoV88cUXcu3aNZdtXnzxRbNML0L0d6JSpUrSoEEDuXHjhlkf02ux+/DDD80FiG6jxxne/fv3ze+F8w0AkHIEBIdGCO/OIV7XI5WxwejWrZutVatWka5bsGCBzcfHx2XZqlWrbM6nr1q1ara+ffu6bFOzZk1b+fLlHfdz5cpl++CDDxz3Hz58aCtYsGCUz6uuX79unufYsWPm/uzZs23ZsmWz3bt3z7HN3LlzzTaHDh0y98eNG2dr3Lixy34uXrxotjl58qQttlq0aGF79913Hffr1q1rq1Wrlss2VapUsfn7+5vvN2zYYEuXLp3t0qVLjvXr1q0zz6vnKyq63/79+7ss27Jli3nc6tWrYzzOp556yjZz5kzHfT3nY8eOddwfNmyY+fnYFStWzLZ06VKXfeg5q169uvn+7NmzLuczvBMnTpj1+/btcyw7deqUWTZ9+nRzf8eOHTZvb29bSEiIy2P1uefMmRPr11KoUCFb69ato339o0aNMs8d/hYYGBjt4wAA1nDw/A1bIf81Ud4Onb+R1IeIBKB/t2P795sKfAI5efKkVK1a1WWZ8/3AwEBTBXdeljZtWlP1Dt+Coq0sRYsWNS0T2kKh7FVZfR6tRGvrR2TPo7RNY8uWLaYtw37TNhEVvh3HTvvLtZqvlX1tj9HHbNiwIUI1WJ/bWZ48eRyVZ61ma/U8b968jvVaXX8c2iLkTKvWgwYNMu0v2makx6nP63ycWoXXlhZ777y2Auky+zsceg569erlcn60/SmqcxOe/gy0F18r6nbFixeXLFmyuPwM9Fi1Dcr5ec6ePet4nti8lsjOQXjDhg0zv1/228WLF2P1OgAA1uCdMX20671iWI+UJ3WPCIwlbWPRIOjswYMHT+S5tIWiUKFCMnfuXBOEtS2lXLlyZvBibGkw1P1oy054Grgj88EHH5h2Fu3h1hCvbTI6M0z4502f3vV/Etqnbm/veRL0OJxp4NWWHW0r0dCsPejt27d3OU69ANLWHW0xunfvngm0L730kuPcKD2/4Xvl9YIqoejz6LnWFpvw7OMpYvNaIjsH4en4AL0BAFKm7J7uZsCqtsuEp8t1PVIXAnws6CDEoKAgU721h6nwc4SXKlVK9u3bZ3qj7fS+nY+PjxmsqMt0kKe96q0h0z7QVQeSanVXw2Xt2rXNMh24Gf55vvrqK9P3bA9tzs+jtDKsfdlavY/trC3ak68DKrt06WLuayj/z3/+YwaixpZWkjUsax+7/ULhl19+ifFx2jOv5yK2x6kDX3VcgD0o66BXZ/nz55e6deuaXncN8I0aNTKDi5X+DPTC6M8//3RU5eNKfwY6IFl70u3voJw+fVpu3rzp8jO4evWqOf/2d1Hi81oAAPDJ5G5mm9EBq84hXsP7lHZ+Zj1SFwK8E20/CB/MtQVCK7U6M4vOcKKzsOgATZ2Zxtlbb71lBmJqu0ONGjVk+fLlZuCktsI4bzNp0iRTbdWWlpkzZ5rQZ5/NRlsw9Pl0QKQGYG2l0EGcznQg5vDhw80gU12n22gFV9n307dvX3MRoJVo+4wxGjCXLVtmZl+JrNJcokQJ+e6778wMN3ocH330kWn5iUuAb9iwoZQsWdLMrKMVfR1MqccaEw24ek41vGobiR5vVPQ4V65cad5h0NergzojewdAw/moUaNMNXv69Oku68aMGWN+jnpRpQNH9WJIB/vqz0IHEMdEf3b6WvVnoAOV9V2Jd99911TQ7T8DXa/tQzrDkA721fOig151kLAGdv09ie1rAQBAp4qc2bGiGbAaFPLAtM1o5Z3wnjrRA+9E2x105hbnm4Y9DZRa9f7pp58c0yuGnz5RA6P2ImtbhFZftddZq6vOvera1qGhWqv0Gu40rDZp0sSxjbbqaMjWGUu0bWbAgAEmCDvTvvgff/zRXGho5V4Dss6oouz70QqzVne1qt24cWNzzNoOo60b+hyRGTFihDluPR6dLlKniIzrB1vpvletWmWq3tqXr1Mo6kwvMdFzphcVerGg73aE7wF3phcWeoGhF0kafPV4nXvR7bQVRd/RuHv3boTXocelFzI6G5CeG63W6wWZTgcZW4sXLzbVfH03RQO5Xrzp9KH2n4EGcv190fU9evQwAf7ll1+W8+fPm8fF5bUAAKA0rBfL6SkVCmYxXwnvqZebjmRN6oNIqbR1Q4Pwl19+Gel6rbZq24lO76gDSONLW0U0JOo7CFoFRuL766+/zABencddp4pMSvrOh767oL8PesEHAACSv7j8/aaFJoFopVfnPdcqqlaTtUqvYc75g4y0+rpx40ZT8dW2jVmzZplKvX1+8rhUf7U1Rz90SWc70cq+XgQQ3hPPv//9b9OzrhV87fnXViVtBbKPbwAAAHhSCPAJxN4yoS0j+qFIOtBRB5JqL7Rzi4m2amjLiL7xoW0yGvK1Ch8XOjhS22b0q/bK6wcGxaZVBQlHZyHSMRE6GFZbZ7QNRt8JCT9LDwAAQEKjhQZIYWihAQAgZf/9ZhArAAAAYCEEeAAAAMBCCPAAAACAhRDgAQAAAAshwAMAAAAWQoAHAAAALIQADwAAAFgIAR4AAACwEAI8AAAAYCEEeAAAAMBCCPAAAACAhRDgAQAAAAshwAMAAAAWQoAHAAAALIQADwAAAFgIAR4AAACwEAI8AAAAYCEEeAAAAMBCCPAAAACAhRDgAQAAAAshwAMAAAAWQoAHAAAALIQADwAAAFgIAR4p3ueffy5eXl7y8OFDx7Lg4GBJnz69PPfccy7bbt26Vdzc3OTMmTNJcKQAAKsLvBsqZ64Fy6ELN+XM9WBzH0ho6RJ8j0AyU69ePRPY9+/fL88++6xZtmPHDsmdO7f8+uuvEhISIhkzZjTLt2zZIgULFpRixYol8VEDAKzm8q174r/iqOw4FeBYVqdEdpnczk/y+nok6bEhZaECjxSvVKlSkidPHlNdt9PvW7VqJUWKFJFffvnFZbkG/vv378vbb78tOXPmNOG+Vq1asm/fvgiV+g0bNkjFihXFw8ND6tevL9euXZN169ZJmTJlxNvbWzp16iR37951PC4sLEwmTZpknlcfU758efnuu+8i7Hfz5s1SuXJlyZQpk9SoUUNOnjyZKOcKABA/WmkPH97V9lMBMnTFUSrxSFAEeKQKGsq1um6n32v7TN26dR3L7927Zyryuu2QIUNkxYoVsmjRIjl48KAUL15cmjRpIjdu3HDZ7+jRo2XWrFmye/duuXjxonTo0EFmzJghS5culbVr18rGjRtl5syZju01vC9evNi09Rw/flwGDBggXbp0kW3btrnsd/jw4TJt2jTzrkG6dOmkZ8+eUb42vdi4ffu2yw0AkLgCgkMjhHfnEK/rgYRCgEeqoKF8165dpg8+KChIDh06ZMJ7nTp1HJX5PXv2mDCswX727NnywQcfSLNmzaRs2bIyd+5cUzH/17/+5bLf8ePHS82aNU0VvlevXiaI62P1fu3ataV9+/aOCwTd98SJE2X+/PnmYqBo0aLSvXt3E+DnzJnjst8JEyaY49PnHjp0qLlA0FafyOhFgY+Pj+NWoECBJ3YeAQCRux3yINr1QTGsB+KCAI9UQUP5nTt3TBuM9r+XLFlScuTIYUKyvQ9eg7yG6sDAQHnw4IEJ5nY64LVq1apy4sQJl/36+fk5vs+VK5dpedF9OC/Tthp1+vRp007TqFEj8fT0dNy0Ih9+0KzzfrX9R9n3E96wYcPMMdtv+k4AACBxeWdMH+16rxjWA3HBIFakCtoCkz9/flMNv3nzpgnuKm/evKZirRVuXad97HGhwd5Oe9ed79uXad+70oG0Sltr8uXL57JdhgwZot2vsu8nPH1s+McDABJXdk93M2BV22XC0+W6HkgoVOCRqtpotMquN+fpI7WNRgee7t2712yjM9C4u7ublhs7rchr9V5bWuJLH6tB+8KFC+aCwvlG2wsAWJtPJncz24yGdWd6f0o7P7MeSChU4JFqaDjv27evCeP2CrzS7/v16yehoaFmm8yZM8sbb7whgwcPlqxZs5ppJadOnWraX7TPPb50LvpBgwaZgataTdeZbbTlRS8UdMaabt26JdArBQAkBZ0qcmbHimbAqva8a9uMVt4J70hoBHikGhrOdaaZ0qVLm9505wCvA1vt002qyZMnm5D9yiuvmHU6paNOGZklS5bHOoZx48aZ3nsdePrnn3+Kr6+vVKpUSd57773Hfn0AgKSnYZ3AjifNzWaz2Z74swBINDqNpM5Go9V9rewDAICU9febHngAAADAQgjwAAAAgIUQ4AEAAAALIcADAAAAFkKABwAAACyEAA8AAABYCAEeAAAAsBACPAAAAGAhBHgAAADAQgjwAAAAgIUQ4AEAAAALIcADAAAAFkKABwAAACyEAA8AAABYCAEeAAAAsBACPAAAAGAhBHgAAADAQgjwAAAAgIUQ4AEAAAALIcADAAAAFkKABwAAAFJ6gL9z507CHwkAAACAJxPgc+XKJT179pSdO3fG5+EAAAAAEjPAf/XVV3Ljxg2pX7++lCxZUiZPniyXL1+O7zEAAAAAeJIBvnXr1rJ69Wq5dOmS9OnTR5YuXSqFChWS559/XlauXCkPHz6Mz24BAAAAxMDNZrPZJAHMnDlTBg8eLKGhoZI9e3YT7IcOHSqZMmVKiN0DiKXbt2+Lj4+PBAYGire3d1IfDgAASOC/3481C83ff/8tU6dOlbJly5qw3r59e9m8ebNMmzbNVOK1Ug/gf0aPHi0VKlRI6sMAAEQj8G6onLkWLIcu3JQz14PNfSA5SRefB2k4X7BggWzYsMGE9zfffFO6dOkivr6+jm1q1KghZcqUSchjBZJU9+7dZdGiRY77WbNmlSpVqpiLWD8/vyQ9NgBAwrh86574rzgqO04FOJbVKZFdJrfzk7y+Hkl6bMBjVeB79Ogh+fLlk127dsnhw4elX79+LuFd5c2bV4YPHx6f3QPJVtOmTeXKlSvmpu82pUuXzoz9AABYn1baw4d3tf1UgAxdcZRKPKwb4HWA6qRJk2TMmDGm+hgVDw8PGTVq1OMeH5CsZMiQQXLnzm1u2gqjrWMXL16U69evm/X+/v5mZiYd+1G0aFEZOXKkPHjwIMJ+5syZIwUKFDDbdejQwfS7qe3bt0v69Onl6tWrLtu/8847Urt27UiP6f79+6ZvzvkGAIi7gODQCOHdOcTresCSAV4rjoMGDZKQkJAnc0SARQQHB5spVYsXLy7ZsmUzy7y8vGThwoXy+++/y8cffyxz586V6dOnuzzu9OnT8s0338iPP/4o69evl0OHDpk2NFWnTh0T/L/88kvH9noBsGTJEvPZC5HRC2od9GK/6YUBACDubodELLg4C4phPZCsW2iqVq1qQgeQ2qxZs0Y8PT3NTcP6Dz/8IMuXL5c0af77T2nEiBFm/EfhwoWlZcuW5mJXw7ozvfhdvHixqeBrYNcZnJYtW+aouvfq1cuMMbHToK+P0Up9ZIYNG2Yq+PabviMAAIg774zpo13vFcN6IFkPYtVq4bvvvit//fWXPPPMM5I5c2aX9QzoQ0pVr149mT17tvn+5s2b8tlnn0mzZs1k79695rMQNMx/8skncubMGVOh15az8FNBFSxY0IwhsatevbqEhYXJyZMnTWuODpbVC4FffvlFnn32WVPR1/Ae/t+Zc1uP3gAAjye7p7sZsKrtMuHpcl0PWDbAv/zyy+br22+/7Vjm5uYmOqW8fn306FHCHSGQjGiI1pYZu3nz5pm2FW2VadGihXTu3NmMD2nSpIlZrpV1nVY1LnLmzGmq91qFL1KkiKxbt062bt36BF4NAMCZTyZ3M9uMDlh1DvEa3qe08zPrAcsG+LNnzyb8kQAWpBes2j5z79492b17t6nCO8++dP78+QiPuXDhgly+fNnM1KS00q77KFWqlGObV199VTp27Cj58+eXYsWKSc2aNRPpFQFA6qZTRc7sWNEMWNWed22b0co74R2WD/AaUoDUSGd8sfeqawvNrFmzTKuMVsx19hcN51p11xma1q5dK6tWrYqwj4wZM0q3bt3kww8/NI/Rd7K0RUbbZ+y0gq+tN+PHj5exY8cm6msEgNROwzqBHSkuwCvt8Z0xY4acOHHC3NcPdOrfv7+pFgIplc4akydPHvO9DmItXbq0fPvtt/Lcc8+ZZQMGDDCfi6BBX1tqdBpJ/fRVZ9qC07ZtW2nevLncuHHDzCOvvfTOtCKvvfATJ06Url27JuIrBAAAyZ2bTRvX40g/gfWFF14ws2jY39rXD3U6cuSImTGjUaNGT+JYgVRFZ6PR+eV1ppu40Kq+9t/rjDThB9ACAIDkKS5/v+MV4CtWrGje4p88ebLLcv1Qm40bN8rBgwfjftQADP2He+zYMXMhrOE9rhfEBHgAAKwnLn+/4zUPvLbNaHUwPP2gGf0AGwDx16pVK2ncuLH06dOHd7MAAEDC9MDnyJFDDh8+LCVKlHBZrst0CjwA8ceUkQAAIMEDfO/eveW1116TP//803zqpL0HfsqUKTJw4MD47BIAAABALMSrB14fojPQ6AfU6HzWSue0Hjx4sJkST+fGBpA06IEHAMB6nvggVmdBQUGOKfUAJD0CPAAAKfvvd7zngbcjuAMAAACJJ14BXqeRjKxNRpfpp0zqB9Xoh9DUq1cvIY4RAAAAwONMI9m0aVMzgDVz5swmpOvN09PTfDqrfoT8lStXpGHDhvL999/HZ/cAAAAAErICHxAQIO+++675mHhn48ePl/Pnz5sPcxo1apSMGzfOzGkNAAAAIGHEaxCrNtgfOHDAtMo4O336tDzzzDOm+f6PP/4w1Xj7IFcAiYNBrAAAWM8T/yRW7XPfvXt3hOW6TNepsLAwx/cAAAAAkrCF5q233jIf865VeK2yq3379sm8efPkvffeM/c3bNggFSpUSKDDBAAAAPBY88AvWbJEZs2aJSdPnjT3S5UqZYJ9p06dzP179+45ZqUBkHhooQEAwHoS9YOcACQvBHgAAKzniffAq1u3bjlaZm7cuGGWHTx4UC5duhTfXQIAAAB4Ej3wR48eNfO861XCuXPn5NVXX5WsWbPKypUr5cKFC7J48eL47BYAAABADOJVgR84cKD5pNVTp0659Lg3b95ctm/fHp9dAgAAAHhSAV5nnHn99dcjLM+XL59cvXo1PrsEAAAA8KQCfIYMGUyjfXj/+c9/JEeOHPHZJQAAAIAnFeBfeOEFGTt2rDx48MDc1+kitffd399f2rVrF59dAgAAAHhSAX7atGkSHBwsOXPmNPO9161bV4oXLy5eXl4yYcKE+OwSAAAAwJOahUZnn9m0aZPs2rVLjhw5YsJ8pUqVzMw0AAAAAJJZgNdpIl966SWpWbOmudmFhobKsmXLpGvXrgl5jAAAAAAe55NY06ZNK1euXDEtNM7++ecfs+zRo0dx3SWABMInsQIAYD1P/JNYNfPrwNXw/vrrL/PEgBU899xz8s477yT1YQAAADy5FpqKFSua4K63Bg0aSLp0/3u4Vt3Pnj0rTZs2jdsRAHGgHyB269YtWb16tcvyrVu3Sr169eTmzZvi6+sbq33pJwenT58+Xsehn3egA7bXrl0rly5dMu88VahQwVwQ6L8NAIA1Bd4NlYDgULkd8kC8PdJL9szu4pPJPakPC4h/gG/durX5evjwYWnSpIl4eno61rm7u0vhwoWZRhKWkTVr1mjX65gO/b0O79y5c2bsh14ofPDBB/L000+bKVU3bNggffv2lT/++CNex6MXwXpxnCZNvN4YAwA8psu37on/iqOy41SAY1mdEtllcjs/yevrkaTHBsQ7wI8aNcp81aCug1gzZswYl4cDiUbHY/Tr10+2b99uqvLFihWT9957Tzp27OjSQqNV8xkzZjh+r3v16iWnTp0yFf62bdvKwoULI+z7zTffNEF77969kjlzZsfyp556Snr27Om4/9FHH8mCBQvkzz//NBcLLVu2lKlTpzoufHXfWrHXQeFDhw41H4R2+vRpyZMnjwwfPly+/vpr825DuXLlZMqUKeZ4AQBPrvIePryr7acCZOiKozKzY0Uq8Ug24lXq69atG+EdyVpISIg888wzpsXlt99+k9dee01eeeUVE7qj8+GHH0r58uXl0KFDMnLkyAjrb9y4IevXrzeVdufwbufcvqOV9E8++USOHz8uixYtkn//+98yZMgQl+3v3r1rwvm8efPMdtqKoxcee/bsMTM6HT16VF588UXTmqYXFpG5f/++GfjifAMAxI22zYQP784hXtcDlp5GUt/qnz59unzzzTfmE1i11SB8yAGelDVr1ri0b6nwMx/ly5dPBg0a5Lj/1ltvmRYX/Z2tWrVqlPuuX7++vPvuu1Gu1wq5DuIuXbp0jMfpPEBWq/vjx4+XPn36yGeffeZYrq03el8vGpT+e9KqvX7NmzevWaavQy8adPnEiRMjPM+kSZNkzJgxMR4PACBq2vMenaAY1gPJvgKvYUHbA7SNRqe6GThwoGk30Irj6NGjE/4oASc6WFXHYTjftIIdPtCPGzfO9Kdr+4oGfg3wGoyjU7ly5WjXx2XW1Z9//tkMaNWLCf2UYn0HQFt7tOpupz32fn5+jvvHjh0zx16yZElzzPbbtm3b5MyZM5E+z7Bhw8y/Q/vt4sWLsT5GAMB/eWeMflIDrxjWA8m+Ar9kyRKZO3eutGjRwgR27SvWHmMNIr/88ou8/fbbCX+kwP/T1pXixYtHmMLUmQ4u/fjjj01/u4Z4fYxWxMO/WxTZvqNTokQJ0/8e00BVHej6/PPPyxtvvGFmq9GLiJ07d5oeez2GTJkyme08PDxcpmTVTzXWz1k4cOCA+eos/LsOdhkyZDA3AED8Zfd0NwNWtV0mPF2u6wFLV+B1Cj0NRfZQoVU/pYFFe46BpLZr1y5p1aqVdOnSxbSnFC1a1AwSfVwaxHUGpk8//VTu3LkTYb0OOlUawMPCwmTatGny7LPPmor65cuXYzVVq1bgr127Zi5SnG+5c+d+7OMHAEROB6jqbDMa1p3p/Snt/BjACutX4PPnz28+ibVgwYKm8r5x40apVKmS7Nu3j0ogkgWtlH/33Xeye/duyZIli2n5+vvvv6Vs2bKPvW8N7zqNpPbSjx071rzz9PDhQ9m0aZPMnj1bTpw4YQK39rfPnDnTzD6jFxSff/55jPvWoN+5c2fp2rWrCf8a6K9fvy6bN282z6PvegEAngydKlJnm9EBq9rzrm0zWnknvCNFVODbtGljAoV9cKDO1qGBSUOH8zR6QFIZMWKEuajUarlOv6jVa/vnGDwureYfPHjQ9OLrgFed5rFRo0bm34QGeKVVf71o0BlmdL22nelg09jQwar6b0n3XapUKXPcenGsF8wAgCdLw3qxnJ5SoWAW85XwjuTIzRaXUXlR0L53rXRqiNdqI4Cko9NI+vj4mNY2b2/vpD4cAACQwH+/41WB10ri/PnzHfe1x1dnotG3+rXiCAAAAODJiFeAnzNnTqTzYOsnUcamzxcAAABAIs9Cox/3Hl6OHDnM4FYAAAAAySjAFyhQwMyqEZ4us396JAAAAIBkMo1k7969zYfi6DR5+tHzSmfgGDJkSLQfQw8AAAAgCQL84MGDzUfCv/nmm45PtsyYMaP4+/ubj3UHAAAAkAynkdSPfdcPrdGPg9cpJPkQJyDpMY0kAAAp++93vCrwdp6enlKlSpXH2QUAAACAJz2IFQAAAEDSIMADAAAAFkKABwAAACyEAA8AAABYCAEeAAAAsBACPAAAAGAhBHgAAADAQgjwAAAAgIUQ4AEAAAALIcADAAAAFkKABwAAACyEAA8AAABYCAEeAAAAsBACPAAAAGAhBHgAAADAQgjwAAAAgIUQ4AEAAAALIcAjRXFzc5PVq1dHub5w4cIyY8aMRD0mAACAhESAh2Vcv35d3njjDSlYsKBkyJBBcufOLU2aNJFdu3bFeh/79u2T11577bGP5fTp09KjRw/Jnz+/OZYiRYpIx44dZf/+/Y+9bwDAkxd4N1TOXAuWQxduypnrweY+YBXpkvoAgNhq166dhIaGyqJFi6Ro0aLy999/y+bNm+Wff/6J9T5y5Mjx2MehIb1BgwZSrlw5mTNnjpQuXVqCgoLk+++/l3fffVe2bdsWr/3qa3N3d3/s4wMARO/yrXviv+Ko7DgV4FhWp0R2mdzOT/L6eiTpsQGxQQUelnDr1i3ZsWOHTJkyRerVqyeFChWSqlWryrBhw+SFF16I8nGjRo2SPHnyyNGjRyNtodGWm3nz5kmbNm0kU6ZMUqJECfnhhx+i3J/NZpPu3bub7fR4WrRoIcWKFZMKFSqY59IQb+fv7y8lS5Y0+9ULjpEjR8qDBw8c60ePHm0ep8+vFfyMGTM6Xuurr75qLja8vb2lfv36cuTIkcc+hwCA/1bew4d3tf1UgAxdcZRKPCyBAA9L8PT0NDftb79//36M22vQfuutt2Tx4sUmaPv5+UW57ZgxY6RDhw4m5Ddv3lw6d+4sN27ciHTbw4cPy/Hjx02lPU2aiP98fH19Hd97eXnJwoUL5ffff5ePP/5Y5s6dK9OnT4/QirNixQpZuXKl2bd68cUX5dq1a7Ju3To5cOCAVKpUyVT8ozomPR+3b992uQEAIhcQHBohvDuHeF0PJHcEeFhCunTpTBjW9hkNyTVr1pT33nvPUVl39vDhQ+nSpYtpr9m5c6cUL1482n1rRV3713W7iRMnSnBwsOzduzfSbU+dOmW+attMTEaMGCE1atQwVf+WLVvKoEGD5JtvvonQNqMXGRUrVjQXGXq8+tzffvutVK5c2VT6P/zwQ/Oav/vuu0ifZ9KkSeLj4+O4FShQIMZjA4DU6nbI/94JjUxQDOuB5IAAD0v1wF++fNm0uDRt2lS2bt1qqtMa7J0NGDBAfv31V9m+fbvky5cvxv06V+czZ85s2la0Ah5VZT+2li9fbi40dLCtvnuggf7ChQsu22grkHNfvrbK6AVEtmzZHO866O3s2bNy5syZSJ9H24gCAwMdt4sXL8b6GAEgtfHOmD7a9V4xrAeSAwI8LEX7xBs1amT6yXfv3m2q59p77kzXX7p0STZs2BCrfaZP7/o/a+2LDwsLi3Rb7WlXf/zxR7T73LNnj2nF0ZacNWvWyKFDh2T48OGm4u5MLxicaXjXnn1tp3G+nTx5UgYPHhzpc+ksOHrR4XwDAEQuu6e7GbAaGV2u64HkjgAPSytbtqzcuXPHZZkOal26dKkZCLps2bIEfT4ddKrPOW3atEhDvg5AVXpxodV1De32Vpjz58/HuH99R+Hq1aumZUhbepxv2bNH/gcHABB7PpnczWwz4UO83p/Szs+sB5I7ppGEJehUkTq4s2fPnqblRQeI6nSOU6dOlVatWkXYXmeV+fLLL+WVV14xYbh9+/YJchxanV+wYIE0bNhQateubQK69sNr5fzHH3+UjRs3mmkkNbBru4xeQFSpUkXWrl0rq1atinH/ut/q1atL69atzWvTir+2Denj9TXpxQAA4PHoVJEzO1Y0A1a1513bZrTyTniHVRDgYQnaB16tWjUzi4v2gut0jDpYs3fv3mYwa2Q0tGuVXEO8zhjTtm3bBDkWnb5SLx4mTJhgnj8gIMC0veiAVfsUlfougPbi9+vXz8wSo9NNatuPTh0Z0wXCTz/9ZC4M9IOi9MOrtIe+Tp06kitXrgQ5fgDAfyvxBHZYlZstLqPyACR7Oo2kzkajA1rphwcAIOX9/aYHHgAAALAQAjwAAABgIQR4AAAAwEII8AAAAICFEOABAAAACyHAAwAAABZCgAcAAAAshAAPAAAAWAgBHgAAALAQAjwAAABgIQR4AAAAwEII8AAAAICFEOABAAAACyHAAwAAABZCgAcAAAAshAAPAAAAWAgBHgAAALAQAjwAAABgIQR4AAAAwEII8AAAAICFEOABAAAACyHAAwAAABZCgAcAAAAshAAPAAAAWAgBHgAAALAQAjwAAABgIQR4WJKbm5usXr1aUoLu3btL69atk/owADgJvBsqZ64Fy6ELN+XM9WBzHwCSCwI8nlgo1ZBtv2XLlk2aNm0qR48ejdN+Ro8eLRUqVEiw41q/fr1UrFhRPDw8JF++fPLmm28m6usBkPxdvnVP+n19SBp8tE3afLZbGkzbJm99fcgsB4DkgACPJ0YD7pUrV8xt8+bNki5dOnn++eeT7HhCQkKkbdu24ufnJ8eOHZO1a9fG6eIgub0eAAlPK+3+K47KjlMBLsu3nwqQoSuOUokHkCwQ4PHEZMiQQXLnzm1uGpSHDh0qFy9elOvXrzu28ff3l5IlS0qmTJmkaNGiMnLkSHnw4IFZt3DhQhkzZowcOXLEUfnWZXYBAQHSpk0b89gSJUrIDz/8EOMxpU2bVjp37izFixc3x/Taa68l6OvRC4P69eubCr9W6XX/wcHBjvWPHj2SgQMHiq+vr1k/ZMgQsdlsjvWLFy82y+/fv+/y3Npi88orr0R6XLrt7du3XW4A4icgODRCeHcO8boeAJIaAR6JQkPsV199ZYKzBlQ7Ly8vE8p///13+fjjj2Xu3Lkyffp0s+6ll16Sd999V5566ilH5VuX2Wm479Chg2ljad68uQnmN27ciPIYMmbMKE2aNDGhObrt4vt67ty5Y/afJUsW2bdvn3z77bfy888/S79+/RyPmzZtmnm98+fPl507d5rjWLVqlWP9iy++aEK+88XItWvXzLsFPXv2jPRYJk2aJD4+Po5bgQIFHuu1AanZ7ZD/FhCiEhTDegBIDAR4PDFr1qwRT09Pc9OgrqF0+fLlkibN/37tRowYITVq1JDChQtLy5YtZdCgQfLNN9+YdVrF1sdqq4q98q3LnPvSO3bsaEL0xIkTTajeu3dvlMejgf/QoUPSokULqVu3rly+fNmx7q233oqxHSam17N06VLTpqNV9HLlyplK/KxZs+TLL7+Uv//+22wzY8YMGTZsmGnlKVOmjHz++ecmdNvp6+vUqZMsWLDAsUwvFAoWLCjPPfdcpMel+wsMDHTc9F0BAPHjnTF9tOu9YlgPAIkhXaI8C1KlevXqyezZs833N2/elM8++0yaNWtmQnahQoXMcg3An3zyiZw5c8YE8IcPH4q3t3es9q+97HaZM2c2j9NqdWT0+bVSvXLlSlOt11aamjVrysaNG037jba+6LE9zus5ceKElC9f3hyLnT5HWFiYnDx50rwDoO8iVKtWzbFeL04qV67s0kbTu3dvqVKlily6dMkMtNWKvX0QbVStPXoD8Piye7pLnRLZTbtMeLpc1wNAUqMCjydGg6xWx/WmgXTevHmmzUTbZNSePXtM24sGaq1ua3V8+PDhEhoaux7T9OldK2EacDUsR0YDtPaK6ww0auzYsdKqVSupVauWfP311/LLL79Ily5dHuv1JBQ9Rr0Q0Er+gQMH5Pjx4ybAA3jyfDK5y+R2fiasO9P7U9r5mfUAkNSowCPRaMDWdpN79/47Fdvu3btN5VpDu9358+ddHuPu7m56wh+XVrLV9u3bHX302msfFBRkWlbefvttxzbxfT3aEqPVcg319ir8rl27zDalSpUyrTJ58uSRX3/9VerUqWPW6zsOGtIrVarksu9XX33VtNtoFb5hw4b0tQOJKK+vh8zsWNEMWNWed22b0co74R1AckEFHk+MVryvXr1qbtpeon3m2iajve5KW1cuXLggy5YtMy002krjPKBTaW/82bNn5fDhw2bWmfCzs8SWBuCXX35Z+vbtayrb+nw6FaR+1bCt/exRtd/E9vXouwnaJtOtWzf57bffZMuWLWYbnT0mV65cZpv+/fvL5MmTzYdQ/fHHH2Ye+lu3bkV4Lr2o+Ouvv0x1P6rBqwCeHA3rxXJ6SoWCWcxXwjuA5IQAjydGPzRJK856075v+8ws9sGYL7zwggwYMMDM0qLTMmpFXqeRdNauXTsz/7r2n+fIkcO0u8TXokWLzBSOEyZMMDPbvP7662Ywq1b9tTqux2Ovpsfn9eh0lhs2bDAzy2iLTfv27aVBgwZmIKudzqqjgV5DfvXq1c1gWJ0KMzw9Hn3tOmCWT2kFAADO3GzOo+cAJBsa/vVCQ9+ZiAudB14vAHRGmtgOCAYAAEkrLn+/6YEHkhmd4Wbr1q3mpjPdAAAAOCPAA8mMzkKjIX7KlClm8CsAAIAzAjyQzJw7dy6pDwEAACRjDGIFAAAALIQADwAAAFgIAR4AAACwEAI8AAAAYCEEeAAAAMBCCPAAAACAhRDgAQAAAAshwAMAAAAWQoAHAAAALIQADwAAAFgIAR4AAACwEAI8AAAAYCEEeAAAAMBCCPAAAACAhRDgAQAAAAshwAMAAAAWQoAHAAAALIQADwAAAFgIAR4AAACwEAI8AAAAYCEEeAAAAMBCCPAAAACAhRDggUicO3dO3Nzc5PDhw0l9KAAAAC4I8EgxunfvbkJ3nz59Iqzr27evWafbACrwbqicuRYshy7clDPXg819AACsIF1SHwCQkAoUKCDLli2T6dOni4eHh1kWEhIiS5culYIFCyb14SGZuHzrnvivOCo7TgU4ltUpkV0mt/OTvL7//b0BACC5ogKPFKVSpUomxK9cudKxTL/X8F6xYkXHsvXr10utWrXE19dXsmXLJs8//7ycOXMmyv0+evRIevbsKaVLl5YLFy6YZd9//715vowZM0rRokVlzJgx8vDhwyj3sXXrVvMuwK1btxzLtEVHl2nLjlq4cKE5ptWrV0uJEiXMvps0aSIXL1587HOD/9JKe/jwrrafCpChK45SiQcAJHsEeKQ4GrQXLFjguD9//nzp0aOHyzZ37tyRgQMHyv79+2Xz5s2SJk0aadOmjYSFhUXY3/379+XFF180YXvHjh3mYkC/du3aVfr37y+///67zJkzx4TvCRMmPPbx37171+xn8eLFsmvXLhP4X3755Si31+O7ffu2yw1RCwgOjRDenUO8rgcAIDkjwCPF6dKli+zcuVPOnz9vbhqCdZmzdu3aSdu2baV48eJSoUIFE/KPHTtmwriz4OBgadGihVy/fl22bNkiOXLkMMu12j506FDp1q2bqb43atRIxo0bZ4L843rw4IHMmjVLqlevLs8884wsWrRIdu/eLXv37o10+0mTJomPj4/jpu9AIGq3Qx5Euz4ohvUAACQ1AjxSHA3ZGrq1Iq6VeP0+e/bsLtucOnVKOnbsaMK3t7e3FC5c2Cy3t8fY6TZard+4caMJx3ZHjhyRsWPHiqenp+PWu3dvuXLliqmg60Ba53VxkS5dOqlSpYrjvrbtaFvNiRMnIt1+2LBhEhgY6LjRbhM974zpo13vFcN6AACSGoNYkWLbaPr162e+//TTTyOsb9mypRQqVEjmzp0refPmNa0z5cqVk9BQ1/aJ5s2by1dffSV79uyR+vXru1TmtQqvVfzwtG9dw/2gQYNclmubjrLZbC7V9seVIUMGc0PsZPd0NwNWtV0mPF2u6wEASM4I8EiRmjZtasK4DhDVQaDO/vnnHzl58qQJ77Vr1zbLtOUmMm+88YYJ9i+88IKsXbtW6tata5br4FXdh7bgRCZnzpzm5szefqNV+ixZspjvI5tnXgfCam9+1apVzX19Hu2DL1OmTDzOBMLzyeRuZpvRAavOIV7D+5R2fmY9AADJGQEeKVLatGkdLSf6vTMNzzrzzBdffCF58uQxbTPazx6Vt956y8xCozPVrFu3zsxe8/7775v7OqC1ffv2prqubTW//fabjB8/PtL9aNjX/vTRo0ebQar/+c9/ZNq0aRG2S58+vXnOTz75xLTT6DsJzz77rCPQ4/HpVJEzO1Y0A1a1513bZrTyTngHAFgBPfBIsbS3XW/hadjWueIPHDhgqusDBgyQDz74INp9vfPOO6ZlRltqdECpVvXXrFljeuO1X10Dts49r205UdFg/vXXX8sff/whfn5+MmXKlEjDfqZMmcTf3186deokNWvWND30y5cvj+dZQFQ0rBfL6SkVCmYxXwnvAACrcLM5N+QCSFI68FYvFpznio8rnUZSB9zqgNbILmAAAEDyE5e/31TgAQAAAAshwAMAAAAWQoAHkpHu3bs/VvsMAABI+QjwAAAAgIUQ4AEAAAALIcADAAAAFkKABwAAACyEAA8AAABYCAEeAAAAsBACPAAAAGAhBHgAAADAQgjwAAAAgIUQ4AEAAAALIcADAAAAFkKABwAAACyEAA8AAABYCAEeAAAAsBACPAAAAGAhBHgAAADAQgjwAAAAgIUQ4AEAAAALIcADAAAAFkKABwAAACyEAA8AAABYCAEeAAAAsJBUF+AXLlwovr6+SX0YlrB161Zxc3OTW7dumfucu//q3r27tG7dOqkPAwAApFJpkjoIaUDs06dPhHV9+/Y163SbhPTSSy/Jf/7zH0mu9u3bJzVr1pTMmTNLzpw5pX379vLw4cMYHzd69GhzvvSWLl06KVy4sAwYMECCg4NTxbmz/y7pzd3dXYoXLy5jx46N1blLala5MAq8GypnrgXLoQs35cz1YHMfAAAkvnSSxAoUKCDLli2T6dOni4eHh1kWEhIiS5culYIFCyb48+lz2J/nSXnw4IGkT58+3iG5ZMmSsn//fgkLCzNV8Nh66qmn5OeffzahddeuXdKzZ0+5e/euzJkzR1LDuWvatKksWLBA7t+/Lz/99JO5CNR9DRs2LMK2oaGhJugjdi7fuif+K47KjlMBjmV1SmSXye38JK/vk/2dAAAAyayFplKlSibEr1y50rFMv9fwXrFiRZdt169fL7Vq1TLVymzZssnzzz8vZ86ccaw/d+6cqcDq4+vVqyeZMmWS8uXLy549e6Ktdv74449SpUoVyZgxo2TPnl3atGnjWKf7W716tcv2+njdj/NzLl++XOrWrWv2sWTJErNu3rx5UqZMGbOsdOnS8tlnn8V4PtKkSSNt27Y1j9NAriFUK+qxodvlzp1b8ufPby4EOnfuLD/88INZpxcDkyZNkiJFipgQruflu+++c3m8hl69eND1ev70tTlL7ucuQ4YM5vUXKlRI3njjDWnYsKHj9dvbXiZMmCB58+aVUqVKmeXHjh2T+vXrm9esv1Ovvfaay7sWjx49koEDBzp+54YMGSI2m83lefXdjhkzZrgsq1ChgnlXxE7bkF5//XXJlSuXeU3lypWTNWvWmAu0Hj16SGBgoOMdBPvj9DWXKFHCbK+P03djkoJW2sOHd7X9VIAMXXGUSjwAAKktwCutFGvl1G7+/Pkm1IR3584dE6a0Or1582YTdjUwajh1Nnz4cBk0aJAcPnzYBNKOHTtG2Uqxdu1as4/mzZvLoUOHzH6rVq0a59cwdOhQ6d+/v5w4cUKaNGliguj7779vAqMumzhxoowcOVIWLVoU7X5atWol48ePjxCe40NDqVaalYb3xYsXy+effy7Hjx837TVdunSRbdu2mfUXL140Fw4tW7Y05+3VV181ryk6ye3cRff6lR7fyZMnZdOmTSY86++TPl+WLFlM69K3335r3sHo16+f4zHTpk0zFxz6O7lz5065ceOGrFq1Kk7Hob+fzZo1M++KfPXVV/L777/L5MmTJW3atFKjRg0T/r29veXKlSvmpr+7+jv+9ttvmzYgPWa9eK1Tp06k+9d3HG7fvu1yS0gBwaERwrtziNf1AAAgEdmSULdu3WytWrWyXbt2zZYhQwbbuXPnzC1jxoy269evm3W6TVR0G30Jx44dM/fPnj1r7s+bN8+xzfHjx82yEydOmPsLFiyw+fj4ONZXr17d1rlz5yifQx+7atUql2X6eN2P83POmDHDZZtixYrZli5d6rJs3Lhx5vmisnDhQlvWrFltkyZNshUsWNAcu92HH35oe+qpp6J87KhRo2zly5d33N+/f78te/bstvbt29tCQkJsmTJlsu3evdvlMb169bJ17NjRfD9s2DBb2bJlXdb7+/ub13bz5s1kf+7sv0sqLCzMtmnTJvM7NWjQIMf6XLly2e7fv+94zBdffGHLkiWLLTg42LFs7dq1tjRp0tiuXr1q7ufJk8c2depUx/oHDx7Y8ufP73guVahQIdv06dNdjkd/FvozURs2bDD7PHnyZKTHHv68qhUrVti8vb1tt2/ftsVEn0fPY/hbYGCgLSEcPH/DVsh/TZS3Q+dvJMjzAACQmgUGBsb673eS98CrHDlySIsWLUylU3Offq/tGOGdOnXKVGZ//fVXCQgIcFTeL1y4YFoS7Pz8/Bzf58mTx3y9du2aacUIT6vNvXv3fuzXULlyZcf3WtnV1p5evXq57FvfBfDx8Yn08fpatBI9btw4efPNN8050YqrVoqfffZZ0+pRu3btaI9Bt/H09DRtH1p51vM4a9YsOX36tOmFb9Sokcv2uo29TUkr3dWqVXNZX7169WifL7mcOzs9V/r6tY9ez2enTp1c2liefvppl753fc3aSqQDhu10ALE+Vqve2rqiFXHn86JtSnq84dtoYjpP2tak7wbFlv6stBWoaNGiprdfb/puh7aFhac9/vrOlJ1W4LUtLaF4Z4x+TIJXDOsBAEDCShYB3t5GY29d+PTTTyPdRts7NNTMnTvX9DFr0NLg7twmoZwHQWpPsQrfZmMX06BMfXz4sKYBMTznEGjvodbjDB+KtW0iMnqBcfXqVUeg1gAbFBRk+ri1H3zFihWmBSQ62tetPd8aMvX82MOqvR1HW17y5csXoW88vpLLubPTvv3Zs2eb162vP/zYAefnSUjayhXd64zPwF8vLy85ePCg6ZHfuHGjuXDVixFt9Qk/DkF/ho/zc4xJdk93M2BV22XC0+W6HgAApLIeeKUVRg3iGny0Lzm8f/75x1RFR4wYIQ0aNDADHG/evPnYz6vV+uiCsVbCtQrr/C6AVrOjowMONUD++eefZjpD55sOIo2M9mFr0Nu+fbtj2TvvvCP+/v6mh18HWsbUX26fPlEHVTpXmsuWLWsCnr5TEf547JVaPZ979+512d8vv/xiiXPnHNB1Ox0AHZuBv/qajxw5Yqr+dtqnroFcL4a04q/v4Og7Ps7vBBw4cCDa16kV8LNnz7qcp7/++ivKKTj1Z6XvmoSnr0Ev4KZOnSpHjx41F2L//ve/JbH5ZHI3s81oWHem96e08zPrAQBAKqzAa3VVWxrs30cWcHUWkC+++MKEKg2jMQ2yjI1Ro0aZC4JixYrJyy+/bAKazsaiwVlpcNY2FG0n0ZCly2MzzeGYMWPMIEQNgXpxogMNdWCiXnQ4tzvYacDWgZz6OG2T0MdoRV7bLzSY7tixw1zA2GdPiWs1VwdG6sBVfSdCZ/LRWU80rOrgyW7dupm5+HXA5uDBg80AVg2p9tlikvu5iy+dpUdfg75+rW5fv35d3nrrLXnllVfMhYTSn4kOONXZYLQF66OPPnJ8sJWdvk49V/oOkVbHtVru/DusM+xoO1S7du3M4/Ui448//jDvUOjr0wsufedBL4a0pUd//hrU9SJGH6e/+3pe9WcXn59/QtCpImd2rGgGrAaFPDBtM1p5J7wDAJAEbEnIeeBhZMIPYtWBiWXKlDGDE/38/Gxbt251GShpHxR56NAhx2N0AKYu27JlS7QDBitUqGBzd3c3Az/btm3rWHfp0iVb48aNbZkzZ7aVKFHC9tNPP0U6ENP5Oe2WLFni2K8OlqxTp45t5cqVUb7eR48e2T7//HNbuXLlzEBeHSzZv39/M1i3SZMmZnCnfh+bQazh6cBOHSxaqlQpW/r06W05cuQw+9y2bZtjmx9//NFWvHhxc35r165tmz9/frSDWJPTuYvpdymq9UePHrXVq1fPnG8dQNy7d29bUFCQy6BV/RnogFJfX1/bwIEDbV27dnXZlw42eemll8w2BQoUMIORnQexqn/++cfWo0cPW7Zs2cxz6c94zZo1jvV9+vQx6/R86ON27Nhhq1u3rnntHh4e5vd9+fLltoQeBAMAAJKHuPz9dtP/JMWFA4AnQ1t49N0LfZdF32EBAAAp6+93sumBBwAAABAzAjwAAABgIQR4AAAAwEII8AAAAICFEOABAAAACyHAAwAAABZCgAcAAAAshAAPAAAAWAgBHgAAALCQdEl9AAASlv3DlfUT3QAAgDXY/27b/45HhwAPpDBBQUHma4ECBZL6UAAAQDz+jvv4+ES7jZstNjEfgGWEhYXJ5cuXxcvLS9zc3JL6cJJNVUMvaC5evCje3t5JfTiWwDmLO85Z3HHO4ofzljLPmUZyDe958+aVNGmi73KnAg+kMPqPPn/+/El9GMmS/k87uf6PO7ninMUd5yzuOGfxw3lLeecspsq7HYNYAQAAAAshwAMAAAAWQoAHkOJlyJBBRo0aZb4idjhnccc5izvOWfxw3uIupZ0zBrECAAAAFkIFHgAAALAQAjwAAABgIQR4AAAAwEII8AAAAICFEOABWNrs2bPFz8/P8eEc1atXl3Xr1kX7mBkzZkipUqXEw8PDfDLfgAEDJCQkRFKLuJ6zBw8eyNixY6VYsWKSMWNGKV++vKxfv15Ss8mTJ5tPOn7nnXei3e7bb7+V0qVLm/P29NNPy08//SSpVWzO2fHjx6Vdu3ZSuHBhs63+W03NYnPO5s6dK7Vr15YsWbKYW8OGDWXv3r2SWk2OxTlbuXKlVK5cWXx9fSVz5sxSoUIF+fLLL8VKCPAALE0/dVb/h33gwAHZv3+/1K9fX1q1amWCQGSWLl0qQ4cONdOJnThxQv71r3/J8uXL5b333pPUIq7nbMSIETJnzhyZOXOm/P7779KnTx9p06aNHDp0SFKjffv2mfOhF0HR2b17t3Ts2FF69eplzlXr1q3N7bfffpPUJrbn7O7du1K0aFHz+5k7d25JzWJ7zrZu3Wp+z7Zs2SJ79uwxRYnGjRvLpUuXJLXZF8tzljVrVhk+fLg5X0ePHpUePXqY24YNGxLtWB+bTiMJAClJlixZbPPmzYt0Xd++fW3169d3WTZw4EBbzZo1balZdOcsT548tlmzZrksa9u2ra1z58621CYoKMhWokQJ26ZNm2x169a19e/fP8ptO3ToYGvRooXLsmrVqtlef/11W2oSl3PmrFChQrbp06fbUqP4njP18OFDm5eXl23RokW21CToMc6Zqlixom3EiBE2q6ACDyDFePTokSxbtkzu3Llj2kIiU6NGDVN5tr/F/Oeff5q2hubNm0tqFJtzdv/+fdMC4kzbj3bu3CmpTd++faVFixamTSEmWt0Lv12TJk3M8tQkLucMj3/O9F0MbXvTKnNq0jee50w/Dmnz5s1y8uRJqVOnjlhFuqQ+AAB4XMeOHTPhU/vYPT09ZdWqVVK2bNlIt+3UqZMEBARIrVq1zP+4Hz58aFpCUlMLTVzPmYbOjz76yPxx0z54/WOnPaQa/lMTvdA5ePCgeZs+Nq5evSq5cuVyWab3dXlqEddzhsc/Z/7+/pI3b95UdcG0LB7nLDAwUPLly2cKFGnTppXPPvtMGjVqJFZBBR6A5emA1MOHD8uvv/4qb7zxhnTr1s30akfVLzpx4kTzP2v9H74G0bVr18q4ceMkNYnLOfv444+lRIkSZjCmu7u79OvXz/SLpkmTev6EXLx4Ufr37y9LliyJ8G4EIsc5S/xzpmMHNMzqBXlqOecX43nOvLy8zP8DNfRPmDBBBg4caP4+WEZS9/AAQEJr0KCB7bXXXot0Xa1atWyDBg1yWfbll1/aPDw8bI8ePbKlVtGdM7t79+7Z/vrrL1tYWJhtyJAhtrJly9pSi1WrVtn0T2batGkdN73v5uZmvte+4/AKFCgQoYf7/ffft/n5+dlSg/ics9TeA/845+yDDz6w+fj42Pbt22dLTVY95u+ZXa9evWyNGze2WQUtNABSnLCwMPO2aFT9oeErx/r2qdKWmtQqunNmp9UtfctZ+2tXrFghHTp0kNSiQYMGpu3Imb4Loe9KaMuC/XfImbYoabuR83R2mzZtinKsQUoTn3OW2sX3nE2dOtVUkXUWFZ0eMTVpkEC/Z7H5f2ByQoAHYGnDhg2TZs2aScGCBSUoKMhME6lvg9qnA+vatasJnZMmTTL3W7Zsafq5K1asKNWqVZPTp0/LyJEjzfLUEijies60zUanpNO5kvXr6NGjzR+7IUOGSGqhb7eXK1fOZZnOH50tWzbH8vDnTd/Wr1u3rkybNs0MrtPWBp2284svvpDUID7nLDQ01NHKpd/r75u2Oeg4jeLFi0tKF59zNmXKFHn//ffNv2OdP98+xkLPmd5SOq94nDP9qhc6OqZHQ7tOZKDzwOtnZFgFAR6ApV27ds38z/nKlSvi4+Nj5v/VIGofjHThwgWXirvOaa4f8qFfNRzkyJHDhHetXqUWcT1nOtBVz5fO2KOBQGfs0T92+iEo+J/w501nPNJQpedOB0nrOILVq1dHCBupWfhzdvnyZXNxbffhhx+am14IWao/ORHPmYZOvdhp3769y3b6WRd6sQ2JcM501q0333xT/vrrLzOjllbrv/rqK3nppZfEKty0jyapDwIAAABA7KSeKQQAAACAFIAADwAAAFgIAR4AAACwEAI8AAAAYCEEeAAAAMBCCPAAAACAhRDgAQAAAAshwAMAAAAWQoAHAAAALIQADwBAMtG9e3dp3bp1Uh8GgGSOAA8AQAoTGhqa1IcA4AkiwAMAkMi+++47efrpp8XDw0OyZcsmDRs2lMGDB8uiRYvk+++/Fzc3N3PbunWr2d7f319KliwpmTJlkqJFi8rIkSPlwYMHjv2NHj1aKlSoIPPmzZMiRYpIxowZo3yeO3fuJNnrBpAw0iXQfgAAQCxcuXJFOnbsKFOnTpU2bdpIUFCQ7NixQ7p27SoXLlyQ27dvy4IFC8y2WbNmNV+9vLxk4cKFkjdvXjl27Jj07t3bLBsyZIhjv6dPn5YVK1bIypUrJW3atFE+j81mS7LXDiBhEOABAEhEGqwfPnwobdu2lUKFCpllWiVXWim/f/++5M6d2+UxI0aMcHxfuHBhGTRokCxbtswlwGvbzOLFiyVHjhzm/sGDB6N8HgDWRgsNAACJqHz58tKgQQMTpl988UWZO3eu3Lx5M9rHLF++XGrWrGmCvaenpwn0Wq13piHdHt7j+zwArIEADwBAItL2lk2bNsm6deukbNmyMnPmTClVqpScPXs20u337NkjnTt3lubNm8uaNWvk0KFDMnz48AgDVTNnzvxYzwPAOgjwAAAkMh2gqhX1MWPGmEDu7u4uq1atMl8fPXrksu3u3btNdV1De+XKlaVEiRJy/vz5x3oeANZGDzwAAIno119/lc2bN0vjxo0lZ86c5v7169elTJkyEhISIhs2bJCTJ0+aWWN8fHxMYNd2Ge15r1KliqxduzZWITy65wFgbQR4AAASkbe3t2zfvl1mzJhhZpzR6vq0adOkWbNmpsKuU0fq1+DgYNmyZYu88MILMmDAAOnXr58Z4NqiRQszjaROHRnf5wFgbW425pMCAAAALIMeeAAAAMBCCPAAAACAhRDgAQAAAAshwAMAAAAWQoAHAAAALIQADwAAAFgIAR4AAACwEAI8AAAAYCEEeAAAAMBCCPAAAACAhRDgAQAAALGO/wNIg71i/mylaAAAAABJRU5ErkJggg==",
      "text/plain": [
       "<Figure size 640x480 with 1 Axes>"
      ]
     },
     "metadata": {},
     "output_type": "display_data"
    }
   ],
   "source": [
    "sns.scatterplot(data=df_top_10, x='stars', y='category')\n",
    "plt.show()"
   ]
  },
  {
   "cell_type": "code",
   "execution_count": 71,
   "id": "c7e465cf-58b5-4883-8b43-39632c3ab7e0",
   "metadata": {},
   "outputs": [
    {
     "data": {
      "text/html": [
       "<div>\n",
       "<style scoped>\n",
       "    .dataframe tbody tr th:only-of-type {\n",
       "        vertical-align: middle;\n",
       "    }\n",
       "\n",
       "    .dataframe tbody tr th {\n",
       "        vertical-align: top;\n",
       "    }\n",
       "\n",
       "    .dataframe thead th {\n",
       "        text-align: right;\n",
       "    }\n",
       "</style>\n",
       "<table border=\"1\" class=\"dataframe\">\n",
       "  <thead>\n",
       "    <tr style=\"text-align: right;\">\n",
       "      <th></th>\n",
       "      <th>uid</th>\n",
       "      <th>stars</th>\n",
       "      <th>reviews</th>\n",
       "      <th>price</th>\n",
       "      <th>boughtInLastMonth</th>\n",
       "    </tr>\n",
       "  </thead>\n",
       "  <tbody>\n",
       "    <tr>\n",
       "      <th>uid</th>\n",
       "      <td>1.000000</td>\n",
       "      <td>0.031696</td>\n",
       "      <td>0.019994</td>\n",
       "      <td>0.008273</td>\n",
       "      <td>0.016336</td>\n",
       "    </tr>\n",
       "    <tr>\n",
       "      <th>stars</th>\n",
       "      <td>0.031696</td>\n",
       "      <td>1.000000</td>\n",
       "      <td>0.085808</td>\n",
       "      <td>-0.124907</td>\n",
       "      <td>0.112536</td>\n",
       "    </tr>\n",
       "    <tr>\n",
       "      <th>reviews</th>\n",
       "      <td>0.019994</td>\n",
       "      <td>0.085808</td>\n",
       "      <td>1.000000</td>\n",
       "      <td>-0.013171</td>\n",
       "      <td>0.104043</td>\n",
       "    </tr>\n",
       "    <tr>\n",
       "      <th>price</th>\n",
       "      <td>0.008273</td>\n",
       "      <td>-0.124907</td>\n",
       "      <td>-0.013171</td>\n",
       "      <td>1.000000</td>\n",
       "      <td>-0.023439</td>\n",
       "    </tr>\n",
       "    <tr>\n",
       "      <th>boughtInLastMonth</th>\n",
       "      <td>0.016336</td>\n",
       "      <td>0.112536</td>\n",
       "      <td>0.104043</td>\n",
       "      <td>-0.023439</td>\n",
       "      <td>1.000000</td>\n",
       "    </tr>\n",
       "  </tbody>\n",
       "</table>\n",
       "</div>"
      ],
      "text/plain": [
       "                        uid     stars   reviews     price  boughtInLastMonth\n",
       "uid                1.000000  0.031696  0.019994  0.008273           0.016336\n",
       "stars              0.031696  1.000000  0.085808 -0.124907           0.112536\n",
       "reviews            0.019994  0.085808  1.000000 -0.013171           0.104043\n",
       "price              0.008273 -0.124907 -0.013171  1.000000          -0.023439\n",
       "boughtInLastMonth  0.016336  0.112536  0.104043 -0.023439           1.000000"
      ]
     },
     "execution_count": 71,
     "metadata": {},
     "output_type": "execute_result"
    }
   ],
   "source": [
    "correlation_matrix = num.corr()\n",
    "correlation_matrix"
   ]
  },
  {
   "cell_type": "code",
   "execution_count": 79,
   "id": "ebb203fe-12bf-4acf-a75b-b5da09ef450a",
   "metadata": {},
   "outputs": [
    {
     "data": {
      "image/png": "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",
      "text/plain": [
       "<Figure size 640x480 with 2 Axes>"
      ]
     },
     "metadata": {},
     "output_type": "display_data"
    }
   ],
   "source": [
    "\n",
    "sns.heatmap(data=correlation_matrix, annot=True, cmap=\"coolwarm\", fmt=\".2f\")\n",
    "\n",
    "plt.show()"
   ]
  },
  {
   "cell_type": "code",
   "execution_count": 75,
   "id": "61aec53f-377f-4004-906c-71083fd7159d",
   "metadata": {},
   "outputs": [],
   "source": [
    "Q1 = df['price'].quantile(0.25)\n",
    "Q3 = df['price'].quantile(0.75)\n",
    "IQR = Q3 - Q1\n",
    "lower_bound = Q1 - 1.5 * IQR\n",
    "upper_bound = Q3 + 1.5 * IQR\n",
    "\n",
    "\n",
    "# Filter the DataFrame to remove outliers\n",
    "df= df[(df['price'] >= lower_bound) & (df['price'] <= upper_bound)]"
=======
   "execution_count": 38,
   "id": "a81ead7c-08df-457b-9756-dea1a311d40f",
   "metadata": {},
   "outputs": [],
   "source": [
    "highest_prices_nobest = highest_prices_nobest.head(5)"
>>>>>>> 1e8a2ad59fef94ce298a6740c5ed23aeb06d983c
   ]
  },
  {
   "cell_type": "code",
<<<<<<< HEAD
   "execution_count": 76,
   "id": "6c0b795c-6be2-4339-a6c9-796cb6ac7dfd",
   "metadata": {},
   "outputs": [
    {
     "data": {
      "image/png": "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",
=======
   "execution_count": 39,
   "id": "d13b764a-96c4-4643-afb1-3d99441ad6c1",
   "metadata": {},
   "outputs": [
    {
     "name": "stderr",
     "output_type": "stream",
     "text": [
      "C:\\Users\\Mirko\\AppData\\Local\\Temp\\ipykernel_16324\\1611763038.py:3: FutureWarning: \n",
      "\n",
      "Passing `palette` without assigning `hue` is deprecated and will be removed in v0.14.0. Assign the `y` variable to `hue` and set `legend=False` for the same effect.\n",
      "\n",
      "  sns.boxplot(data=highest_prices_nobest, x=\"price\", y=\"category\", palette=\"coolwarm\")\n"
     ]
    },
    {
     "data": {
      "image/png": "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",
>>>>>>> 1e8a2ad59fef94ce298a6740c5ed23aeb06d983c
      "text/plain": [
       "<Figure size 640x480 with 1 Axes>"
      ]
     },
     "metadata": {},
     "output_type": "display_data"
    }
   ],
   "source": [
<<<<<<< HEAD
    "import statsmodels.api as sm\n",
    "\n",
    "sm.qqplot(df['price'], line='s')\n",
=======
    "# Plotting a box plot to visualize the spread and outliers of 'price' and 'category', using the \"coolwarm\" color palette\n",
    "import seaborn as sns\n",
    "sns.boxplot(data=highest_prices_nobest, x=\"price\", y=\"category\", palette=\"coolwarm\")\n",
>>>>>>> 1e8a2ad59fef94ce298a6740c5ed23aeb06d983c
    "plt.show()"
   ]
  },
  {
   "cell_type": "code",
   "execution_count": null,
<<<<<<< HEAD
   "id": "41071dcf-6c89-41a7-bca8-17769a853c51",
=======
   "id": "89eb382b-a294-4c9a-bf1c-7c60882b6313",
>>>>>>> 1e8a2ad59fef94ce298a6740c5ed23aeb06d983c
   "metadata": {},
   "outputs": [],
   "source": []
  }
 ],
 "metadata": {
  "kernelspec": {
   "display_name": "Python 3 (ipykernel)",
   "language": "python",
   "name": "python3"
  },
  "language_info": {
   "codemirror_mode": {
    "name": "ipython",
    "version": 3
   },
   "file_extension": ".py",
   "mimetype": "text/x-python",
   "name": "python",
   "nbconvert_exporter": "python",
   "pygments_lexer": "ipython3",
   "version": "3.13.2"
  }
 },
 "nbformat": 4,
 "nbformat_minor": 5
}
