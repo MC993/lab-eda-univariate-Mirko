{
 "cells": [
  {
   "cell_type": "code",
   "execution_count": 1,
   "id": "182e22fa-d685-4377-a31f-eca7369d3241",
   "metadata": {},
   "outputs": [],
   "source": [
    "#importing all required libraries\n",
    "import pandas as pd\n",
    "import numpy as np\n",
    "import matplotlib as plt"
   ]
  },
  {
   "cell_type": "code",
   "execution_count": 2,
   "id": "96663a15-ace5-44ce-a2ff-fe847c56d25f",
   "metadata": {},
   "outputs": [],
   "source": [
    "data = pd.read_csv('/Users/Mirko/Desktop/Data_Science/IH_Notebooks/lab-eda-univariate-Mirko/amz_uk_price_prediction_dataset.csv')\n",
    "df = data.copy()"
   ]
  },
  {
   "cell_type": "code",
   "execution_count": 3,
   "id": "cc931e3f-7354-40d4-8c53-95a64392d094",
   "metadata": {},
   "outputs": [
    {
     "data": {
      "text/html": [
       "<div>\n",
       "<style scoped>\n",
       "    .dataframe tbody tr th:only-of-type {\n",
       "        vertical-align: middle;\n",
       "    }\n",
       "\n",
       "    .dataframe tbody tr th {\n",
       "        vertical-align: top;\n",
       "    }\n",
       "\n",
       "    .dataframe thead th {\n",
       "        text-align: right;\n",
       "    }\n",
       "</style>\n",
       "<table border=\"1\" class=\"dataframe\">\n",
       "  <thead>\n",
       "    <tr style=\"text-align: right;\">\n",
       "      <th></th>\n",
       "      <th>uid</th>\n",
       "      <th>asin</th>\n",
       "      <th>title</th>\n",
       "      <th>stars</th>\n",
       "      <th>reviews</th>\n",
       "      <th>price</th>\n",
       "      <th>isBestSeller</th>\n",
       "      <th>boughtInLastMonth</th>\n",
       "      <th>category</th>\n",
       "    </tr>\n",
       "  </thead>\n",
       "  <tbody>\n",
       "    <tr>\n",
       "      <th>0</th>\n",
       "      <td>1</td>\n",
       "      <td>B09B96TG33</td>\n",
       "      <td>Echo Dot (5th generation, 2022 release) | Big ...</td>\n",
       "      <td>4.7</td>\n",
       "      <td>15308</td>\n",
       "      <td>21.99</td>\n",
       "      <td>False</td>\n",
       "      <td>0</td>\n",
       "      <td>Hi-Fi Speakers</td>\n",
       "    </tr>\n",
       "    <tr>\n",
       "      <th>1</th>\n",
       "      <td>2</td>\n",
       "      <td>B01HTH3C8S</td>\n",
       "      <td>Anker Soundcore mini, Super-Portable Bluetooth...</td>\n",
       "      <td>4.7</td>\n",
       "      <td>98099</td>\n",
       "      <td>23.99</td>\n",
       "      <td>True</td>\n",
       "      <td>0</td>\n",
       "      <td>Hi-Fi Speakers</td>\n",
       "    </tr>\n",
       "    <tr>\n",
       "      <th>2</th>\n",
       "      <td>3</td>\n",
       "      <td>B09B8YWXDF</td>\n",
       "      <td>Echo Dot (5th generation, 2022 release) | Big ...</td>\n",
       "      <td>4.7</td>\n",
       "      <td>15308</td>\n",
       "      <td>21.99</td>\n",
       "      <td>False</td>\n",
       "      <td>0</td>\n",
       "      <td>Hi-Fi Speakers</td>\n",
       "    </tr>\n",
       "  </tbody>\n",
       "</table>\n",
       "</div>"
      ],
      "text/plain": [
       "   uid        asin                                              title  stars  \\\n",
       "0    1  B09B96TG33  Echo Dot (5th generation, 2022 release) | Big ...    4.7   \n",
       "1    2  B01HTH3C8S  Anker Soundcore mini, Super-Portable Bluetooth...    4.7   \n",
       "2    3  B09B8YWXDF  Echo Dot (5th generation, 2022 release) | Big ...    4.7   \n",
       "\n",
       "   reviews  price  isBestSeller  boughtInLastMonth        category  \n",
       "0    15308  21.99         False                  0  Hi-Fi Speakers  \n",
       "1    98099  23.99          True                  0  Hi-Fi Speakers  \n",
       "2    15308  21.99         False                  0  Hi-Fi Speakers  "
      ]
     },
     "execution_count": 3,
     "metadata": {},
     "output_type": "execute_result"
    }
   ],
   "source": [
    "df.head(3)"
   ]
  },
  {
   "cell_type": "code",
   "execution_count": 4,
   "id": "52c04f78-a321-481a-870e-0de595bd9842",
   "metadata": {},
   "outputs": [],
   "source": [
    "#creating a categorical and numerical value to better work on cat and num columns only\n",
    "cat = df.select_dtypes(exclude=\"number\")\n",
    "num = df.select_dtypes(include=\"number\")"
   ]
  },
  {
   "cell_type": "code",
   "execution_count": 5,
   "id": "c4af6d7b-cac9-45d7-8683-cb4e1cfb0ef2",
   "metadata": {},
   "outputs": [
    {
     "data": {
      "text/html": [
       "<div>\n",
       "<style scoped>\n",
       "    .dataframe tbody tr th:only-of-type {\n",
       "        vertical-align: middle;\n",
       "    }\n",
       "\n",
       "    .dataframe tbody tr th {\n",
       "        vertical-align: top;\n",
       "    }\n",
       "\n",
       "    .dataframe thead th {\n",
       "        text-align: right;\n",
       "    }\n",
       "</style>\n",
       "<table border=\"1\" class=\"dataframe\">\n",
       "  <thead>\n",
       "    <tr style=\"text-align: right;\">\n",
       "      <th>category</th>\n",
       "      <th>3D Printers</th>\n",
       "      <th>3D Printing &amp; Scanning</th>\n",
       "      <th>Abrasive &amp; Finishing Products</th>\n",
       "      <th>Action Cameras</th>\n",
       "      <th>Adapters</th>\n",
       "      <th>Agricultural Equipment &amp; Supplies</th>\n",
       "      <th>Alexa Built-In Devices</th>\n",
       "      <th>Art &amp; Craft Supplies</th>\n",
       "      <th>Arts &amp; Crafts</th>\n",
       "      <th>Baby</th>\n",
       "      <th>...</th>\n",
       "      <th>Uninterruptible Power Supply Units &amp; Accessories</th>\n",
       "      <th>Vacuums &amp; Floorcare</th>\n",
       "      <th>Vases</th>\n",
       "      <th>Water Coolers, Filters &amp; Cartridges</th>\n",
       "      <th>Wearable Technology</th>\n",
       "      <th>Wind Instruments</th>\n",
       "      <th>Window Treatments</th>\n",
       "      <th>Women</th>\n",
       "      <th>Women's Sports &amp; Outdoor Shoes</th>\n",
       "      <th>eBook Readers &amp; Accessories</th>\n",
       "    </tr>\n",
       "    <tr>\n",
       "      <th>isBestSeller</th>\n",
       "      <th></th>\n",
       "      <th></th>\n",
       "      <th></th>\n",
       "      <th></th>\n",
       "      <th></th>\n",
       "      <th></th>\n",
       "      <th></th>\n",
       "      <th></th>\n",
       "      <th></th>\n",
       "      <th></th>\n",
       "      <th></th>\n",
       "      <th></th>\n",
       "      <th></th>\n",
       "      <th></th>\n",
       "      <th></th>\n",
       "      <th></th>\n",
       "      <th></th>\n",
       "      <th></th>\n",
       "      <th></th>\n",
       "      <th></th>\n",
       "      <th></th>\n",
       "    </tr>\n",
       "  </thead>\n",
       "  <tbody>\n",
       "    <tr>\n",
       "      <th>False</th>\n",
       "      <td>247</td>\n",
       "      <td>4065</td>\n",
       "      <td>245</td>\n",
       "      <td>1696</td>\n",
       "      <td>251</td>\n",
       "      <td>8421</td>\n",
       "      <td>106</td>\n",
       "      <td>253</td>\n",
       "      <td>9319</td>\n",
       "      <td>14709</td>\n",
       "      <td>...</td>\n",
       "      <td>3652</td>\n",
       "      <td>6919</td>\n",
       "      <td>250</td>\n",
       "      <td>186</td>\n",
       "      <td>8876</td>\n",
       "      <td>243</td>\n",
       "      <td>234</td>\n",
       "      <td>17559</td>\n",
       "      <td>1939</td>\n",
       "      <td>246</td>\n",
       "    </tr>\n",
       "    <tr>\n",
       "      <th>True</th>\n",
       "      <td>1</td>\n",
       "      <td>2</td>\n",
       "      <td>5</td>\n",
       "      <td>1</td>\n",
       "      <td>3</td>\n",
       "      <td>109</td>\n",
       "      <td>1</td>\n",
       "      <td>5</td>\n",
       "      <td>230</td>\n",
       "      <td>341</td>\n",
       "      <td>...</td>\n",
       "      <td>1</td>\n",
       "      <td>26</td>\n",
       "      <td>0</td>\n",
       "      <td>1</td>\n",
       "      <td>30</td>\n",
       "      <td>7</td>\n",
       "      <td>5</td>\n",
       "      <td>213</td>\n",
       "      <td>20</td>\n",
       "      <td>0</td>\n",
       "    </tr>\n",
       "  </tbody>\n",
       "</table>\n",
       "<p>2 rows × 296 columns</p>\n",
       "</div>"
      ],
      "text/plain": [
       "category      3D Printers  3D Printing & Scanning  \\\n",
       "isBestSeller                                        \n",
       "False                 247                    4065   \n",
       "True                    1                       2   \n",
       "\n",
       "category      Abrasive & Finishing Products  Action Cameras  Adapters  \\\n",
       "isBestSeller                                                            \n",
       "False                                   245            1696       251   \n",
       "True                                      5               1         3   \n",
       "\n",
       "category      Agricultural Equipment & Supplies  Alexa Built-In Devices  \\\n",
       "isBestSeller                                                              \n",
       "False                                      8421                     106   \n",
       "True                                        109                       1   \n",
       "\n",
       "category      Art & Craft Supplies  Arts & Crafts   Baby  ...  \\\n",
       "isBestSeller                                              ...   \n",
       "False                          253           9319  14709  ...   \n",
       "True                             5            230    341  ...   \n",
       "\n",
       "category      Uninterruptible Power Supply Units & Accessories  \\\n",
       "isBestSeller                                                     \n",
       "False                                                     3652   \n",
       "True                                                         1   \n",
       "\n",
       "category      Vacuums & Floorcare  Vases  Water Coolers, Filters & Cartridges  \\\n",
       "isBestSeller                                                                    \n",
       "False                        6919    250                                  186   \n",
       "True                           26      0                                    1   \n",
       "\n",
       "category      Wearable Technology  Wind Instruments  Window Treatments  Women  \\\n",
       "isBestSeller                                                                    \n",
       "False                        8876               243                234  17559   \n",
       "True                           30                 7                  5    213   \n",
       "\n",
       "category      Women's Sports & Outdoor Shoes  eBook Readers & Accessories  \n",
       "isBestSeller                                                               \n",
       "False                                   1939                          246  \n",
       "True                                      20                            0  \n",
       "\n",
       "[2 rows x 296 columns]"
      ]
     },
     "execution_count": 5,
     "metadata": {},
     "output_type": "execute_result"
    }
   ],
   "source": [
    "#creating a crosstab between isBestSeller and category\n",
    "\n",
    "crosstab_result = pd.crosstab(df['isBestSeller'], df['category'])\n",
    "crosstab_result"
   ]
  },
  {
   "cell_type": "code",
   "execution_count": 6,
   "id": "b63a7098-5954-4fb5-8399-fd5bd3661499",
   "metadata": {},
   "outputs": [
    {
     "data": {
      "text/html": [
       "<div>\n",
       "<style scoped>\n",
       "    .dataframe tbody tr th:only-of-type {\n",
       "        vertical-align: middle;\n",
       "    }\n",
       "\n",
       "    .dataframe tbody tr th {\n",
       "        vertical-align: top;\n",
       "    }\n",
       "\n",
       "    .dataframe thead th {\n",
       "        text-align: right;\n",
       "    }\n",
       "</style>\n",
       "<table border=\"1\" class=\"dataframe\">\n",
       "  <thead>\n",
       "    <tr style=\"text-align: right;\">\n",
       "      <th>category</th>\n",
       "      <th>3D Printers</th>\n",
       "      <th>3D Printing &amp; Scanning</th>\n",
       "      <th>Abrasive &amp; Finishing Products</th>\n",
       "      <th>Action Cameras</th>\n",
       "      <th>Adapters</th>\n",
       "      <th>Agricultural Equipment &amp; Supplies</th>\n",
       "      <th>Alexa Built-In Devices</th>\n",
       "      <th>Art &amp; Craft Supplies</th>\n",
       "      <th>Arts &amp; Crafts</th>\n",
       "      <th>Baby</th>\n",
       "      <th>...</th>\n",
       "      <th>Uninterruptible Power Supply Units &amp; Accessories</th>\n",
       "      <th>Vacuums &amp; Floorcare</th>\n",
       "      <th>Vases</th>\n",
       "      <th>Water Coolers, Filters &amp; Cartridges</th>\n",
       "      <th>Wearable Technology</th>\n",
       "      <th>Wind Instruments</th>\n",
       "      <th>Window Treatments</th>\n",
       "      <th>Women</th>\n",
       "      <th>Women's Sports &amp; Outdoor Shoes</th>\n",
       "      <th>eBook Readers &amp; Accessories</th>\n",
       "    </tr>\n",
       "    <tr>\n",
       "      <th>isBestSeller</th>\n",
       "      <th></th>\n",
       "      <th></th>\n",
       "      <th></th>\n",
       "      <th></th>\n",
       "      <th></th>\n",
       "      <th></th>\n",
       "      <th></th>\n",
       "      <th></th>\n",
       "      <th></th>\n",
       "      <th></th>\n",
       "      <th></th>\n",
       "      <th></th>\n",
       "      <th></th>\n",
       "      <th></th>\n",
       "      <th></th>\n",
       "      <th></th>\n",
       "      <th></th>\n",
       "      <th></th>\n",
       "      <th></th>\n",
       "      <th></th>\n",
       "      <th></th>\n",
       "    </tr>\n",
       "  </thead>\n",
       "  <tbody>\n",
       "    <tr>\n",
       "      <th>False</th>\n",
       "      <td>0.000101</td>\n",
       "      <td>0.001669</td>\n",
       "      <td>0.000101</td>\n",
       "      <td>0.000696</td>\n",
       "      <td>0.000103</td>\n",
       "      <td>0.003457</td>\n",
       "      <td>0.000044</td>\n",
       "      <td>0.000104</td>\n",
       "      <td>0.003826</td>\n",
       "      <td>0.006039</td>\n",
       "      <td>...</td>\n",
       "      <td>0.001499</td>\n",
       "      <td>0.002841</td>\n",
       "      <td>0.000103</td>\n",
       "      <td>0.000076</td>\n",
       "      <td>0.003644</td>\n",
       "      <td>0.000100</td>\n",
       "      <td>0.000096</td>\n",
       "      <td>0.007209</td>\n",
       "      <td>0.000796</td>\n",
       "      <td>0.000101</td>\n",
       "    </tr>\n",
       "    <tr>\n",
       "      <th>True</th>\n",
       "      <td>0.000125</td>\n",
       "      <td>0.000251</td>\n",
       "      <td>0.000627</td>\n",
       "      <td>0.000125</td>\n",
       "      <td>0.000376</td>\n",
       "      <td>0.013659</td>\n",
       "      <td>0.000125</td>\n",
       "      <td>0.000627</td>\n",
       "      <td>0.028822</td>\n",
       "      <td>0.042732</td>\n",
       "      <td>...</td>\n",
       "      <td>0.000125</td>\n",
       "      <td>0.003258</td>\n",
       "      <td>0.000000</td>\n",
       "      <td>0.000125</td>\n",
       "      <td>0.003759</td>\n",
       "      <td>0.000877</td>\n",
       "      <td>0.000627</td>\n",
       "      <td>0.026692</td>\n",
       "      <td>0.002506</td>\n",
       "      <td>0.000000</td>\n",
       "    </tr>\n",
       "  </tbody>\n",
       "</table>\n",
       "<p>2 rows × 296 columns</p>\n",
       "</div>"
      ],
      "text/plain": [
       "category      3D Printers  3D Printing & Scanning  \\\n",
       "isBestSeller                                        \n",
       "False            0.000101                0.001669   \n",
       "True             0.000125                0.000251   \n",
       "\n",
       "category      Abrasive & Finishing Products  Action Cameras  Adapters  \\\n",
       "isBestSeller                                                            \n",
       "False                              0.000101        0.000696  0.000103   \n",
       "True                               0.000627        0.000125  0.000376   \n",
       "\n",
       "category      Agricultural Equipment & Supplies  Alexa Built-In Devices  \\\n",
       "isBestSeller                                                              \n",
       "False                                  0.003457                0.000044   \n",
       "True                                   0.013659                0.000125   \n",
       "\n",
       "category      Art & Craft Supplies  Arts & Crafts      Baby  ...  \\\n",
       "isBestSeller                                                 ...   \n",
       "False                     0.000104       0.003826  0.006039  ...   \n",
       "True                      0.000627       0.028822  0.042732  ...   \n",
       "\n",
       "category      Uninterruptible Power Supply Units & Accessories  \\\n",
       "isBestSeller                                                     \n",
       "False                                                 0.001499   \n",
       "True                                                  0.000125   \n",
       "\n",
       "category      Vacuums & Floorcare     Vases  \\\n",
       "isBestSeller                                  \n",
       "False                    0.002841  0.000103   \n",
       "True                     0.003258  0.000000   \n",
       "\n",
       "category      Water Coolers, Filters & Cartridges  Wearable Technology  \\\n",
       "isBestSeller                                                             \n",
       "False                                    0.000076             0.003644   \n",
       "True                                     0.000125             0.003759   \n",
       "\n",
       "category      Wind Instruments  Window Treatments     Women  \\\n",
       "isBestSeller                                                  \n",
       "False                 0.000100           0.000096  0.007209   \n",
       "True                  0.000877           0.000627  0.026692   \n",
       "\n",
       "category      Women's Sports & Outdoor Shoes  eBook Readers & Accessories  \n",
       "isBestSeller                                                               \n",
       "False                               0.000796                     0.000101  \n",
       "True                                0.002506                     0.000000  \n",
       "\n",
       "[2 rows x 296 columns]"
      ]
     },
     "execution_count": 6,
     "metadata": {},
     "output_type": "execute_result"
    }
   ],
   "source": [
    "#creating a result cross tab variable to start building a bar chart\n",
    "\n",
    "result = pd.crosstab(df['isBestSeller'], df['category'], normalize='index')\n",
    "result"
   ]
  },
  {
   "cell_type": "code",
   "execution_count": 7,
   "id": "141fd82e-5d6e-4e26-bfe5-4e76d8ac0435",
   "metadata": {},
   "outputs": [],
   "source": [
    "best_seller_result = result.loc[True]  # Select only the best-seller row\n",
    "best_seller_result = best_seller_result[best_seller_result > 0.02]  # Keep only values > 0.02"
   ]
  },
  {
   "cell_type": "code",
   "execution_count": 8,
   "id": "d9b4d008-16e6-43f8-9a1b-1f6f727ee407",
   "metadata": {},
   "outputs": [
    {
     "ename": "AttributeError",
     "evalue": "module 'matplotlib' has no attribute 'show'",
     "output_type": "error",
     "traceback": [
      "\u001b[1;31m---------------------------------------------------------------------------\u001b[0m",
      "\u001b[1;31mAttributeError\u001b[0m                            Traceback (most recent call last)",
      "Cell \u001b[1;32mIn[8], line 3\u001b[0m\n\u001b[0;32m      1\u001b[0m \u001b[38;5;66;03m# no stacked\u001b[39;00m\n\u001b[0;32m      2\u001b[0m best_seller_result\u001b[38;5;241m.\u001b[39mplot(kind\u001b[38;5;241m=\u001b[39m\u001b[38;5;124m'\u001b[39m\u001b[38;5;124mbar\u001b[39m\u001b[38;5;124m'\u001b[39m)\n\u001b[1;32m----> 3\u001b[0m \u001b[43mplt\u001b[49m\u001b[38;5;241;43m.\u001b[39;49m\u001b[43mshow\u001b[49m()\n",
      "File \u001b[1;32m~\\AppData\\Local\\Programs\\Python\\Python313\\Lib\\site-packages\\matplotlib\\_api\\__init__.py:218\u001b[0m, in \u001b[0;36mcaching_module_getattr.<locals>.__getattr__\u001b[1;34m(name)\u001b[0m\n\u001b[0;32m    216\u001b[0m \u001b[38;5;28;01mif\u001b[39;00m name \u001b[38;5;129;01min\u001b[39;00m props:\n\u001b[0;32m    217\u001b[0m     \u001b[38;5;28;01mreturn\u001b[39;00m props[name]\u001b[38;5;241m.\u001b[39m\u001b[38;5;21m__get__\u001b[39m(instance)\n\u001b[1;32m--> 218\u001b[0m \u001b[38;5;28;01mraise\u001b[39;00m \u001b[38;5;167;01mAttributeError\u001b[39;00m(\n\u001b[0;32m    219\u001b[0m     \u001b[38;5;124mf\u001b[39m\u001b[38;5;124m\"\u001b[39m\u001b[38;5;124mmodule \u001b[39m\u001b[38;5;132;01m{\u001b[39;00m\u001b[38;5;28mcls\u001b[39m\u001b[38;5;241m.\u001b[39m\u001b[38;5;18m__module__\u001b[39m\u001b[38;5;132;01m!r}\u001b[39;00m\u001b[38;5;124m has no attribute \u001b[39m\u001b[38;5;132;01m{\u001b[39;00mname\u001b[38;5;132;01m!r}\u001b[39;00m\u001b[38;5;124m\"\u001b[39m)\n",
      "\u001b[1;31mAttributeError\u001b[0m: module 'matplotlib' has no attribute 'show'"
     ]
    },
    {
     "data": {
      "image/png": "[encoded data removed]",
      "text/plain": [
       "<Figure size 640x480 with 1 Axes>"
      ]
     },
     "metadata": {},
     "output_type": "display_data"
    }
   ],
   "source": [
    "# no stacked\n",
    "best_seller_result.plot(kind='bar')\n",
    "plt.show()"
   ]
  },
  {
   "cell_type": "markdown",
   "id": "14b711ea-2bd0-4b90-b120-1b5e13dec7fe",
   "metadata": {},
   "source": [
    "During this crosstab analysis I had to refine our parameters multiple times as I wanted to tune pitch the chart results to only show valuable information.\n",
    "\n",
    "The chart now only contains the proportion of the categories greater than 0.02% which are also best sellers.\n",
    "\n",
    "Looking at the graph we can confirm that the categories with higher proportions of being best sellers is **Grocery** followed by **Health & Personal care**.\n",
    "These 2 reach together roughly 0.13% proportion of the best sellers."
   ]
  },
  {
   "cell_type": "code",
   "execution_count": 9,
   "id": "012ac362-77d0-49d7-b83a-243bb8a991bd",
   "metadata": {},
   "outputs": [
    {
     "name": "stdout",
     "output_type": "stream",
     "text": [
      "Requirement already satisfied: scipy in c:\\users\\mirko\\appdata\\local\\programs\\python\\python313\\lib\\site-packages (1.15.2)\n",
      "Requirement already satisfied: numpy<2.5,>=1.23.5 in c:\\users\\mirko\\appdata\\local\\programs\\python\\python313\\lib\\site-packages (from scipy) (2.2.3)\n"
     ]
    }
   ],
   "source": [
    "#running a chi-square test to determine whether a best seller is dependent on the category\n",
    "\n",
    "!pip install scipy\n",
    "import scipy.stats as st\n",
    "from scipy.stats import chi2_contingency"
   ]
  },
  {
   "cell_type": "code",
   "execution_count": 10,
   "id": "19c85d30-c50f-4a97-9ea2-7f1517e5335e",
   "metadata": {},
   "outputs": [],
   "source": [
    "chi_crosstab = pd.crosstab(df['isBestSeller'], df['category'])"
   ]
  },
  {
   "cell_type": "code",
   "execution_count": 11,
   "id": "b11cd984-d60b-4a92-9083-0c7a43b9f774",
   "metadata": {},
   "outputs": [],
   "source": [
    "# Chi-square test for isBestSeller and category\n",
    "_, chi2_pvalue, _, _ = chi2_contingency(chi_crosstab)"
   ]
  },
  {
   "cell_type": "code",
   "execution_count": 12,
   "id": "58e145e9-8477-47ac-a0f0-663b8d794e5f",
   "metadata": {},
   "outputs": [
    {
     "data": {
      "text/plain": [
       "np.float64(0.0)"
      ]
     },
     "execution_count": 12,
     "metadata": {},
     "output_type": "execute_result"
    }
   ],
   "source": [
    "chi2_pvalue"
   ]
  },
  {
   "cell_type": "markdown",
   "id": "8bacb014-4057-4a4e-8fd2-0f1452cd01af",
   "metadata": {},
   "source": [
    "The chi-square test reveals that **there's a strong dependency** between best sellers and categories."
   ]
  },
  {
   "cell_type": "code",
   "execution_count": 13,
   "id": "a435a469-fa7a-4ec7-93be-e083e56267aa",
   "metadata": {},
   "outputs": [
    {
     "data": {
      "text/plain": [
       "0.1222829439760564"
      ]
     },
     "execution_count": 13,
     "metadata": {},
     "output_type": "execute_result"
    }
   ],
   "source": [
    "#using Cramer's V test to see how strong the dependency is.\n",
    "\n",
    "from scipy.stats.contingency import association\n",
    "\n",
    "association(chi_crosstab, method='cramer')"
   ]
  },
  {
   "cell_type": "markdown",
   "id": "1438f7c4-5ee4-474c-aa73-0a0771858d1b",
   "metadata": {},
   "source": [
    "Although the chi-square test resulted into a 0 (strong dependency) the Cramer's test resulted into 0.12 which shows a weak relationship.\n",
    "Considering Cramer's test we can assume there must be a stronger relationship in the dataset."
   ]
  },
  {
   "cell_type": "code",
   "execution_count": 14,
   "id": "e63aebfc-654e-41e5-844a-12a5f5249c7a",
   "metadata": {},
   "outputs": [
    {
     "data": {
      "text/html": [
       "<div>\n",
       "<style scoped>\n",
       "    .dataframe tbody tr th:only-of-type {\n",
       "        vertical-align: middle;\n",
       "    }\n",
       "\n",
       "    .dataframe tbody tr th {\n",
       "        vertical-align: top;\n",
       "    }\n",
       "\n",
       "    .dataframe thead th {\n",
       "        text-align: right;\n",
       "    }\n",
       "</style>\n",
       "<table border=\"1\" class=\"dataframe\">\n",
       "  <thead>\n",
       "    <tr style=\"text-align: right;\">\n",
       "      <th>category</th>\n",
       "      <th>Beauty</th>\n",
       "      <th>Hair Care</th>\n",
       "      <th>Luggage and travel gear</th>\n",
       "      <th>Manicure &amp; Pedicure Products</th>\n",
       "      <th>Men</th>\n",
       "      <th>Skin Care</th>\n",
       "      <th>Sports &amp; Outdoors</th>\n",
       "      <th>Women</th>\n",
       "    </tr>\n",
       "    <tr>\n",
       "      <th>isBestSeller</th>\n",
       "      <th></th>\n",
       "      <th></th>\n",
       "      <th></th>\n",
       "      <th></th>\n",
       "      <th></th>\n",
       "      <th></th>\n",
       "      <th></th>\n",
       "      <th></th>\n",
       "    </tr>\n",
       "  </thead>\n",
       "  <tbody>\n",
       "    <tr>\n",
       "      <th>False</th>\n",
       "      <td>0.007805</td>\n",
       "      <td>0.007663</td>\n",
       "      <td>0.007409</td>\n",
       "      <td>0.007752</td>\n",
       "      <td>0.007081</td>\n",
       "      <td>0.007682</td>\n",
       "      <td>0.343205</td>\n",
       "      <td>0.007209</td>\n",
       "    </tr>\n",
       "    <tr>\n",
       "      <th>True</th>\n",
       "      <td>0.037845</td>\n",
       "      <td>0.008772</td>\n",
       "      <td>0.011905</td>\n",
       "      <td>0.007268</td>\n",
       "      <td>0.021178</td>\n",
       "      <td>0.007268</td>\n",
       "      <td>0.041353</td>\n",
       "      <td>0.026692</td>\n",
       "    </tr>\n",
       "  </tbody>\n",
       "</table>\n",
       "</div>"
      ],
      "text/plain": [
       "category        Beauty  Hair Care  Luggage and travel gear  \\\n",
       "isBestSeller                                                 \n",
       "False         0.007805   0.007663                 0.007409   \n",
       "True          0.037845   0.008772                 0.011905   \n",
       "\n",
       "category      Manicure & Pedicure Products       Men  Skin Care  \\\n",
       "isBestSeller                                                      \n",
       "False                             0.007752  0.007081   0.007682   \n",
       "True                              0.007268  0.021178   0.007268   \n",
       "\n",
       "category      Sports & Outdoors     Women  \n",
       "isBestSeller                               \n",
       "False                  0.343205  0.007209  \n",
       "True                   0.041353  0.026692  "
      ]
     },
     "execution_count": 14,
     "metadata": {},
     "output_type": "execute_result"
    }
   ],
   "source": [
    "filtered_result = result.loc[:, (result > 0.007).all(axis=0)]\n",
    "filtered_result"
   ]
  },
  {
   "cell_type": "code",
   "execution_count": 15,
   "id": "06b311bf-256b-410c-849d-40a35e51af2c",
   "metadata": {},
   "outputs": [
    {
     "data": {
      "image/png": "[encoded data removed]",
      "text/plain": [
       "<Figure size 640x480 with 1 Axes>"
      ]
     },
     "metadata": {},
     "output_type": "display_data"
    }
   ],
   "source": [
    "import matplotlib.pyplot as plt\n",
    "filtered_result.plot(kind='bar', stacked= True)\n",
    "plt.show()"
   ]
  },
  {
   "cell_type": "markdown",
   "id": "5d6d912f-0bfe-463f-a28b-ae1e2c4b3c4b",
   "metadata": {},
   "source": [
    "The above graph shows the market proportion by taking into consideration both best sellers and not."
   ]
  },
  {
   "cell_type": "code",
   "execution_count": 16,
   "id": "1db77dff-9e52-458d-82bb-1ac6bd99de17",
   "metadata": {},
   "outputs": [
    {
     "data": {
      "text/html": [
       "<div>\n",
       "<style scoped>\n",
       "    .dataframe tbody tr th:only-of-type {\n",
       "        vertical-align: middle;\n",
       "    }\n",
       "\n",
       "    .dataframe tbody tr th {\n",
       "        vertical-align: top;\n",
       "    }\n",
       "\n",
       "    .dataframe thead th {\n",
       "        text-align: right;\n",
       "    }\n",
       "</style>\n",
       "<table border=\"1\" class=\"dataframe\">\n",
       "  <thead>\n",
       "    <tr style=\"text-align: right;\">\n",
       "      <th></th>\n",
       "      <th>uid</th>\n",
       "      <th>asin</th>\n",
       "      <th>title</th>\n",
       "      <th>stars</th>\n",
       "      <th>reviews</th>\n",
       "      <th>price</th>\n",
       "      <th>isBestSeller</th>\n",
       "      <th>boughtInLastMonth</th>\n",
       "      <th>category</th>\n",
       "    </tr>\n",
       "  </thead>\n",
       "  <tbody>\n",
       "    <tr>\n",
       "      <th>2008013</th>\n",
       "      <td>2259336</td>\n",
       "      <td>B091F5Y3CT</td>\n",
       "      <td>HB FBA Test Treadmill</td>\n",
       "      <td>0.0</td>\n",
       "      <td>0</td>\n",
       "      <td>100000.00</td>\n",
       "      <td>False</td>\n",
       "      <td>0</td>\n",
       "      <td>Sports &amp; Outdoors</td>\n",
       "    </tr>\n",
       "    <tr>\n",
       "      <th>1987238</th>\n",
       "      <td>2235317</td>\n",
       "      <td>B0CDVKNBRV</td>\n",
       "      <td>Générique L.A 350° - I5 11400F - RTX 3050 8G -...</td>\n",
       "      <td>0.0</td>\n",
       "      <td>0</td>\n",
       "      <td>77752.00</td>\n",
       "      <td>False</td>\n",
       "      <td>0</td>\n",
       "      <td>Desktop PCs</td>\n",
       "    </tr>\n",
       "    <tr>\n",
       "      <th>1905315</th>\n",
       "      <td>2136904</td>\n",
       "      <td>B0CJSNFYVM</td>\n",
       "      <td>Abaodam decor christmas ornaments Desk Ornamen...</td>\n",
       "      <td>0.0</td>\n",
       "      <td>0</td>\n",
       "      <td>24674.59</td>\n",
       "      <td>False</td>\n",
       "      <td>0</td>\n",
       "      <td>Garden Storage &amp; Housing</td>\n",
       "    </tr>\n",
       "    <tr>\n",
       "      <th>1408966</th>\n",
       "      <td>1551117</td>\n",
       "      <td>B0CHT331TN</td>\n",
       "      <td>BM4445-FI1-01200R10-03-E03 Driver</td>\n",
       "      <td>0.0</td>\n",
       "      <td>0</td>\n",
       "      <td>23482.73</td>\n",
       "      <td>False</td>\n",
       "      <td>0</td>\n",
       "      <td>Scanners &amp; Accessories</td>\n",
       "    </tr>\n",
       "    <tr>\n",
       "      <th>319555</th>\n",
       "      <td>340285</td>\n",
       "      <td>B0CHYG6MNW</td>\n",
       "      <td>HEDUSA Halloween 3D Holographic Fan 3D Hologra...</td>\n",
       "      <td>0.0</td>\n",
       "      <td>0</td>\n",
       "      <td>22933.42</td>\n",
       "      <td>False</td>\n",
       "      <td>0</td>\n",
       "      <td>Projectors</td>\n",
       "    </tr>\n",
       "    <tr>\n",
       "      <th>...</th>\n",
       "      <td>...</td>\n",
       "      <td>...</td>\n",
       "      <td>...</td>\n",
       "      <td>...</td>\n",
       "      <td>...</td>\n",
       "      <td>...</td>\n",
       "      <td>...</td>\n",
       "      <td>...</td>\n",
       "      <td>...</td>\n",
       "    </tr>\n",
       "    <tr>\n",
       "      <th>1025782</th>\n",
       "      <td>1134431</td>\n",
       "      <td>B0BL8LQCHZ</td>\n",
       "      <td>4 in 1 Bundle Off the Grid Survival Book, Prep...</td>\n",
       "      <td>4.3</td>\n",
       "      <td>5</td>\n",
       "      <td>0.00</td>\n",
       "      <td>False</td>\n",
       "      <td>0</td>\n",
       "      <td>Sports &amp; Outdoors</td>\n",
       "    </tr>\n",
       "    <tr>\n",
       "      <th>547321</th>\n",
       "      <td>590132</td>\n",
       "      <td>B005KKRRVK</td>\n",
       "      <td>Kensuke’s Kingdom</td>\n",
       "      <td>4.7</td>\n",
       "      <td>4565</td>\n",
       "      <td>0.00</td>\n",
       "      <td>False</td>\n",
       "      <td>0</td>\n",
       "      <td>PC &amp; Video Games</td>\n",
       "    </tr>\n",
       "    <tr>\n",
       "      <th>547507</th>\n",
       "      <td>590332</td>\n",
       "      <td>B09WRXGQZL</td>\n",
       "      <td>Faith, Hope and Carnage</td>\n",
       "      <td>4.7</td>\n",
       "      <td>546</td>\n",
       "      <td>0.00</td>\n",
       "      <td>False</td>\n",
       "      <td>0</td>\n",
       "      <td>PC &amp; Video Games</td>\n",
       "    </tr>\n",
       "    <tr>\n",
       "      <th>1531995</th>\n",
       "      <td>1726672</td>\n",
       "      <td>B07YGP8442</td>\n",
       "      <td>100 Years of Leeds United</td>\n",
       "      <td>4.8</td>\n",
       "      <td>1349</td>\n",
       "      <td>0.00</td>\n",
       "      <td>False</td>\n",
       "      <td>0</td>\n",
       "      <td>Sports &amp; Outdoors</td>\n",
       "    </tr>\n",
       "    <tr>\n",
       "      <th>1696245</th>\n",
       "      <td>1910119</td>\n",
       "      <td>B07VHSVDTY</td>\n",
       "      <td>How Not to Diet: The Groundbreaking Science of...</td>\n",
       "      <td>4.7</td>\n",
       "      <td>6187</td>\n",
       "      <td>0.00</td>\n",
       "      <td>False</td>\n",
       "      <td>0</td>\n",
       "      <td>Sports Supplements</td>\n",
       "    </tr>\n",
       "  </tbody>\n",
       "</table>\n",
       "<p>2443651 rows × 9 columns</p>\n",
       "</div>"
      ],
      "text/plain": [
       "             uid        asin  \\\n",
       "2008013  2259336  B091F5Y3CT   \n",
       "1987238  2235317  B0CDVKNBRV   \n",
       "1905315  2136904  B0CJSNFYVM   \n",
       "1408966  1551117  B0CHT331TN   \n",
       "319555    340285  B0CHYG6MNW   \n",
       "...          ...         ...   \n",
       "1025782  1134431  B0BL8LQCHZ   \n",
       "547321    590132  B005KKRRVK   \n",
       "547507    590332  B09WRXGQZL   \n",
       "1531995  1726672  B07YGP8442   \n",
       "1696245  1910119  B07VHSVDTY   \n",
       "\n",
       "                                                     title  stars  reviews  \\\n",
       "2008013                              HB FBA Test Treadmill    0.0        0   \n",
       "1987238  Générique L.A 350° - I5 11400F - RTX 3050 8G -...    0.0        0   \n",
       "1905315  Abaodam decor christmas ornaments Desk Ornamen...    0.0        0   \n",
       "1408966                  BM4445-FI1-01200R10-03-E03 Driver    0.0        0   \n",
       "319555   HEDUSA Halloween 3D Holographic Fan 3D Hologra...    0.0        0   \n",
       "...                                                    ...    ...      ...   \n",
       "1025782  4 in 1 Bundle Off the Grid Survival Book, Prep...    4.3        5   \n",
       "547321                                   Kensuke’s Kingdom    4.7     4565   \n",
       "547507                             Faith, Hope and Carnage    4.7      546   \n",
       "1531995                          100 Years of Leeds United    4.8     1349   \n",
       "1696245  How Not to Diet: The Groundbreaking Science of...    4.7     6187   \n",
       "\n",
       "             price  isBestSeller  boughtInLastMonth                  category  \n",
       "2008013  100000.00         False                  0         Sports & Outdoors  \n",
       "1987238   77752.00         False                  0               Desktop PCs  \n",
       "1905315   24674.59         False                  0  Garden Storage & Housing  \n",
       "1408966   23482.73         False                  0    Scanners & Accessories  \n",
       "319555    22933.42         False                  0                Projectors  \n",
       "...            ...           ...                ...                       ...  \n",
       "1025782       0.00         False                  0         Sports & Outdoors  \n",
       "547321        0.00         False                  0          PC & Video Games  \n",
       "547507        0.00         False                  0          PC & Video Games  \n",
       "1531995       0.00         False                  0         Sports & Outdoors  \n",
       "1696245       0.00         False                  0        Sports Supplements  \n",
       "\n",
       "[2443651 rows x 9 columns]"
      ]
     },
     "execution_count": 16,
     "metadata": {},
     "output_type": "execute_result"
    }
   ],
   "source": [
    "highest_prices_bestsell = df.sort_values(by='price', ascending= False)\n",
    "highest_prices_bestsell"
   ]
  },
  {
   "cell_type": "code",
   "execution_count": 17,
   "id": "68ad72f5-c1fc-4fcc-8731-0ef472b37cf3",
   "metadata": {},
   "outputs": [],
   "source": [
    "highest_prices_nobest = highest_prices_bestsell.copy()"
   ]
  },
  {
   "cell_type": "code",
   "execution_count": 18,
   "id": "02912a9e-dac8-4cf4-90dc-c23bba8bfcbd",
   "metadata": {},
   "outputs": [],
   "source": [
    "highest_prices_bestsell = highest_prices_bestsell.loc[(highest_prices_bestsell['isBestSeller']) == True]\n",
    "highest_prices_nobest = highest_prices_nobest.loc[(highest_prices_nobest['isBestSeller']) == False]"
   ]
  },
  {
   "cell_type": "code",
   "execution_count": 19,
   "id": "3c3a6a52-2fc1-4243-a947-3c8f2933dc70",
   "metadata": {},
   "outputs": [
    {
     "data": {
      "text/plain": [
       "np.float64(22.665729323308273)"
      ]
     },
     "execution_count": 19,
     "metadata": {},
     "output_type": "execute_result"
    }
   ],
   "source": [
    "avg_price_bestsell = highest_prices_bestsell['price'].mean()\n",
    "avg_price_bestsell"
   ]
  },
  {
   "cell_type": "code",
   "execution_count": 20,
   "id": "223ab0cb-70f0-4e0a-967d-f2bb4f04539e",
   "metadata": {},
   "outputs": [
    {
     "data": {
      "text/plain": [
       "np.float64(89.46193950660854)"
      ]
     },
     "execution_count": 20,
     "metadata": {},
     "output_type": "execute_result"
    }
   ],
   "source": [
    "avg_price_nobest = highest_prices_nobest['price'].mean()\n",
    "avg_price_nobest"
   ]
  },
  {
   "cell_type": "markdown",
   "id": "92bc1989-f6cc-484c-a3c6-dff3cdef24fa",
   "metadata": {},
   "source": [
    "Looking into the average prices of the best sellers and not we can already see there's a wide difference.\n",
    "This suggests that products with higher prices aren't as purchased as the ones with lower price.\n",
    "\n",
    "We are going to take out the outliers and see how the prices behave once these are taken out."
   ]
  },
  {
   "cell_type": "code",
   "execution_count": 21,
   "id": "41ac23e9-4c97-40f5-9515-85102d6ab71e",
   "metadata": {},
   "outputs": [
    {
     "data": {
      "text/plain": [
       "np.float64(12.5)"
      ]
     },
     "execution_count": 21,
     "metadata": {},
     "output_type": "execute_result"
    }
   ],
   "source": [
    "median_bestsell = highest_prices_bestsell['price'].median()\n",
    "median_bestsell"
   ]
  },
  {
   "cell_type": "code",
   "execution_count": 22,
   "id": "f97299ab-2663-433a-be9b-7d539ac6047e",
   "metadata": {},
   "outputs": [
    {
     "data": {
      "text/plain": [
       "np.float64(19.15)"
      ]
     },
     "execution_count": 22,
     "metadata": {},
     "output_type": "execute_result"
    }
   ],
   "source": [
    "median_nobest = highest_prices_nobest['price'].median()\n",
    "median_nobest"
   ]
  },
  {
   "cell_type": "code",
   "execution_count": 27,
   "id": "635d3766-677f-4b8e-8a3e-31aece644da4",
   "metadata": {},
   "outputs": [],
   "source": [
    "highest_prices_bestsell = highest_prices_bestsell.loc[(highest_prices_bestsell['price']) < 23.0]"
   ]
  },
  {
   "cell_type": "code",
   "execution_count": 28,
   "id": "bc5b0485-440a-49b4-8576-104331ded2bf",
   "metadata": {},
   "outputs": [],
   "source": [
    "highest_prices_nobest = highest_prices_nobest.loc[(highest_prices_nobest['price']) < 90.0]"
   ]
  },
  {
   "cell_type": "code",
   "execution_count": 30,
   "id": "e2dd9dbb-12d3-457f-be8b-bebcb26cff16",
   "metadata": {},
   "outputs": [],
   "source": [
    "highest_prices_bestsell = highest_prices_bestsell.sort_values(by='price', ascending= False) "
   ]
  },
  {
   "cell_type": "code",
   "execution_count": 34,
   "id": "4f3da6b0-e972-460c-9819-d7cc0c1a0305",
   "metadata": {},
   "outputs": [],
   "source": [
    "highest_prices_bestsell = highest_prices_bestsell.head(5)"
   ]
  },
  {
   "cell_type": "code",
   "execution_count": 35,
   "id": "cc45f102-a613-44d8-bf80-7e4760b9c74b",
   "metadata": {},
   "outputs": [
    {
     "name": "stderr",
     "output_type": "stream",
     "text": [
      "C:\\Users\\Mirko\\AppData\\Local\\Temp\\ipykernel_16324\\992775221.py:3: FutureWarning: \n",
      "\n",
      "Passing `palette` without assigning `hue` is deprecated and will be removed in v0.14.0. Assign the `y` variable to `hue` and set `legend=False` for the same effect.\n",
      "\n",
      "  sns.boxplot(data=highest_prices_bestsell, x=\"price\", y=\"category\", palette=\"coolwarm\")\n"
     ]
    },
    {
     "data": {
      "image/png": "[encoded data removed]",
      "text/plain": [
       "<Figure size 640x480 with 1 Axes>"
      ]
     },
     "metadata": {},
     "output_type": "display_data"
    }
   ],
   "source": [
    "# Plotting a box plot to visualize the spread and outliers of 'price' and 'category', using the \"coolwarm\" color palette\n",
    "import seaborn as sns\n",
    "sns.boxplot(data=highest_prices_bestsell, x=\"price\", y=\"category\", palette=\"coolwarm\")\n",
    "plt.show()"
   ]
  },
  {
   "cell_type": "code",
   "execution_count": 37,
   "id": "bb6fc0d6-1e53-4f17-9942-0b8c2842f057",
   "metadata": {},
   "outputs": [],
   "source": [
    "highest_prices_nobest = highest_prices_nobest.sort_values(by='price', ascending= False)"
   ]
  },
  {
   "cell_type": "code",
   "execution_count": 38,
   "id": "a81ead7c-08df-457b-9756-dea1a311d40f",
   "metadata": {},
   "outputs": [],
   "source": [
    "highest_prices_nobest = highest_prices_nobest.head(5)"
   ]
  },
  {
   "cell_type": "code",
   "execution_count": 39,
   "id": "d13b764a-96c4-4643-afb1-3d99441ad6c1",
   "metadata": {},
   "outputs": [
    {
     "name": "stderr",
     "output_type": "stream",
     "text": [
      "C:\\Users\\Mirko\\AppData\\Local\\Temp\\ipykernel_16324\\1611763038.py:3: FutureWarning: \n",
      "\n",
      "Passing `palette` without assigning `hue` is deprecated and will be removed in v0.14.0. Assign the `y` variable to `hue` and set `legend=False` for the same effect.\n",
      "\n",
      "  sns.boxplot(data=highest_prices_nobest, x=\"price\", y=\"category\", palette=\"coolwarm\")\n"
     ]
    },
    {
     "data": {
      "image/png": "[encoded data removed]",
      "text/plain": [
       "<Figure size 640x480 with 1 Axes>"
      ]
     },
     "metadata": {},
     "output_type": "display_data"
    }
   ],
   "source": [
    "# Plotting a box plot to visualize the spread and outliers of 'price' and 'category', using the \"coolwarm\" color palette\n",
    "import seaborn as sns\n",
    "sns.boxplot(data=highest_prices_nobest, x=\"price\", y=\"category\", palette=\"coolwarm\")\n",
    "plt.show()"
   ]
  },
  {
   "cell_type": "code",
   "execution_count": null,
   "id": "89eb382b-a294-4c9a-bf1c-7c60882b6313",
   "metadata": {},
   "outputs": [],
   "source": []
  }
 ],
 "metadata": {
  "kernelspec": {
   "display_name": "Python 3 (ipykernel)",
   "language": "python",
   "name": "python3"
  },
  "language_info": {
   "codemirror_mode": {
    "name": "ipython",
    "version": 3
   },
   "file_extension": ".py",
   "mimetype": "text/x-python",
   "name": "python",
   "nbconvert_exporter": "python",
   "pygments_lexer": "ipython3",
   "version": "3.13.2"
  }
 },
 "nbformat": 4,
 "nbformat_minor": 5
}
